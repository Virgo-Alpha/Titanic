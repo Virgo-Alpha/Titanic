{
  "cells": [
    {
      "cell_type": "code",
      "execution_count": null,
      "metadata": {
        "id": "BcA_XtQJgKYv"
      },
      "outputs": [],
      "source": [
        "\n",
        "# IMPORTANT: RUN THIS CELL IN ORDER TO IMPORT YOUR KAGGLE DATA SOURCES\n",
        "# TO THE CORRECT LOCATION (/kaggle/input) IN YOUR NOTEBOOK,\n",
        "# THEN FEEL FREE TO DELETE THIS CELL.\n",
        "# NOTE: THIS NOTEBOOK ENVIRONMENT DIFFERS FROM KAGGLE'S PYTHON\n",
        "# ENVIRONMENT SO THERE MAY BE MISSING LIBRARIES USED BY YOUR\n",
        "# NOTEBOOK.\n",
        "\n",
        "import os\n",
        "import sys\n",
        "from tempfile import NamedTemporaryFile\n",
        "from urllib.request import urlopen\n",
        "from urllib.parse import unquote, urlparse\n",
        "from urllib.error import HTTPError\n",
        "from zipfile import ZipFile\n",
        "import tarfile\n",
        "import shutil\n",
        "\n",
        "CHUNK_SIZE = 40960\n",
        "DATA_SOURCE_MAPPING = 'titanic:https%3A%2F%2Fstorage.googleapis.com%2Fkaggle-competitions-data%2Fkaggle-v2%2F3136%2F26502%2Fbundle%2Farchive.zip%3FX-Goog-Algorithm%3DGOOG4-RSA-SHA256%26X-Goog-Credential%3Dgcp-kaggle-com%2540kaggle-161607.iam.gserviceaccount.com%252F20240124%252Fauto%252Fstorage%252Fgoog4_request%26X-Goog-Date%3D20240124T124449Z%26X-Goog-Expires%3D259200%26X-Goog-SignedHeaders%3Dhost%26X-Goog-Signature%3D02bd8edd546fbf5976d1da075acee7987859e17c8e9ab3cefa52cc51581812089e29aa24fb637a9dcc34b12a96b4fd214393dff06fcab74952e01568d5faf3bdcd5524730423f489add567cb62407d812aaebf01185c905bd7fb1ff02e3bdd0cf29d4e3e297d371766de3c5edd2ab77f4458901cd3e1cdb34442f66c93d09492c87fdc0382557331a0e79aa8809c47fc3aa64c73c17e53889f8522876affb691fea6ea20f6698d59233fc39630707963d459946af801b5477ccf89e94983c7a2d6ce4cae7823874287c0d1eb5f93b99c8926fbca74082dcdd4ca5d7fb7b504707f5b11f73a0ba5f59ec5c93c6cbf2a21fc967d018d2b092b710a08a315b0ed01'\n",
        "\n",
        "KAGGLE_INPUT_PATH='/kaggle/input'\n",
        "KAGGLE_WORKING_PATH='/kaggle/working'\n",
        "KAGGLE_SYMLINK='kaggle'\n",
        "\n",
        "!umount /kaggle/input/ 2> /dev/null\n",
        "shutil.rmtree('/kaggle/input', ignore_errors=True)\n",
        "os.makedirs(KAGGLE_INPUT_PATH, 0o777, exist_ok=True)\n",
        "os.makedirs(KAGGLE_WORKING_PATH, 0o777, exist_ok=True)\n",
        "\n",
        "try:\n",
        "  os.symlink(KAGGLE_INPUT_PATH, os.path.join(\"..\", 'input'), target_is_directory=True)\n",
        "except FileExistsError:\n",
        "  pass\n",
        "try:\n",
        "  os.symlink(KAGGLE_WORKING_PATH, os.path.join(\"..\", 'working'), target_is_directory=True)\n",
        "except FileExistsError:\n",
        "  pass\n",
        "\n",
        "for data_source_mapping in DATA_SOURCE_MAPPING.split(','):\n",
        "    directory, download_url_encoded = data_source_mapping.split(':')\n",
        "    download_url = unquote(download_url_encoded)\n",
        "    filename = urlparse(download_url).path\n",
        "    destination_path = os.path.join(KAGGLE_INPUT_PATH, directory)\n",
        "    try:\n",
        "        with urlopen(download_url) as fileres, NamedTemporaryFile() as tfile:\n",
        "            total_length = fileres.headers['content-length']\n",
        "            print(f'Downloading {directory}, {total_length} bytes compressed')\n",
        "            dl = 0\n",
        "            data = fileres.read(CHUNK_SIZE)\n",
        "            while len(data) > 0:\n",
        "                dl += len(data)\n",
        "                tfile.write(data)\n",
        "                done = int(50 * dl / int(total_length))\n",
        "                sys.stdout.write(f\"\\r[{'=' * done}{' ' * (50-done)}] {dl} bytes downloaded\")\n",
        "                sys.stdout.flush()\n",
        "                data = fileres.read(CHUNK_SIZE)\n",
        "            if filename.endswith('.zip'):\n",
        "              with ZipFile(tfile) as zfile:\n",
        "                zfile.extractall(destination_path)\n",
        "            else:\n",
        "              with tarfile.open(tfile.name) as tarfile:\n",
        "                tarfile.extractall(destination_path)\n",
        "            print(f'\\nDownloaded and uncompressed: {directory}')\n",
        "    except HTTPError as e:\n",
        "        print(f'Failed to load (likely expired) {download_url} to path {destination_path}')\n",
        "        continue\n",
        "    except OSError as e:\n",
        "        print(f'Failed to load {download_url} to path {destination_path}')\n",
        "        continue\n",
        "\n",
        "print('Data source import complete.')\n"
      ]
    },
    {
      "cell_type": "markdown",
      "metadata": {
        "id": "kL1mapw2gKY1"
      },
      "source": [
        "# Titanic competition with TensorFlow Decision Forests\n",
        "\n",
        "This notebook will take you through the steps needed to train a baseline Gradient Boosted Trees Model using TensorFlow Decision Forests and creating a submission on the Titanic competition.\n",
        "\n",
        "This notebook shows:\n",
        "\n",
        "1. How to do some basic pre-processing. For example, the passenger names will be tokenized, and ticket names will be splitted in parts.\n",
        "1. How to train a Gradient Boosted Trees (GBT) with default parameters\n",
        "1. How to train a GBT with improved default parameters\n",
        "1. How to tune the parameters of a GBTs\n",
        "1. How to train and ensemble many GBTs"
      ]
    },
    {
      "cell_type": "markdown",
      "metadata": {
        "id": "juHPyBmNgKY2"
      },
      "source": [
        "# Imports dependencies"
      ]
    },
    {
      "cell_type": "code",
      "execution_count": 3,
      "metadata": {
        "execution": {
          "iopub.execute_input": "2023-04-17T15:32:04.26451Z",
          "iopub.status.busy": "2023-04-17T15:32:04.264037Z",
          "iopub.status.idle": "2023-04-17T15:32:04.272355Z",
          "shell.execute_reply": "2023-04-17T15:32:04.270819Z",
          "shell.execute_reply.started": "2023-04-17T15:32:04.264459Z"
        },
        "id": "VOnT6rLrgKY2",
        "trusted": true
      },
      "outputs": [
        {
          "name": "stdout",
          "output_type": "stream",
          "text": [
            "Found TF-DF 1.8.1\n"
          ]
        }
      ],
      "source": [
        "import numpy as np\n",
        "import pandas as pd\n",
        "import os\n",
        "\n",
        "import tensorflow as tf\n",
        "# !pip install tensorflow_decision_forests\n",
        "import tensorflow_decision_forests as tfdf\n",
        "\n",
        "print(f\"Found TF-DF {tfdf.__version__}\")"
      ]
    },
    {
      "cell_type": "markdown",
      "metadata": {
        "id": "DSseH5vAgKY3"
      },
      "source": [
        "# Load dataset"
      ]
    },
    {
      "cell_type": "code",
      "execution_count": 4,
      "metadata": {
        "execution": {
          "iopub.execute_input": "2023-04-17T15:30:04.10358Z",
          "iopub.status.busy": "2023-04-17T15:30:04.102889Z",
          "iopub.status.idle": "2023-04-17T15:30:04.158126Z",
          "shell.execute_reply": "2023-04-17T15:30:04.156877Z",
          "shell.execute_reply.started": "2023-04-17T15:30:04.103539Z"
        },
        "id": "o31Qs-5NgKY3",
        "trusted": true
      },
      "outputs": [
        {
          "data": {
            "text/html": [
              "<div>\n",
              "<style scoped>\n",
              "    .dataframe tbody tr th:only-of-type {\n",
              "        vertical-align: middle;\n",
              "    }\n",
              "\n",
              "    .dataframe tbody tr th {\n",
              "        vertical-align: top;\n",
              "    }\n",
              "\n",
              "    .dataframe thead th {\n",
              "        text-align: right;\n",
              "    }\n",
              "</style>\n",
              "<table border=\"1\" class=\"dataframe\">\n",
              "  <thead>\n",
              "    <tr style=\"text-align: right;\">\n",
              "      <th></th>\n",
              "      <th>PassengerId</th>\n",
              "      <th>Survived</th>\n",
              "      <th>Pclass</th>\n",
              "      <th>Name</th>\n",
              "      <th>Sex</th>\n",
              "      <th>Age</th>\n",
              "      <th>SibSp</th>\n",
              "      <th>Parch</th>\n",
              "      <th>Ticket</th>\n",
              "      <th>Fare</th>\n",
              "      <th>Cabin</th>\n",
              "      <th>Embarked</th>\n",
              "    </tr>\n",
              "  </thead>\n",
              "  <tbody>\n",
              "    <tr>\n",
              "      <th>0</th>\n",
              "      <td>1</td>\n",
              "      <td>0</td>\n",
              "      <td>3</td>\n",
              "      <td>Braund, Mr. Owen Harris</td>\n",
              "      <td>male</td>\n",
              "      <td>22.0</td>\n",
              "      <td>1</td>\n",
              "      <td>0</td>\n",
              "      <td>A/5 21171</td>\n",
              "      <td>7.2500</td>\n",
              "      <td>NaN</td>\n",
              "      <td>S</td>\n",
              "    </tr>\n",
              "    <tr>\n",
              "      <th>1</th>\n",
              "      <td>2</td>\n",
              "      <td>1</td>\n",
              "      <td>1</td>\n",
              "      <td>Cumings, Mrs. John Bradley (Florence Briggs Th...</td>\n",
              "      <td>female</td>\n",
              "      <td>38.0</td>\n",
              "      <td>1</td>\n",
              "      <td>0</td>\n",
              "      <td>PC 17599</td>\n",
              "      <td>71.2833</td>\n",
              "      <td>C85</td>\n",
              "      <td>C</td>\n",
              "    </tr>\n",
              "    <tr>\n",
              "      <th>2</th>\n",
              "      <td>3</td>\n",
              "      <td>1</td>\n",
              "      <td>3</td>\n",
              "      <td>Heikkinen, Miss. Laina</td>\n",
              "      <td>female</td>\n",
              "      <td>26.0</td>\n",
              "      <td>0</td>\n",
              "      <td>0</td>\n",
              "      <td>STON/O2. 3101282</td>\n",
              "      <td>7.9250</td>\n",
              "      <td>NaN</td>\n",
              "      <td>S</td>\n",
              "    </tr>\n",
              "    <tr>\n",
              "      <th>3</th>\n",
              "      <td>4</td>\n",
              "      <td>1</td>\n",
              "      <td>1</td>\n",
              "      <td>Futrelle, Mrs. Jacques Heath (Lily May Peel)</td>\n",
              "      <td>female</td>\n",
              "      <td>35.0</td>\n",
              "      <td>1</td>\n",
              "      <td>0</td>\n",
              "      <td>113803</td>\n",
              "      <td>53.1000</td>\n",
              "      <td>C123</td>\n",
              "      <td>S</td>\n",
              "    </tr>\n",
              "    <tr>\n",
              "      <th>4</th>\n",
              "      <td>5</td>\n",
              "      <td>0</td>\n",
              "      <td>3</td>\n",
              "      <td>Allen, Mr. William Henry</td>\n",
              "      <td>male</td>\n",
              "      <td>35.0</td>\n",
              "      <td>0</td>\n",
              "      <td>0</td>\n",
              "      <td>373450</td>\n",
              "      <td>8.0500</td>\n",
              "      <td>NaN</td>\n",
              "      <td>S</td>\n",
              "    </tr>\n",
              "    <tr>\n",
              "      <th>5</th>\n",
              "      <td>6</td>\n",
              "      <td>0</td>\n",
              "      <td>3</td>\n",
              "      <td>Moran, Mr. James</td>\n",
              "      <td>male</td>\n",
              "      <td>NaN</td>\n",
              "      <td>0</td>\n",
              "      <td>0</td>\n",
              "      <td>330877</td>\n",
              "      <td>8.4583</td>\n",
              "      <td>NaN</td>\n",
              "      <td>Q</td>\n",
              "    </tr>\n",
              "    <tr>\n",
              "      <th>6</th>\n",
              "      <td>7</td>\n",
              "      <td>0</td>\n",
              "      <td>1</td>\n",
              "      <td>McCarthy, Mr. Timothy J</td>\n",
              "      <td>male</td>\n",
              "      <td>54.0</td>\n",
              "      <td>0</td>\n",
              "      <td>0</td>\n",
              "      <td>17463</td>\n",
              "      <td>51.8625</td>\n",
              "      <td>E46</td>\n",
              "      <td>S</td>\n",
              "    </tr>\n",
              "    <tr>\n",
              "      <th>7</th>\n",
              "      <td>8</td>\n",
              "      <td>0</td>\n",
              "      <td>3</td>\n",
              "      <td>Palsson, Master. Gosta Leonard</td>\n",
              "      <td>male</td>\n",
              "      <td>2.0</td>\n",
              "      <td>3</td>\n",
              "      <td>1</td>\n",
              "      <td>349909</td>\n",
              "      <td>21.0750</td>\n",
              "      <td>NaN</td>\n",
              "      <td>S</td>\n",
              "    </tr>\n",
              "    <tr>\n",
              "      <th>8</th>\n",
              "      <td>9</td>\n",
              "      <td>1</td>\n",
              "      <td>3</td>\n",
              "      <td>Johnson, Mrs. Oscar W (Elisabeth Vilhelmina Berg)</td>\n",
              "      <td>female</td>\n",
              "      <td>27.0</td>\n",
              "      <td>0</td>\n",
              "      <td>2</td>\n",
              "      <td>347742</td>\n",
              "      <td>11.1333</td>\n",
              "      <td>NaN</td>\n",
              "      <td>S</td>\n",
              "    </tr>\n",
              "    <tr>\n",
              "      <th>9</th>\n",
              "      <td>10</td>\n",
              "      <td>1</td>\n",
              "      <td>2</td>\n",
              "      <td>Nasser, Mrs. Nicholas (Adele Achem)</td>\n",
              "      <td>female</td>\n",
              "      <td>14.0</td>\n",
              "      <td>1</td>\n",
              "      <td>0</td>\n",
              "      <td>237736</td>\n",
              "      <td>30.0708</td>\n",
              "      <td>NaN</td>\n",
              "      <td>C</td>\n",
              "    </tr>\n",
              "  </tbody>\n",
              "</table>\n",
              "</div>"
            ],
            "text/plain": [
              "   PassengerId  Survived  Pclass  \\\n",
              "0            1         0       3   \n",
              "1            2         1       1   \n",
              "2            3         1       3   \n",
              "3            4         1       1   \n",
              "4            5         0       3   \n",
              "5            6         0       3   \n",
              "6            7         0       1   \n",
              "7            8         0       3   \n",
              "8            9         1       3   \n",
              "9           10         1       2   \n",
              "\n",
              "                                                Name     Sex   Age  SibSp  \\\n",
              "0                            Braund, Mr. Owen Harris    male  22.0      1   \n",
              "1  Cumings, Mrs. John Bradley (Florence Briggs Th...  female  38.0      1   \n",
              "2                             Heikkinen, Miss. Laina  female  26.0      0   \n",
              "3       Futrelle, Mrs. Jacques Heath (Lily May Peel)  female  35.0      1   \n",
              "4                           Allen, Mr. William Henry    male  35.0      0   \n",
              "5                                   Moran, Mr. James    male   NaN      0   \n",
              "6                            McCarthy, Mr. Timothy J    male  54.0      0   \n",
              "7                     Palsson, Master. Gosta Leonard    male   2.0      3   \n",
              "8  Johnson, Mrs. Oscar W (Elisabeth Vilhelmina Berg)  female  27.0      0   \n",
              "9                Nasser, Mrs. Nicholas (Adele Achem)  female  14.0      1   \n",
              "\n",
              "   Parch            Ticket     Fare Cabin Embarked  \n",
              "0      0         A/5 21171   7.2500   NaN        S  \n",
              "1      0          PC 17599  71.2833   C85        C  \n",
              "2      0  STON/O2. 3101282   7.9250   NaN        S  \n",
              "3      0            113803  53.1000  C123        S  \n",
              "4      0            373450   8.0500   NaN        S  \n",
              "5      0            330877   8.4583   NaN        Q  \n",
              "6      0             17463  51.8625   E46        S  \n",
              "7      1            349909  21.0750   NaN        S  \n",
              "8      2            347742  11.1333   NaN        S  \n",
              "9      0            237736  30.0708   NaN        C  "
            ]
          },
          "execution_count": 4,
          "metadata": {},
          "output_type": "execute_result"
        }
      ],
      "source": [
        "train_df = pd.read_csv(\"data/train.csv\")\n",
        "serving_df = pd.read_csv(\"data/test.csv\")\n",
        "\n",
        "train_df.head(10)"
      ]
    },
    {
      "cell_type": "markdown",
      "metadata": {
        "id": "7EuNYkAMgKY4"
      },
      "source": [
        "# Prepare dataset\n",
        "\n",
        "We will apply the following transformations on the dataset.\n",
        "\n",
        "1. Tokenize the names. For example, \"Braund, Mr. Owen Harris\" will become [\"Braund\", \"Mr.\", \"Owen\", \"Harris\"].\n",
        "2. Extract any prefix in the ticket. For example ticket \"STON/O2. 3101282\" will become \"STON/O2.\" and 3101282."
      ]
    },
    {
      "cell_type": "code",
      "execution_count": 5,
      "metadata": {
        "execution": {
          "iopub.execute_input": "2023-04-17T15:30:09.502467Z",
          "iopub.status.busy": "2023-04-17T15:30:09.50201Z",
          "iopub.status.idle": "2023-04-17T15:30:09.540151Z",
          "shell.execute_reply": "2023-04-17T15:30:09.538948Z",
          "shell.execute_reply.started": "2023-04-17T15:30:09.502432Z"
        },
        "id": "errtCKV9gKY5",
        "trusted": true
      },
      "outputs": [
        {
          "data": {
            "text/html": [
              "<div>\n",
              "<style scoped>\n",
              "    .dataframe tbody tr th:only-of-type {\n",
              "        vertical-align: middle;\n",
              "    }\n",
              "\n",
              "    .dataframe tbody tr th {\n",
              "        vertical-align: top;\n",
              "    }\n",
              "\n",
              "    .dataframe thead th {\n",
              "        text-align: right;\n",
              "    }\n",
              "</style>\n",
              "<table border=\"1\" class=\"dataframe\">\n",
              "  <thead>\n",
              "    <tr style=\"text-align: right;\">\n",
              "      <th></th>\n",
              "      <th>PassengerId</th>\n",
              "      <th>Survived</th>\n",
              "      <th>Pclass</th>\n",
              "      <th>Name</th>\n",
              "      <th>Sex</th>\n",
              "      <th>Age</th>\n",
              "      <th>SibSp</th>\n",
              "      <th>Parch</th>\n",
              "      <th>Ticket</th>\n",
              "      <th>Fare</th>\n",
              "      <th>Cabin</th>\n",
              "      <th>Embarked</th>\n",
              "      <th>Ticket_number</th>\n",
              "      <th>Ticket_item</th>\n",
              "    </tr>\n",
              "  </thead>\n",
              "  <tbody>\n",
              "    <tr>\n",
              "      <th>0</th>\n",
              "      <td>1</td>\n",
              "      <td>0</td>\n",
              "      <td>3</td>\n",
              "      <td>Braund Mr Owen Harris</td>\n",
              "      <td>male</td>\n",
              "      <td>22.0</td>\n",
              "      <td>1</td>\n",
              "      <td>0</td>\n",
              "      <td>A/5 21171</td>\n",
              "      <td>7.2500</td>\n",
              "      <td>NaN</td>\n",
              "      <td>S</td>\n",
              "      <td>21171</td>\n",
              "      <td>A/5</td>\n",
              "    </tr>\n",
              "    <tr>\n",
              "      <th>1</th>\n",
              "      <td>2</td>\n",
              "      <td>1</td>\n",
              "      <td>1</td>\n",
              "      <td>Cumings Mrs John Bradley Florence Briggs Thayer</td>\n",
              "      <td>female</td>\n",
              "      <td>38.0</td>\n",
              "      <td>1</td>\n",
              "      <td>0</td>\n",
              "      <td>PC 17599</td>\n",
              "      <td>71.2833</td>\n",
              "      <td>C85</td>\n",
              "      <td>C</td>\n",
              "      <td>17599</td>\n",
              "      <td>PC</td>\n",
              "    </tr>\n",
              "    <tr>\n",
              "      <th>2</th>\n",
              "      <td>3</td>\n",
              "      <td>1</td>\n",
              "      <td>3</td>\n",
              "      <td>Heikkinen Miss Laina</td>\n",
              "      <td>female</td>\n",
              "      <td>26.0</td>\n",
              "      <td>0</td>\n",
              "      <td>0</td>\n",
              "      <td>STON/O2. 3101282</td>\n",
              "      <td>7.9250</td>\n",
              "      <td>NaN</td>\n",
              "      <td>S</td>\n",
              "      <td>3101282</td>\n",
              "      <td>STON/O2.</td>\n",
              "    </tr>\n",
              "    <tr>\n",
              "      <th>3</th>\n",
              "      <td>4</td>\n",
              "      <td>1</td>\n",
              "      <td>1</td>\n",
              "      <td>Futrelle Mrs Jacques Heath Lily May Peel</td>\n",
              "      <td>female</td>\n",
              "      <td>35.0</td>\n",
              "      <td>1</td>\n",
              "      <td>0</td>\n",
              "      <td>113803</td>\n",
              "      <td>53.1000</td>\n",
              "      <td>C123</td>\n",
              "      <td>S</td>\n",
              "      <td>113803</td>\n",
              "      <td>NONE</td>\n",
              "    </tr>\n",
              "    <tr>\n",
              "      <th>4</th>\n",
              "      <td>5</td>\n",
              "      <td>0</td>\n",
              "      <td>3</td>\n",
              "      <td>Allen Mr William Henry</td>\n",
              "      <td>male</td>\n",
              "      <td>35.0</td>\n",
              "      <td>0</td>\n",
              "      <td>0</td>\n",
              "      <td>373450</td>\n",
              "      <td>8.0500</td>\n",
              "      <td>NaN</td>\n",
              "      <td>S</td>\n",
              "      <td>373450</td>\n",
              "      <td>NONE</td>\n",
              "    </tr>\n",
              "  </tbody>\n",
              "</table>\n",
              "</div>"
            ],
            "text/plain": [
              "   PassengerId  Survived  Pclass  \\\n",
              "0            1         0       3   \n",
              "1            2         1       1   \n",
              "2            3         1       3   \n",
              "3            4         1       1   \n",
              "4            5         0       3   \n",
              "\n",
              "                                              Name     Sex   Age  SibSp  \\\n",
              "0                            Braund Mr Owen Harris    male  22.0      1   \n",
              "1  Cumings Mrs John Bradley Florence Briggs Thayer  female  38.0      1   \n",
              "2                             Heikkinen Miss Laina  female  26.0      0   \n",
              "3         Futrelle Mrs Jacques Heath Lily May Peel  female  35.0      1   \n",
              "4                           Allen Mr William Henry    male  35.0      0   \n",
              "\n",
              "   Parch            Ticket     Fare Cabin Embarked Ticket_number Ticket_item  \n",
              "0      0         A/5 21171   7.2500   NaN        S         21171         A/5  \n",
              "1      0          PC 17599  71.2833   C85        C         17599          PC  \n",
              "2      0  STON/O2. 3101282   7.9250   NaN        S       3101282    STON/O2.  \n",
              "3      0            113803  53.1000  C123        S        113803        NONE  \n",
              "4      0            373450   8.0500   NaN        S        373450        NONE  "
            ]
          },
          "execution_count": 5,
          "metadata": {},
          "output_type": "execute_result"
        }
      ],
      "source": [
        "def preprocess(df):\n",
        "    df = df.copy()\n",
        "\n",
        "    def normalize_name(x):\n",
        "        return \" \".join([v.strip(\",()[].\\\"'\") for v in x.split(\" \")])\n",
        "\n",
        "    def ticket_number(x):\n",
        "        return x.split(\" \")[-1]\n",
        "\n",
        "    def ticket_item(x):\n",
        "        items = x.split(\" \")\n",
        "        if len(items) == 1:\n",
        "            return \"NONE\"\n",
        "        return \"_\".join(items[0:-1])\n",
        "\n",
        "    df[\"Name\"] = df[\"Name\"].apply(normalize_name)\n",
        "    df[\"Ticket_number\"] = df[\"Ticket\"].apply(ticket_number)\n",
        "    df[\"Ticket_item\"] = df[\"Ticket\"].apply(ticket_item)\n",
        "    return df\n",
        "\n",
        "preprocessed_train_df = preprocess(train_df)\n",
        "preprocessed_serving_df = preprocess(serving_df)\n",
        "\n",
        "preprocessed_train_df.head(5)"
      ]
    },
    {
      "cell_type": "markdown",
      "metadata": {
        "id": "QzKLtg7egKY5"
      },
      "source": [
        "Let's keep the list of the input features of the model. Notably, we don't want to train our model on the \"PassengerId\" and \"Ticket\" features."
      ]
    },
    {
      "cell_type": "code",
      "execution_count": 6,
      "metadata": {
        "execution": {
          "iopub.execute_input": "2023-04-17T15:30:14.000868Z",
          "iopub.status.busy": "2023-04-17T15:30:14.000466Z",
          "iopub.status.idle": "2023-04-17T15:30:14.00835Z",
          "shell.execute_reply": "2023-04-17T15:30:14.006982Z",
          "shell.execute_reply.started": "2023-04-17T15:30:14.000833Z"
        },
        "id": "9bgPwnARgKY5",
        "trusted": true
      },
      "outputs": [
        {
          "name": "stdout",
          "output_type": "stream",
          "text": [
            "Input features: ['Pclass', 'Name', 'Sex', 'Age', 'SibSp', 'Parch', 'Fare', 'Cabin', 'Embarked', 'Ticket_number', 'Ticket_item']\n"
          ]
        }
      ],
      "source": [
        "input_features = list(preprocessed_train_df.columns)\n",
        "input_features.remove(\"Ticket\")\n",
        "input_features.remove(\"PassengerId\")\n",
        "input_features.remove(\"Survived\")\n",
        "#input_features.remove(\"Ticket_number\")\n",
        "\n",
        "print(f\"Input features: {input_features}\")"
      ]
    },
    {
      "cell_type": "markdown",
      "metadata": {
        "id": "qRP4WgBLgKY6"
      },
      "source": [
        "# Convert Pandas dataset to TensorFlow Dataset"
      ]
    },
    {
      "cell_type": "code",
      "execution_count": 7,
      "metadata": {
        "execution": {
          "iopub.execute_input": "2023-04-17T15:30:17.896741Z",
          "iopub.status.busy": "2023-04-17T15:30:17.896317Z",
          "iopub.status.idle": "2023-04-17T15:30:18.231195Z",
          "shell.execute_reply": "2023-04-17T15:30:18.229792Z",
          "shell.execute_reply.started": "2023-04-17T15:30:17.896705Z"
        },
        "id": "2DL3m_8wgKY6",
        "trusted": true
      },
      "outputs": [],
      "source": [
        "def tokenize_names(features, labels=None):\n",
        "    \"\"\"Divite the names into tokens. TF-DF can consume text tokens natively.\"\"\"\n",
        "    features[\"Name\"] =  tf.strings.split(features[\"Name\"])\n",
        "    return features, labels\n",
        "\n",
        "train_ds = tfdf.keras.pd_dataframe_to_tf_dataset(preprocessed_train_df,label=\"Survived\").map(tokenize_names)\n",
        "serving_ds = tfdf.keras.pd_dataframe_to_tf_dataset(preprocessed_serving_df).map(tokenize_names)"
      ]
    },
    {
      "cell_type": "markdown",
      "metadata": {
        "id": "m60xumhMgKY6"
      },
      "source": [
        "# Train model with default parameters\n",
        "\n",
        "### Train model\n",
        "\n",
        "First, we are training a GradientBoostedTreesModel model with the default parameters."
      ]
    },
    {
      "cell_type": "code",
      "execution_count": 8,
      "metadata": {
        "execution": {
          "iopub.execute_input": "2023-04-17T15:32:16.581306Z",
          "iopub.status.busy": "2023-04-17T15:32:16.580089Z",
          "iopub.status.idle": "2023-04-17T15:32:17.55132Z",
          "shell.execute_reply": "2023-04-17T15:32:17.55024Z",
          "shell.execute_reply.started": "2023-04-17T15:32:16.581257Z"
        },
        "id": "GERChv4DgKY6",
        "trusted": true
      },
      "outputs": [
        {
          "name": "stderr",
          "output_type": "stream",
          "text": [
            "[WARNING 24-01-24 17:00:23.1870 +04 gradient_boosted_trees.cc:1886] \"goss_alpha\" set but \"sampling_method\" not equal to \"GOSS\".\n",
            "[WARNING 24-01-24 17:00:23.1872 +04 gradient_boosted_trees.cc:1897] \"goss_beta\" set but \"sampling_method\" not equal to \"GOSS\".\n",
            "[WARNING 24-01-24 17:00:23.1872 +04 gradient_boosted_trees.cc:1911] \"selective_gradient_boosting_ratio\" set but \"sampling_method\" not equal to \"SELGB\".\n",
            "[INFO 24-01-24 17:00:31.5195 +04 kernel.cc:1233] Loading model from path /tmp/tmpv44fz1c5/model/ with prefix fdff4cd81d074d7e\n",
            "[INFO 24-01-24 17:00:31.5252 +04 quick_scorer_extended.cc:903] The binary was compiled without AVX2 support, but your CPU supports it. Enable it for faster model inference.\n",
            "[INFO 24-01-24 17:00:31.5279 +04 abstract_model.cc:1344] Engine \"GradientBoostedTreesQuickScorerExtended\" built\n",
            "[INFO 24-01-24 17:00:31.5287 +04 kernel.cc:1061] Use fast generic engine\n"
          ]
        },
        {
          "name": "stdout",
          "output_type": "stream",
          "text": [
            "Accuracy: 0.8260869383811951 Loss:0.8608942627906799\n"
          ]
        }
      ],
      "source": [
        "model = tfdf.keras.GradientBoostedTreesModel(\n",
        "    verbose=0, # Very few logs\n",
        "    features=[tfdf.keras.FeatureUsage(name=n) for n in input_features],\n",
        "    exclude_non_specified_features=True, # Only use the features in \"features\"\n",
        "    random_seed=1234,\n",
        ")\n",
        "model.fit(train_ds)\n",
        "\n",
        "self_evaluation = model.make_inspector().evaluation()\n",
        "print(f\"Accuracy: {self_evaluation.accuracy} Loss:{self_evaluation.loss}\")"
      ]
    },
    {
      "cell_type": "markdown",
      "metadata": {
        "id": "f9H9ltY-gKY7"
      },
      "source": [
        "# Train model with improved default parameters\n",
        "\n",
        "Now you'll use some specific parameters when creating the GBT model"
      ]
    },
    {
      "cell_type": "code",
      "execution_count": 9,
      "metadata": {
        "execution": {
          "iopub.execute_input": "2023-04-17T15:06:14.82343Z",
          "iopub.status.busy": "2023-04-17T15:06:14.822939Z",
          "iopub.status.idle": "2023-04-17T15:06:16.103565Z",
          "shell.execute_reply": "2023-04-17T15:06:16.102272Z",
          "shell.execute_reply.started": "2023-04-17T15:06:14.82339Z"
        },
        "id": "NndZCjRngKY7",
        "trusted": true
      },
      "outputs": [
        {
          "name": "stderr",
          "output_type": "stream",
          "text": [
            "[WARNING 24-01-24 17:01:58.8151 +04 gradient_boosted_trees.cc:1886] \"goss_alpha\" set but \"sampling_method\" not equal to \"GOSS\".\n",
            "[WARNING 24-01-24 17:01:58.8152 +04 gradient_boosted_trees.cc:1897] \"goss_beta\" set but \"sampling_method\" not equal to \"GOSS\".\n",
            "[WARNING 24-01-24 17:01:58.8152 +04 gradient_boosted_trees.cc:1911] \"selective_gradient_boosting_ratio\" set but \"sampling_method\" not equal to \"SELGB\".\n",
            "[INFO 24-01-24 17:02:00.8697 +04 kernel.cc:1233] Loading model from path /tmp/tmp07teiglr/model/ with prefix 7da856bd0fae40e0\n",
            "[INFO 24-01-24 17:02:00.8743 +04 decision_forest.cc:660] Model loaded with 40 root(s), 2106 node(s), and 10 input feature(s).\n",
            "[INFO 24-01-24 17:02:00.8743 +04 abstract_model.cc:1344] Engine \"GradientBoostedTreesGeneric\" built\n",
            "[INFO 24-01-24 17:02:00.8743 +04 kernel.cc:1061] Use fast generic engine\n"
          ]
        },
        {
          "name": "stdout",
          "output_type": "stream",
          "text": [
            "Accuracy: 0.782608687877655 Loss:1.0586705207824707\n"
          ]
        }
      ],
      "source": [
        "model = tfdf.keras.GradientBoostedTreesModel(\n",
        "    verbose=0, # Very few logs\n",
        "    features=[tfdf.keras.FeatureUsage(name=n) for n in input_features],\n",
        "    exclude_non_specified_features=True, # Only use the features in \"features\"\n",
        "\n",
        "    #num_trees=2000,\n",
        "\n",
        "    # Only for GBT.\n",
        "    # A bit slower, but great to understand the model.\n",
        "    # compute_permutation_variable_importance=True,\n",
        "\n",
        "    # Change the default hyper-parameters\n",
        "    # hyperparameter_template=\"benchmark_rank1@v1\",\n",
        "\n",
        "    #num_trees=1000,\n",
        "    #tuner=tuner\n",
        "\n",
        "    min_examples=1,\n",
        "    categorical_algorithm=\"RANDOM\",\n",
        "    #max_depth=4,\n",
        "    shrinkage=0.05,\n",
        "    #num_candidate_attributes_ratio=0.2,\n",
        "    split_axis=\"SPARSE_OBLIQUE\",\n",
        "    sparse_oblique_normalization=\"MIN_MAX\",\n",
        "    sparse_oblique_num_projections_exponent=2.0,\n",
        "    num_trees=2000,\n",
        "    #validation_ratio=0.0,\n",
        "    random_seed=1234,\n",
        "\n",
        ")\n",
        "model.fit(train_ds)\n",
        "\n",
        "self_evaluation = model.make_inspector().evaluation()\n",
        "print(f\"Accuracy: {self_evaluation.accuracy} Loss:{self_evaluation.loss}\")"
      ]
    },
    {
      "cell_type": "markdown",
      "metadata": {
        "id": "F21QXphSgKY7"
      },
      "source": [
        "Let's look at the model and you can also notice the information about variable importance that the model figured out"
      ]
    },
    {
      "cell_type": "code",
      "execution_count": 10,
      "metadata": {
        "execution": {
          "iopub.execute_input": "2023-04-17T15:06:16.105239Z",
          "iopub.status.busy": "2023-04-17T15:06:16.104878Z",
          "iopub.status.idle": "2023-04-17T15:06:16.123439Z",
          "shell.execute_reply": "2023-04-17T15:06:16.121993Z",
          "shell.execute_reply.started": "2023-04-17T15:06:16.105206Z"
        },
        "id": "jcLAPfHMgKY7",
        "trusted": true
      },
      "outputs": [
        {
          "name": "stdout",
          "output_type": "stream",
          "text": [
            "Model: \"gradient_boosted_trees_model_1\"\n",
            "_________________________________________________________________\n",
            " Layer (type)                Output Shape              Param #   \n",
            "=================================================================\n",
            "=================================================================\n",
            "Total params: 1 (1.00 Byte)\n",
            "Trainable params: 0 (0.00 Byte)\n",
            "Non-trainable params: 1 (1.00 Byte)\n",
            "_________________________________________________________________\n",
            "Type: \"GRADIENT_BOOSTED_TREES\"\n",
            "Task: CLASSIFICATION\n",
            "Label: \"__LABEL\"\n",
            "\n",
            "Input Features (11):\n",
            "\tAge\n",
            "\tCabin\n",
            "\tEmbarked\n",
            "\tFare\n",
            "\tName\n",
            "\tParch\n",
            "\tPclass\n",
            "\tSex\n",
            "\tSibSp\n",
            "\tTicket_item\n",
            "\tTicket_number\n",
            "\n",
            "No weights\n",
            "\n",
            "Variable Importance: INV_MEAN_MIN_DEPTH:\n",
            "    1.           \"Sex\"  0.585997 ################\n",
            "    2.           \"Age\"  0.364636 #######\n",
            "    3.          \"Fare\"  0.266191 ###\n",
            "    4.          \"Name\"  0.207054 #\n",
            "    5.        \"Pclass\"  0.179191 \n",
            "    6. \"Ticket_number\"  0.178806 \n",
            "    7.      \"Embarked\"  0.177803 \n",
            "    8.   \"Ticket_item\"  0.177009 \n",
            "    9.         \"Parch\"  0.175276 \n",
            "   10.         \"SibSp\"  0.171694 \n",
            "\n",
            "Variable Importance: NUM_AS_ROOT:\n",
            "    1.  \"Sex\" 34.000000 ################\n",
            "    2. \"Name\"  6.000000 \n",
            "\n",
            "Variable Importance: NUM_NODES:\n",
            "    1.           \"Age\" 510.000000 ################\n",
            "    2.          \"Fare\" 298.000000 #########\n",
            "    3.          \"Name\" 60.000000 #\n",
            "    4.   \"Ticket_item\" 47.000000 #\n",
            "    5.           \"Sex\" 40.000000 #\n",
            "    6.         \"Parch\" 22.000000 \n",
            "    7. \"Ticket_number\" 20.000000 \n",
            "    8.      \"Embarked\" 15.000000 \n",
            "    9.        \"Pclass\" 15.000000 \n",
            "   10.         \"SibSp\"  6.000000 \n",
            "\n",
            "Variable Importance: SUM_SCORE:\n",
            "    1.           \"Sex\" 482.453470 ################\n",
            "    2.           \"Age\" 390.670218 ############\n",
            "    3.          \"Fare\" 321.170935 ##########\n",
            "    4.          \"Name\" 102.043860 ###\n",
            "    5.        \"Pclass\" 26.605919 \n",
            "    6.   \"Ticket_item\" 22.954813 \n",
            "    7. \"Ticket_number\" 17.413948 \n",
            "    8.      \"Embarked\"  8.969861 \n",
            "    9.         \"Parch\"  6.947528 \n",
            "   10.         \"SibSp\"  0.455899 \n",
            "\n",
            "\n",
            "\n",
            "Loss: BINOMIAL_LOG_LIKELIHOOD\n",
            "Validation loss value: 1.05867\n",
            "Number of trees per iteration: 1\n",
            "Node format: NOT_SET\n",
            "Number of trees: 40\n",
            "Total number of nodes: 2106\n",
            "\n",
            "Number of nodes by tree:\n",
            "Count: 40 Average: 52.65 StdDev: 4.2869\n",
            "Min: 41 Max: 61 Ignored: 0\n",
            "----------------------------------------------\n",
            "[ 41, 42)  2   5.00%   5.00% ##\n",
            "[ 42, 43)  0   0.00%   5.00%\n",
            "[ 43, 44)  0   0.00%   5.00%\n",
            "[ 44, 45)  0   0.00%   5.00%\n",
            "[ 45, 46)  0   0.00%   5.00%\n",
            "[ 46, 47)  0   0.00%   5.00%\n",
            "[ 47, 48)  4  10.00%  15.00% ####\n",
            "[ 48, 49)  0   0.00%  15.00%\n",
            "[ 49, 50)  3   7.50%  22.50% ###\n",
            "[ 50, 51)  0   0.00%  22.50%\n",
            "[ 51, 52)  4  10.00%  32.50% ####\n",
            "[ 52, 53)  0   0.00%  32.50%\n",
            "[ 53, 54) 11  27.50%  60.00% ##########\n",
            "[ 54, 55)  0   0.00%  60.00%\n",
            "[ 55, 56) 10  25.00%  85.00% #########\n",
            "[ 56, 57)  0   0.00%  85.00%\n",
            "[ 57, 58)  2   5.00%  90.00% ##\n",
            "[ 58, 59)  0   0.00%  90.00%\n",
            "[ 59, 60)  3   7.50%  97.50% ###\n",
            "[ 60, 61]  1   2.50% 100.00% #\n",
            "\n",
            "Depth by leafs:\n",
            "Count: 1073 Average: 4.84623 StdDev: 0.454477\n",
            "Min: 2 Max: 5 Ignored: 0\n",
            "----------------------------------------------\n",
            "[ 2, 3)   1   0.09%   0.09%\n",
            "[ 3, 4)  38   3.54%   3.63%\n",
            "[ 4, 5)  86   8.01%  11.65% #\n",
            "[ 5, 5] 948  88.35% 100.00% ##########\n",
            "\n",
            "Number of training obs by leaf:\n",
            "Count: 1073 Average: 29.7856 StdDev: 71.8675\n",
            "Min: 1 Max: 458 Ignored: 0\n",
            "----------------------------------------------\n",
            "[   1,  23) 846  78.84%  78.84% ##########\n",
            "[  23,  46)  62   5.78%  84.62% #\n",
            "[  46,  69)  48   4.47%  89.10% #\n",
            "[  69,  92)  21   1.96%  91.05%\n",
            "[  92, 115)  10   0.93%  91.99%\n",
            "[ 115, 138)  15   1.40%  93.38%\n",
            "[ 138, 161)  23   2.14%  95.53%\n",
            "[ 161, 184)   6   0.56%  96.09%\n",
            "[ 184, 207)   3   0.28%  96.37%\n",
            "[ 207, 230)   4   0.37%  96.74%\n",
            "[ 230, 252)   1   0.09%  96.83%\n",
            "[ 252, 275)   1   0.09%  96.92%\n",
            "[ 275, 298)   2   0.19%  97.11%\n",
            "[ 298, 321)   2   0.19%  97.30%\n",
            "[ 321, 344)   0   0.00%  97.30%\n",
            "[ 344, 367)   9   0.84%  98.14%\n",
            "[ 367, 390)   6   0.56%  98.70%\n",
            "[ 390, 413)   9   0.84%  99.53%\n",
            "[ 413, 436)   4   0.37%  99.91%\n",
            "[ 436, 458]   1   0.09% 100.00%\n",
            "\n",
            "Attribute in nodes:\n",
            "\t510 : Age [NUMERICAL]\n",
            "\t298 : Fare [NUMERICAL]\n",
            "\t60 : Name [CATEGORICAL_SET]\n",
            "\t47 : Ticket_item [CATEGORICAL]\n",
            "\t40 : Sex [CATEGORICAL]\n",
            "\t22 : Parch [NUMERICAL]\n",
            "\t20 : Ticket_number [CATEGORICAL]\n",
            "\t15 : Pclass [NUMERICAL]\n",
            "\t15 : Embarked [CATEGORICAL]\n",
            "\t6 : SibSp [NUMERICAL]\n",
            "\n",
            "Attribute in nodes with depth <= 0:\n",
            "\t34 : Sex [CATEGORICAL]\n",
            "\t6 : Name [CATEGORICAL_SET]\n",
            "\n",
            "Attribute in nodes with depth <= 1:\n",
            "\t48 : Age [NUMERICAL]\n",
            "\t34 : Sex [CATEGORICAL]\n",
            "\t25 : Fare [NUMERICAL]\n",
            "\t6 : Name [CATEGORICAL_SET]\n",
            "\t5 : Pclass [NUMERICAL]\n",
            "\t2 : Ticket_number [CATEGORICAL]\n",
            "\n",
            "Attribute in nodes with depth <= 2:\n",
            "\t121 : Age [NUMERICAL]\n",
            "\t74 : Fare [NUMERICAL]\n",
            "\t34 : Sex [CATEGORICAL]\n",
            "\t19 : Name [CATEGORICAL_SET]\n",
            "\t8 : Ticket_number [CATEGORICAL]\n",
            "\t8 : Embarked [CATEGORICAL]\n",
            "\t6 : Pclass [NUMERICAL]\n",
            "\t6 : Parch [NUMERICAL]\n",
            "\t3 : Ticket_item [CATEGORICAL]\n",
            "\n",
            "Attribute in nodes with depth <= 3:\n",
            "\t261 : Age [NUMERICAL]\n",
            "\t164 : Fare [NUMERICAL]\n",
            "\t36 : Sex [CATEGORICAL]\n",
            "\t35 : Name [CATEGORICAL_SET]\n",
            "\t16 : Ticket_item [CATEGORICAL]\n",
            "\t13 : Ticket_number [CATEGORICAL]\n",
            "\t12 : Embarked [CATEGORICAL]\n",
            "\t11 : Parch [NUMERICAL]\n",
            "\t9 : Pclass [NUMERICAL]\n",
            "\t2 : SibSp [NUMERICAL]\n",
            "\n",
            "Attribute in nodes with depth <= 5:\n",
            "\t510 : Age [NUMERICAL]\n",
            "\t298 : Fare [NUMERICAL]\n",
            "\t60 : Name [CATEGORICAL_SET]\n",
            "\t47 : Ticket_item [CATEGORICAL]\n",
            "\t40 : Sex [CATEGORICAL]\n",
            "\t22 : Parch [NUMERICAL]\n",
            "\t20 : Ticket_number [CATEGORICAL]\n",
            "\t15 : Pclass [NUMERICAL]\n",
            "\t15 : Embarked [CATEGORICAL]\n",
            "\t6 : SibSp [NUMERICAL]\n",
            "\n",
            "Condition type in nodes:\n",
            "\t851 : ObliqueCondition\n",
            "\t135 : ContainsBitmapCondition\n",
            "\t47 : ContainsCondition\n",
            "Condition type in nodes with depth <= 0:\n",
            "\t38 : ContainsBitmapCondition\n",
            "\t2 : ContainsCondition\n",
            "Condition type in nodes with depth <= 1:\n",
            "\t78 : ObliqueCondition\n",
            "\t40 : ContainsBitmapCondition\n",
            "\t2 : ContainsCondition\n",
            "Condition type in nodes with depth <= 2:\n",
            "\t207 : ObliqueCondition\n",
            "\t58 : ContainsBitmapCondition\n",
            "\t14 : ContainsCondition\n",
            "Condition type in nodes with depth <= 3:\n",
            "\t447 : ObliqueCondition\n",
            "\t83 : ContainsBitmapCondition\n",
            "\t29 : ContainsCondition\n",
            "Condition type in nodes with depth <= 5:\n",
            "\t851 : ObliqueCondition\n",
            "\t135 : ContainsBitmapCondition\n",
            "\t47 : ContainsCondition\n",
            "\n",
            "Training logs:\n",
            "Number of iteration to final model: 40\n",
            "\tIter:1 train-loss:1.264594 valid-loss:1.360749  train-accuracy:0.624531 valid-accuracy:0.543478\n",
            "\tIter:2 train-loss:1.210623 valid-loss:1.320363  train-accuracy:0.624531 valid-accuracy:0.543478\n",
            "\tIter:3 train-loss:1.160657 valid-loss:1.281972  train-accuracy:0.624531 valid-accuracy:0.543478\n",
            "\tIter:4 train-loss:1.116982 valid-loss:1.250548  train-accuracy:0.624531 valid-accuracy:0.543478\n",
            "\tIter:5 train-loss:1.075170 valid-loss:1.221467  train-accuracy:0.807259 valid-accuracy:0.760870\n",
            "\tIter:6 train-loss:1.035656 valid-loss:1.199482  train-accuracy:0.822278 valid-accuracy:0.760870\n",
            "\tIter:16 train-loss:0.787670 valid-loss:1.088161  train-accuracy:0.903630 valid-accuracy:0.771739\n",
            "\tIter:26 train-loss:0.647960 valid-loss:1.065191  train-accuracy:0.922403 valid-accuracy:0.782609\n",
            "\tIter:36 train-loss:0.557737 valid-loss:1.071260  train-accuracy:0.922403 valid-accuracy:0.782609\n",
            "\tIter:46 train-loss:0.494259 valid-loss:1.063639  train-accuracy:0.927409 valid-accuracy:0.771739\n",
            "\tIter:56 train-loss:0.443537 valid-loss:1.070069  train-accuracy:0.939925 valid-accuracy:0.760870\n",
            "\tIter:66 train-loss:0.404514 valid-loss:1.081874  train-accuracy:0.949937 valid-accuracy:0.760870\n",
            "\n"
          ]
        }
      ],
      "source": [
        "model.summary()"
      ]
    },
    {
      "cell_type": "markdown",
      "metadata": {
        "id": "WJVgjUqbgKY7"
      },
      "source": [
        "# Make predictions"
      ]
    },
    {
      "cell_type": "code",
      "execution_count": 14,
      "metadata": {
        "execution": {
          "iopub.execute_input": "2023-04-17T15:06:16.126941Z",
          "iopub.status.busy": "2023-04-17T15:06:16.126575Z",
          "iopub.status.idle": "2023-04-17T15:06:17.406876Z",
          "shell.execute_reply": "2023-04-17T15:06:17.405022Z",
          "shell.execute_reply.started": "2023-04-17T15:06:16.126904Z"
        },
        "id": "6H290F6sgKY7",
        "trusted": true
      },
      "outputs": [
        {
          "name": "stdout",
          "output_type": "stream",
          "text": [
            "WARNING:tensorflow:6 out of the last 6 calls to <function InferenceCoreModel.make_predict_function.<locals>.predict_function_trained at 0x7f2e5fdd6a70> triggered tf.function retracing. Tracing is expensive and the excessive number of tracings could be due to (1) creating @tf.function repeatedly in a loop, (2) passing tensors with different shapes, (3) passing Python objects instead of tensors. For (1), please define your @tf.function outside of the loop. For (2), @tf.function has reduce_retracing=True option that can avoid unnecessary retracing. For (3), please refer to https://www.tensorflow.org/guide/function#controlling_retracing and https://www.tensorflow.org/api_docs/python/tf/function for  more details.\n",
            "Submission exported to data/tf_lead_submission.csv\n",
            "PassengerId,Survived\n",
            "892,0\n",
            "893,0\n",
            "894,0\n",
            "895,0\n",
            "896,0\n",
            "897,0\n",
            "898,0\n",
            "899,0\n",
            "900,1\n"
          ]
        }
      ],
      "source": [
        "def prediction_to_kaggle_format(model, threshold=0.5):\n",
        "    proba_survive = model.predict(serving_ds, verbose=0)[:,0]\n",
        "    return pd.DataFrame({\n",
        "        \"PassengerId\": serving_df[\"PassengerId\"],\n",
        "        \"Survived\": (proba_survive >= threshold).astype(int)\n",
        "    })\n",
        "\n",
        "def make_submission(kaggle_predictions):\n",
        "    path=\"data/tf_lead_submission.csv\"\n",
        "    kaggle_predictions.to_csv(path, index=False)\n",
        "    print(f\"Submission exported to {path}\")\n",
        "\n",
        "kaggle_predictions = prediction_to_kaggle_format(model)\n",
        "make_submission(kaggle_predictions)\n",
        "!head data/tf_lead_submission.csv"
      ]
    },
    {
      "cell_type": "markdown",
      "metadata": {
        "id": "YDEZB27dgKY7"
      },
      "source": [
        "# Training a model with hyperparameter tunning\n",
        "\n",
        "Hyper-parameter tuning is enabled by specifying the tuner constructor argument of the model. The tuner object contains all the configuration of the tuner (search space, optimizer, trial and objective).\n"
      ]
    },
    {
      "cell_type": "code",
      "execution_count": 15,
      "metadata": {
        "execution": {
          "iopub.execute_input": "2023-04-17T15:23:13.251376Z",
          "iopub.status.busy": "2023-04-17T15:23:13.249675Z",
          "iopub.status.idle": "2023-04-17T15:25:19.611729Z",
          "shell.execute_reply": "2023-04-17T15:25:19.610154Z",
          "shell.execute_reply.started": "2023-04-17T15:23:13.251306Z"
        },
        "id": "WrEhLuRUgKY8",
        "trusted": true
      },
      "outputs": [
        {
          "name": "stdout",
          "output_type": "stream",
          "text": [
            "Use /tmp/tmpmo01405c as temporary training directory\n"
          ]
        },
        {
          "name": "stderr",
          "output_type": "stream",
          "text": [
            "[WARNING 24-01-24 17:04:22.0598 +04 gradient_boosted_trees.cc:1886] \"goss_alpha\" set but \"sampling_method\" not equal to \"GOSS\".\n",
            "[WARNING 24-01-24 17:04:22.0599 +04 gradient_boosted_trees.cc:1897] \"goss_beta\" set but \"sampling_method\" not equal to \"GOSS\".\n",
            "[WARNING 24-01-24 17:04:22.0599 +04 gradient_boosted_trees.cc:1911] \"selective_gradient_boosting_ratio\" set but \"sampling_method\" not equal to \"SELGB\".\n",
            "[INFO 24-01-24 17:06:14.4019 +04 kernel.cc:1233] Loading model from path /tmp/tmpmo01405c/model/ with prefix 0f4f4a7c01f3441e\n",
            "[INFO 24-01-24 17:06:14.4293 +04 decision_forest.cc:660] Model loaded with 30 root(s), 2236 node(s), and 12 input feature(s).\n",
            "[INFO 24-01-24 17:06:14.4293 +04 abstract_model.cc:1344] Engine \"GradientBoostedTreesGeneric\" built\n",
            "[INFO 24-01-24 17:06:14.4294 +04 kernel.cc:1061] Use fast generic engine\n"
          ]
        },
        {
          "name": "stdout",
          "output_type": "stream",
          "text": [
            "Accuracy: 0.8630136847496033 Loss:0.6749962568283081\n"
          ]
        }
      ],
      "source": [
        "tuner = tfdf.tuner.RandomSearch(num_trials=1000)\n",
        "tuner.choice(\"min_examples\", [2, 5, 7, 10])\n",
        "tuner.choice(\"categorical_algorithm\", [\"CART\", \"RANDOM\"])\n",
        "\n",
        "local_search_space = tuner.choice(\"growing_strategy\", [\"LOCAL\"])\n",
        "local_search_space.choice(\"max_depth\", [3, 4, 5, 6, 8])\n",
        "\n",
        "global_search_space = tuner.choice(\"growing_strategy\", [\"BEST_FIRST_GLOBAL\"], merge=True)\n",
        "global_search_space.choice(\"max_num_nodes\", [16, 32, 64, 128, 256])\n",
        "\n",
        "#tuner.choice(\"use_hessian_gain\", [True, False])\n",
        "tuner.choice(\"shrinkage\", [0.02, 0.05, 0.10, 0.15])\n",
        "tuner.choice(\"num_candidate_attributes_ratio\", [0.2, 0.5, 0.9, 1.0])\n",
        "\n",
        "\n",
        "tuner.choice(\"split_axis\", [\"AXIS_ALIGNED\"])\n",
        "oblique_space = tuner.choice(\"split_axis\", [\"SPARSE_OBLIQUE\"], merge=True)\n",
        "oblique_space.choice(\"sparse_oblique_normalization\",\n",
        "                     [\"NONE\", \"STANDARD_DEVIATION\", \"MIN_MAX\"])\n",
        "oblique_space.choice(\"sparse_oblique_weights\", [\"BINARY\", \"CONTINUOUS\"])\n",
        "oblique_space.choice(\"sparse_oblique_num_projections_exponent\", [1.0, 1.5])\n",
        "\n",
        "# Tune the model. Notice the `tuner=tuner`.\n",
        "tuned_model = tfdf.keras.GradientBoostedTreesModel(tuner=tuner)\n",
        "tuned_model.fit(train_ds, verbose=0)\n",
        "\n",
        "tuned_self_evaluation = tuned_model.make_inspector().evaluation()\n",
        "print(f\"Accuracy: {tuned_self_evaluation.accuracy} Loss:{tuned_self_evaluation.loss}\")"
      ]
    },
    {
      "cell_type": "markdown",
      "metadata": {
        "id": "6DNPTxUtgKY8"
      },
      "source": [
        "In the last line in the cell above, you can see the accuracy is higher than previously with default parameters and parameters set by hand.\n",
        "\n",
        "This is the main idea behing hyperparameter tuning.\n",
        "\n",
        "For more information you can follow this tutorial: [Automated hyper-parameter tuning](https://www.tensorflow.org/decision_forests/tutorials/automatic_tuning_colab)"
      ]
    },
    {
      "cell_type": "markdown",
      "metadata": {
        "id": "3wOWAuxagKY8"
      },
      "source": [
        "# Making an ensemble\n",
        "\n",
        "Here you'll create 100 models with different seeds and combine their results\n",
        "\n",
        "This approach removes a little bit the random aspects related to creating ML models\n",
        "\n",
        "In the GBT creation is used the `honest` parameter. It will use different training examples to infer the structure and the leaf values. This regularization technique trades examples for bias estimates."
      ]
    },
    {
      "cell_type": "code",
      "execution_count": 16,
      "metadata": {
        "execution": {
          "iopub.execute_input": "2023-04-17T15:28:37.558172Z",
          "iopub.status.busy": "2023-04-17T15:28:37.557745Z",
          "iopub.status.idle": "2023-04-17T15:28:52.809698Z",
          "shell.execute_reply": "2023-04-17T15:28:52.808193Z",
          "shell.execute_reply.started": "2023-04-17T15:28:37.55813Z"
        },
        "id": "mLeyfra7gKY8",
        "trusted": true
      },
      "outputs": [
        {
          "name": "stdout",
          "output_type": "stream",
          "text": [
            "i:0\n"
          ]
        },
        {
          "name": "stderr",
          "output_type": "stream",
          "text": [
            "[WARNING 24-01-24 17:07:42.9098 +04 gradient_boosted_trees.cc:1886] \"goss_alpha\" set but \"sampling_method\" not equal to \"GOSS\".\n",
            "[WARNING 24-01-24 17:07:42.9098 +04 gradient_boosted_trees.cc:1897] \"goss_beta\" set but \"sampling_method\" not equal to \"GOSS\".\n",
            "[WARNING 24-01-24 17:07:42.9098 +04 gradient_boosted_trees.cc:1911] \"selective_gradient_boosting_ratio\" set but \"sampling_method\" not equal to \"SELGB\".\n",
            "[INFO 24-01-24 17:07:43.7270 +04 kernel.cc:1233] Loading model from path /tmp/tmpdh389vno/model/ with prefix d5ba164a2fa54db6\n",
            "[INFO 24-01-24 17:07:43.7307 +04 quick_scorer_extended.cc:903] The binary was compiled without AVX2 support, but your CPU supports it. Enable it for faster model inference.\n",
            "[INFO 24-01-24 17:07:43.7312 +04 abstract_model.cc:1344] Engine \"GradientBoostedTreesQuickScorerExtended\" built\n",
            "[INFO 24-01-24 17:07:43.7312 +04 kernel.cc:1061] Use fast generic engine\n"
          ]
        },
        {
          "name": "stdout",
          "output_type": "stream",
          "text": [
            "i:1\n"
          ]
        },
        {
          "name": "stderr",
          "output_type": "stream",
          "text": [
            "[WARNING 24-01-24 17:07:44.3899 +04 gradient_boosted_trees.cc:1886] \"goss_alpha\" set but \"sampling_method\" not equal to \"GOSS\".\n",
            "[WARNING 24-01-24 17:07:44.3900 +04 gradient_boosted_trees.cc:1897] \"goss_beta\" set but \"sampling_method\" not equal to \"GOSS\".\n",
            "[WARNING 24-01-24 17:07:44.3900 +04 gradient_boosted_trees.cc:1911] \"selective_gradient_boosting_ratio\" set but \"sampling_method\" not equal to \"SELGB\".\n"
          ]
        },
        {
          "name": "stdout",
          "output_type": "stream",
          "text": [
            "WARNING:tensorflow:5 out of the last 5 calls to <function CoreModel._consumes_training_examples_until_eof at 0x7f2f2ff2c940> triggered tf.function retracing. Tracing is expensive and the excessive number of tracings could be due to (1) creating @tf.function repeatedly in a loop, (2) passing tensors with different shapes, (3) passing Python objects instead of tensors. For (1), please define your @tf.function outside of the loop. For (2), @tf.function has reduce_retracing=True option that can avoid unnecessary retracing. For (3), please refer to https://www.tensorflow.org/guide/function#controlling_retracing and https://www.tensorflow.org/api_docs/python/tf/function for  more details.\n"
          ]
        },
        {
          "name": "stderr",
          "output_type": "stream",
          "text": [
            "WARNING:tensorflow:5 out of the last 5 calls to <function CoreModel._consumes_training_examples_until_eof at 0x7f2f2ff2c940> triggered tf.function retracing. Tracing is expensive and the excessive number of tracings could be due to (1) creating @tf.function repeatedly in a loop, (2) passing tensors with different shapes, (3) passing Python objects instead of tensors. For (1), please define your @tf.function outside of the loop. For (2), @tf.function has reduce_retracing=True option that can avoid unnecessary retracing. For (3), please refer to https://www.tensorflow.org/guide/function#controlling_retracing and https://www.tensorflow.org/api_docs/python/tf/function for  more details.\n",
            "[INFO 24-01-24 17:07:45.5232 +04 kernel.cc:1233] Loading model from path /tmp/tmp50c_wi2o/model/ with prefix aa6f9cd96f394d88\n",
            "[INFO 24-01-24 17:07:45.5394 +04 kernel.cc:1061] Use fast generic engine\n"
          ]
        },
        {
          "name": "stdout",
          "output_type": "stream",
          "text": [
            "WARNING:tensorflow:5 out of the last 8 calls to <function InferenceCoreModel.yggdrasil_model_path_tensor at 0x7f2e8de00430> triggered tf.function retracing. Tracing is expensive and the excessive number of tracings could be due to (1) creating @tf.function repeatedly in a loop, (2) passing tensors with different shapes, (3) passing Python objects instead of tensors. For (1), please define your @tf.function outside of the loop. For (2), @tf.function has reduce_retracing=True option that can avoid unnecessary retracing. For (3), please refer to https://www.tensorflow.org/guide/function#controlling_retracing and https://www.tensorflow.org/api_docs/python/tf/function for  more details.\n"
          ]
        },
        {
          "name": "stderr",
          "output_type": "stream",
          "text": [
            "WARNING:tensorflow:5 out of the last 8 calls to <function InferenceCoreModel.yggdrasil_model_path_tensor at 0x7f2e8de00430> triggered tf.function retracing. Tracing is expensive and the excessive number of tracings could be due to (1) creating @tf.function repeatedly in a loop, (2) passing tensors with different shapes, (3) passing Python objects instead of tensors. For (1), please define your @tf.function outside of the loop. For (2), @tf.function has reduce_retracing=True option that can avoid unnecessary retracing. For (3), please refer to https://www.tensorflow.org/guide/function#controlling_retracing and https://www.tensorflow.org/api_docs/python/tf/function for  more details.\n"
          ]
        },
        {
          "name": "stdout",
          "output_type": "stream",
          "text": [
            "i:2\n"
          ]
        },
        {
          "name": "stderr",
          "output_type": "stream",
          "text": [
            "[WARNING 24-01-24 17:07:46.2705 +04 gradient_boosted_trees.cc:1886] \"goss_alpha\" set but \"sampling_method\" not equal to \"GOSS\".\n",
            "[WARNING 24-01-24 17:07:46.2706 +04 gradient_boosted_trees.cc:1897] \"goss_beta\" set but \"sampling_method\" not equal to \"GOSS\".\n",
            "[WARNING 24-01-24 17:07:46.2706 +04 gradient_boosted_trees.cc:1911] \"selective_gradient_boosting_ratio\" set but \"sampling_method\" not equal to \"SELGB\".\n"
          ]
        },
        {
          "name": "stdout",
          "output_type": "stream",
          "text": [
            "WARNING:tensorflow:6 out of the last 6 calls to <function CoreModel._consumes_training_examples_until_eof at 0x7f2f2ff2c940> triggered tf.function retracing. Tracing is expensive and the excessive number of tracings could be due to (1) creating @tf.function repeatedly in a loop, (2) passing tensors with different shapes, (3) passing Python objects instead of tensors. For (1), please define your @tf.function outside of the loop. For (2), @tf.function has reduce_retracing=True option that can avoid unnecessary retracing. For (3), please refer to https://www.tensorflow.org/guide/function#controlling_retracing and https://www.tensorflow.org/api_docs/python/tf/function for  more details.\n"
          ]
        },
        {
          "name": "stderr",
          "output_type": "stream",
          "text": [
            "WARNING:tensorflow:6 out of the last 6 calls to <function CoreModel._consumes_training_examples_until_eof at 0x7f2f2ff2c940> triggered tf.function retracing. Tracing is expensive and the excessive number of tracings could be due to (1) creating @tf.function repeatedly in a loop, (2) passing tensors with different shapes, (3) passing Python objects instead of tensors. For (1), please define your @tf.function outside of the loop. For (2), @tf.function has reduce_retracing=True option that can avoid unnecessary retracing. For (3), please refer to https://www.tensorflow.org/guide/function#controlling_retracing and https://www.tensorflow.org/api_docs/python/tf/function for  more details.\n",
            "[INFO 24-01-24 17:07:47.1488 +04 kernel.cc:1233] Loading model from path /tmp/tmppt2but4b/model/ with prefix 8638e58c377a4351\n",
            "[INFO 24-01-24 17:07:47.1548 +04 kernel.cc:1061] Use fast generic engine\n"
          ]
        },
        {
          "name": "stdout",
          "output_type": "stream",
          "text": [
            "WARNING:tensorflow:6 out of the last 9 calls to <function InferenceCoreModel.yggdrasil_model_path_tensor at 0x7f2e8de02200> triggered tf.function retracing. Tracing is expensive and the excessive number of tracings could be due to (1) creating @tf.function repeatedly in a loop, (2) passing tensors with different shapes, (3) passing Python objects instead of tensors. For (1), please define your @tf.function outside of the loop. For (2), @tf.function has reduce_retracing=True option that can avoid unnecessary retracing. For (3), please refer to https://www.tensorflow.org/guide/function#controlling_retracing and https://www.tensorflow.org/api_docs/python/tf/function for  more details.\n"
          ]
        },
        {
          "name": "stderr",
          "output_type": "stream",
          "text": [
            "WARNING:tensorflow:6 out of the last 9 calls to <function InferenceCoreModel.yggdrasil_model_path_tensor at 0x7f2e8de02200> triggered tf.function retracing. Tracing is expensive and the excessive number of tracings could be due to (1) creating @tf.function repeatedly in a loop, (2) passing tensors with different shapes, (3) passing Python objects instead of tensors. For (1), please define your @tf.function outside of the loop. For (2), @tf.function has reduce_retracing=True option that can avoid unnecessary retracing. For (3), please refer to https://www.tensorflow.org/guide/function#controlling_retracing and https://www.tensorflow.org/api_docs/python/tf/function for  more details.\n"
          ]
        },
        {
          "name": "stdout",
          "output_type": "stream",
          "text": [
            "i:3\n"
          ]
        },
        {
          "name": "stderr",
          "output_type": "stream",
          "text": [
            "[WARNING 24-01-24 17:07:49.7407 +04 gradient_boosted_trees.cc:1886] \"goss_alpha\" set but \"sampling_method\" not equal to \"GOSS\".\n",
            "[WARNING 24-01-24 17:07:49.7408 +04 gradient_boosted_trees.cc:1897] \"goss_beta\" set but \"sampling_method\" not equal to \"GOSS\".\n",
            "[WARNING 24-01-24 17:07:49.7408 +04 gradient_boosted_trees.cc:1911] \"selective_gradient_boosting_ratio\" set but \"sampling_method\" not equal to \"SELGB\".\n",
            "[INFO 24-01-24 17:07:52.0449 +04 kernel.cc:1233] Loading model from path /tmp/tmp407qlao7/model/ with prefix 38f8d2609bfd4919\n",
            "[INFO 24-01-24 17:07:52.0643 +04 kernel.cc:1061] Use fast generic engine\n"
          ]
        },
        {
          "name": "stdout",
          "output_type": "stream",
          "text": [
            "i:4\n"
          ]
        },
        {
          "name": "stderr",
          "output_type": "stream",
          "text": [
            "[WARNING 24-01-24 17:07:52.6777 +04 gradient_boosted_trees.cc:1886] \"goss_alpha\" set but \"sampling_method\" not equal to \"GOSS\".\n",
            "[WARNING 24-01-24 17:07:52.6778 +04 gradient_boosted_trees.cc:1897] \"goss_beta\" set but \"sampling_method\" not equal to \"GOSS\".\n",
            "[WARNING 24-01-24 17:07:52.6778 +04 gradient_boosted_trees.cc:1911] \"selective_gradient_boosting_ratio\" set but \"sampling_method\" not equal to \"SELGB\".\n",
            "[INFO 24-01-24 17:07:53.2612 +04 kernel.cc:1233] Loading model from path /tmp/tmpxv3o3qwl/model/ with prefix 1f7b0eb2f4374077\n",
            "[INFO 24-01-24 17:07:53.2646 +04 kernel.cc:1061] Use fast generic engine\n"
          ]
        },
        {
          "name": "stdout",
          "output_type": "stream",
          "text": [
            "i:5\n"
          ]
        },
        {
          "name": "stderr",
          "output_type": "stream",
          "text": [
            "[WARNING 24-01-24 17:07:53.7459 +04 gradient_boosted_trees.cc:1886] \"goss_alpha\" set but \"sampling_method\" not equal to \"GOSS\".\n",
            "[WARNING 24-01-24 17:07:53.7459 +04 gradient_boosted_trees.cc:1897] \"goss_beta\" set but \"sampling_method\" not equal to \"GOSS\".\n",
            "[WARNING 24-01-24 17:07:53.7459 +04 gradient_boosted_trees.cc:1911] \"selective_gradient_boosting_ratio\" set but \"sampling_method\" not equal to \"SELGB\".\n",
            "[INFO 24-01-24 17:07:54.7315 +04 kernel.cc:1233] Loading model from path /tmp/tmpl6z94htu/model/ with prefix d3d2879fc339412e\n",
            "[INFO 24-01-24 17:07:54.7364 +04 abstract_model.cc:1344] Engine \"GradientBoostedTreesQuickScorerExtended\" built\n",
            "[INFO 24-01-24 17:07:54.7367 +04 kernel.cc:1061] Use fast generic engine\n"
          ]
        },
        {
          "name": "stdout",
          "output_type": "stream",
          "text": [
            "i:6\n"
          ]
        },
        {
          "name": "stderr",
          "output_type": "stream",
          "text": [
            "[WARNING 24-01-24 17:07:55.3768 +04 gradient_boosted_trees.cc:1886] \"goss_alpha\" set but \"sampling_method\" not equal to \"GOSS\".\n",
            "[WARNING 24-01-24 17:07:55.3768 +04 gradient_boosted_trees.cc:1897] \"goss_beta\" set but \"sampling_method\" not equal to \"GOSS\".\n",
            "[WARNING 24-01-24 17:07:55.3768 +04 gradient_boosted_trees.cc:1911] \"selective_gradient_boosting_ratio\" set but \"sampling_method\" not equal to \"SELGB\".\n",
            "[INFO 24-01-24 17:07:55.9675 +04 kernel.cc:1233] Loading model from path /tmp/tmpvw0d2363/model/ with prefix f4167ceb347c45af\n",
            "[INFO 24-01-24 17:07:55.9732 +04 kernel.cc:1061] Use fast generic engine\n"
          ]
        },
        {
          "name": "stdout",
          "output_type": "stream",
          "text": [
            "i:7\n"
          ]
        },
        {
          "name": "stderr",
          "output_type": "stream",
          "text": [
            "[WARNING 24-01-24 17:07:56.6379 +04 gradient_boosted_trees.cc:1886] \"goss_alpha\" set but \"sampling_method\" not equal to \"GOSS\".\n",
            "[WARNING 24-01-24 17:07:56.6380 +04 gradient_boosted_trees.cc:1897] \"goss_beta\" set but \"sampling_method\" not equal to \"GOSS\".\n",
            "[WARNING 24-01-24 17:07:56.6380 +04 gradient_boosted_trees.cc:1911] \"selective_gradient_boosting_ratio\" set but \"sampling_method\" not equal to \"SELGB\".\n",
            "[INFO 24-01-24 17:07:58.2948 +04 kernel.cc:1233] Loading model from path /tmp/tmp42m14rfw/model/ with prefix a624ae311c9244f3\n",
            "[INFO 24-01-24 17:07:58.3229 +04 kernel.cc:1061] Use fast generic engine\n"
          ]
        },
        {
          "name": "stdout",
          "output_type": "stream",
          "text": [
            "i:8\n"
          ]
        },
        {
          "name": "stderr",
          "output_type": "stream",
          "text": [
            "[WARNING 24-01-24 17:07:59.9603 +04 gradient_boosted_trees.cc:1886] \"goss_alpha\" set but \"sampling_method\" not equal to \"GOSS\".\n",
            "[WARNING 24-01-24 17:07:59.9603 +04 gradient_boosted_trees.cc:1897] \"goss_beta\" set but \"sampling_method\" not equal to \"GOSS\".\n",
            "[WARNING 24-01-24 17:07:59.9603 +04 gradient_boosted_trees.cc:1911] \"selective_gradient_boosting_ratio\" set but \"sampling_method\" not equal to \"SELGB\".\n",
            "[INFO 24-01-24 17:08:01.9495 +04 kernel.cc:1233] Loading model from path /tmp/tmp0ek6mbuu/model/ with prefix 14445661ac88441b\n",
            "[INFO 24-01-24 17:08:01.9655 +04 kernel.cc:1061] Use fast generic engine\n"
          ]
        },
        {
          "name": "stdout",
          "output_type": "stream",
          "text": [
            "i:9\n"
          ]
        },
        {
          "name": "stderr",
          "output_type": "stream",
          "text": [
            "[WARNING 24-01-24 17:08:02.4930 +04 gradient_boosted_trees.cc:1886] \"goss_alpha\" set but \"sampling_method\" not equal to \"GOSS\".\n",
            "[WARNING 24-01-24 17:08:02.4930 +04 gradient_boosted_trees.cc:1897] \"goss_beta\" set but \"sampling_method\" not equal to \"GOSS\".\n",
            "[WARNING 24-01-24 17:08:02.4930 +04 gradient_boosted_trees.cc:1911] \"selective_gradient_boosting_ratio\" set but \"sampling_method\" not equal to \"SELGB\".\n",
            "[INFO 24-01-24 17:08:03.2374 +04 kernel.cc:1233] Loading model from path /tmp/tmpxjcz6lhx/model/ with prefix 8d8d97f59eb34923\n",
            "[INFO 24-01-24 17:08:03.2453 +04 kernel.cc:1061] Use fast generic engine\n"
          ]
        },
        {
          "name": "stdout",
          "output_type": "stream",
          "text": [
            "i:10\n"
          ]
        },
        {
          "name": "stderr",
          "output_type": "stream",
          "text": [
            "[WARNING 24-01-24 17:08:03.7371 +04 gradient_boosted_trees.cc:1886] \"goss_alpha\" set but \"sampling_method\" not equal to \"GOSS\".\n",
            "[WARNING 24-01-24 17:08:03.7371 +04 gradient_boosted_trees.cc:1897] \"goss_beta\" set but \"sampling_method\" not equal to \"GOSS\".\n",
            "[WARNING 24-01-24 17:08:03.7371 +04 gradient_boosted_trees.cc:1911] \"selective_gradient_boosting_ratio\" set but \"sampling_method\" not equal to \"SELGB\".\n",
            "[INFO 24-01-24 17:08:04.3748 +04 kernel.cc:1233] Loading model from path /tmp/tmp3fn6cr0x/model/ with prefix 2bddbae96cdc4268\n",
            "[INFO 24-01-24 17:08:04.3776 +04 kernel.cc:1061] Use fast generic engine\n"
          ]
        },
        {
          "name": "stdout",
          "output_type": "stream",
          "text": [
            "i:11\n"
          ]
        },
        {
          "name": "stderr",
          "output_type": "stream",
          "text": [
            "[WARNING 24-01-24 17:08:04.8574 +04 gradient_boosted_trees.cc:1886] \"goss_alpha\" set but \"sampling_method\" not equal to \"GOSS\".\n",
            "[WARNING 24-01-24 17:08:04.8575 +04 gradient_boosted_trees.cc:1897] \"goss_beta\" set but \"sampling_method\" not equal to \"GOSS\".\n",
            "[WARNING 24-01-24 17:08:04.8575 +04 gradient_boosted_trees.cc:1911] \"selective_gradient_boosting_ratio\" set but \"sampling_method\" not equal to \"SELGB\".\n",
            "[INFO 24-01-24 17:08:05.5610 +04 kernel.cc:1233] Loading model from path /tmp/tmpf2znx4pw/model/ with prefix 38050d7d7ccc44af\n",
            "[INFO 24-01-24 17:08:05.5687 +04 abstract_model.cc:1344] Engine \"GradientBoostedTreesQuickScorerExtended\" built\n",
            "[INFO 24-01-24 17:08:05.5688 +04 kernel.cc:1061] Use fast generic engine\n"
          ]
        },
        {
          "name": "stdout",
          "output_type": "stream",
          "text": [
            "i:12\n"
          ]
        },
        {
          "name": "stderr",
          "output_type": "stream",
          "text": [
            "[WARNING 24-01-24 17:08:06.0323 +04 gradient_boosted_trees.cc:1886] \"goss_alpha\" set but \"sampling_method\" not equal to \"GOSS\".\n",
            "[WARNING 24-01-24 17:08:06.0323 +04 gradient_boosted_trees.cc:1897] \"goss_beta\" set but \"sampling_method\" not equal to \"GOSS\".\n",
            "[WARNING 24-01-24 17:08:06.0323 +04 gradient_boosted_trees.cc:1911] \"selective_gradient_boosting_ratio\" set but \"sampling_method\" not equal to \"SELGB\".\n",
            "[INFO 24-01-24 17:08:06.6411 +04 kernel.cc:1233] Loading model from path /tmp/tmp6l3j8n4k/model/ with prefix 8e7e727705c34cb7\n",
            "[INFO 24-01-24 17:08:06.6435 +04 kernel.cc:1061] Use fast generic engine\n"
          ]
        },
        {
          "name": "stdout",
          "output_type": "stream",
          "text": [
            "i:13\n"
          ]
        },
        {
          "name": "stderr",
          "output_type": "stream",
          "text": [
            "[WARNING 24-01-24 17:08:07.1092 +04 gradient_boosted_trees.cc:1886] \"goss_alpha\" set but \"sampling_method\" not equal to \"GOSS\".\n",
            "[WARNING 24-01-24 17:08:07.1093 +04 gradient_boosted_trees.cc:1897] \"goss_beta\" set but \"sampling_method\" not equal to \"GOSS\".\n",
            "[WARNING 24-01-24 17:08:07.1093 +04 gradient_boosted_trees.cc:1911] \"selective_gradient_boosting_ratio\" set but \"sampling_method\" not equal to \"SELGB\".\n",
            "[INFO 24-01-24 17:08:09.1228 +04 kernel.cc:1233] Loading model from path /tmp/tmpu868af9j/model/ with prefix e3f4802bae8545dc\n",
            "[INFO 24-01-24 17:08:09.1440 +04 kernel.cc:1061] Use fast generic engine\n"
          ]
        },
        {
          "name": "stdout",
          "output_type": "stream",
          "text": [
            "i:14\n"
          ]
        },
        {
          "name": "stderr",
          "output_type": "stream",
          "text": [
            "[WARNING 24-01-24 17:08:10.4057 +04 gradient_boosted_trees.cc:1886] \"goss_alpha\" set but \"sampling_method\" not equal to \"GOSS\".\n",
            "[WARNING 24-01-24 17:08:10.4059 +04 gradient_boosted_trees.cc:1897] \"goss_beta\" set but \"sampling_method\" not equal to \"GOSS\".\n",
            "[WARNING 24-01-24 17:08:10.4059 +04 gradient_boosted_trees.cc:1911] \"selective_gradient_boosting_ratio\" set but \"sampling_method\" not equal to \"SELGB\".\n",
            "[INFO 24-01-24 17:08:12.1917 +04 kernel.cc:1233] Loading model from path /tmp/tmpq3k8eywr/model/ with prefix bf3a60f5b1b24887\n",
            "[INFO 24-01-24 17:08:12.1969 +04 kernel.cc:1061] Use fast generic engine\n"
          ]
        },
        {
          "name": "stdout",
          "output_type": "stream",
          "text": [
            "i:15\n"
          ]
        },
        {
          "name": "stderr",
          "output_type": "stream",
          "text": [
            "[WARNING 24-01-24 17:08:12.7512 +04 gradient_boosted_trees.cc:1886] \"goss_alpha\" set but \"sampling_method\" not equal to \"GOSS\".\n",
            "[WARNING 24-01-24 17:08:12.7512 +04 gradient_boosted_trees.cc:1897] \"goss_beta\" set but \"sampling_method\" not equal to \"GOSS\".\n",
            "[WARNING 24-01-24 17:08:12.7512 +04 gradient_boosted_trees.cc:1911] \"selective_gradient_boosting_ratio\" set but \"sampling_method\" not equal to \"SELGB\".\n",
            "[INFO 24-01-24 17:08:13.5819 +04 kernel.cc:1233] Loading model from path /tmp/tmpxugqsesq/model/ with prefix b73ac0b44c924efc\n",
            "[INFO 24-01-24 17:08:13.5859 +04 kernel.cc:1061] Use fast generic engine\n"
          ]
        },
        {
          "name": "stdout",
          "output_type": "stream",
          "text": [
            "i:16\n"
          ]
        },
        {
          "name": "stderr",
          "output_type": "stream",
          "text": [
            "[WARNING 24-01-24 17:08:14.3650 +04 gradient_boosted_trees.cc:1886] \"goss_alpha\" set but \"sampling_method\" not equal to \"GOSS\".\n",
            "[WARNING 24-01-24 17:08:14.3650 +04 gradient_boosted_trees.cc:1897] \"goss_beta\" set but \"sampling_method\" not equal to \"GOSS\".\n",
            "[WARNING 24-01-24 17:08:14.3650 +04 gradient_boosted_trees.cc:1911] \"selective_gradient_boosting_ratio\" set but \"sampling_method\" not equal to \"SELGB\".\n",
            "[INFO 24-01-24 17:08:15.1202 +04 kernel.cc:1233] Loading model from path /tmp/tmpmnb8dl43/model/ with prefix fc346bdde77a4cdb\n",
            "[INFO 24-01-24 17:08:15.1259 +04 quick_scorer_extended.cc:903] The binary was compiled without AVX2 support, but your CPU supports it. Enable it for faster model inference.\n",
            "[INFO 24-01-24 17:08:15.1276 +04 kernel.cc:1061] Use fast generic engine\n"
          ]
        },
        {
          "name": "stdout",
          "output_type": "stream",
          "text": [
            "i:17\n"
          ]
        },
        {
          "name": "stderr",
          "output_type": "stream",
          "text": [
            "[WARNING 24-01-24 17:08:15.6357 +04 gradient_boosted_trees.cc:1886] \"goss_alpha\" set but \"sampling_method\" not equal to \"GOSS\".\n",
            "[WARNING 24-01-24 17:08:15.6357 +04 gradient_boosted_trees.cc:1897] \"goss_beta\" set but \"sampling_method\" not equal to \"GOSS\".\n",
            "[WARNING 24-01-24 17:08:15.6357 +04 gradient_boosted_trees.cc:1911] \"selective_gradient_boosting_ratio\" set but \"sampling_method\" not equal to \"SELGB\".\n",
            "[INFO 24-01-24 17:08:16.3668 +04 kernel.cc:1233] Loading model from path /tmp/tmpd_7dpagc/model/ with prefix a03dd9c5c1c8441e\n",
            "[INFO 24-01-24 17:08:16.3740 +04 abstract_model.cc:1344] Engine \"GradientBoostedTreesQuickScorerExtended\" built\n",
            "[INFO 24-01-24 17:08:16.3740 +04 kernel.cc:1061] Use fast generic engine\n"
          ]
        },
        {
          "name": "stdout",
          "output_type": "stream",
          "text": [
            "i:18\n"
          ]
        },
        {
          "name": "stderr",
          "output_type": "stream",
          "text": [
            "[WARNING 24-01-24 17:08:16.8585 +04 gradient_boosted_trees.cc:1886] \"goss_alpha\" set but \"sampling_method\" not equal to \"GOSS\".\n",
            "[WARNING 24-01-24 17:08:16.8585 +04 gradient_boosted_trees.cc:1897] \"goss_beta\" set but \"sampling_method\" not equal to \"GOSS\".\n",
            "[WARNING 24-01-24 17:08:16.8585 +04 gradient_boosted_trees.cc:1911] \"selective_gradient_boosting_ratio\" set but \"sampling_method\" not equal to \"SELGB\".\n",
            "[INFO 24-01-24 17:08:18.1671 +04 kernel.cc:1233] Loading model from path /tmp/tmp52yp8swl/model/ with prefix c07b45f80c534c5f\n",
            "[INFO 24-01-24 17:08:18.1857 +04 kernel.cc:1061] Use fast generic engine\n"
          ]
        },
        {
          "name": "stdout",
          "output_type": "stream",
          "text": [
            "i:19\n"
          ]
        },
        {
          "name": "stderr",
          "output_type": "stream",
          "text": [
            "[WARNING 24-01-24 17:08:19.2098 +04 gradient_boosted_trees.cc:1886] \"goss_alpha\" set but \"sampling_method\" not equal to \"GOSS\".\n",
            "[WARNING 24-01-24 17:08:19.2100 +04 gradient_boosted_trees.cc:1897] \"goss_beta\" set but \"sampling_method\" not equal to \"GOSS\".\n",
            "[WARNING 24-01-24 17:08:19.2100 +04 gradient_boosted_trees.cc:1911] \"selective_gradient_boosting_ratio\" set but \"sampling_method\" not equal to \"SELGB\".\n",
            "[INFO 24-01-24 17:08:21.1952 +04 kernel.cc:1233] Loading model from path /tmp/tmp19nw_ph5/model/ with prefix e3bebf0fc306409c\n",
            "[INFO 24-01-24 17:08:21.2113 +04 kernel.cc:1061] Use fast generic engine\n"
          ]
        },
        {
          "name": "stdout",
          "output_type": "stream",
          "text": [
            "i:20\n"
          ]
        },
        {
          "name": "stderr",
          "output_type": "stream",
          "text": [
            "[WARNING 24-01-24 17:08:22.2367 +04 gradient_boosted_trees.cc:1886] \"goss_alpha\" set but \"sampling_method\" not equal to \"GOSS\".\n",
            "[WARNING 24-01-24 17:08:22.2367 +04 gradient_boosted_trees.cc:1897] \"goss_beta\" set but \"sampling_method\" not equal to \"GOSS\".\n",
            "[WARNING 24-01-24 17:08:22.2367 +04 gradient_boosted_trees.cc:1911] \"selective_gradient_boosting_ratio\" set but \"sampling_method\" not equal to \"SELGB\".\n",
            "[INFO 24-01-24 17:08:23.0730 +04 kernel.cc:1233] Loading model from path /tmp/tmpspa19rfe/model/ with prefix e6dc7ecbdac44b40\n",
            "[INFO 24-01-24 17:08:23.0820 +04 kernel.cc:1061] Use fast generic engine\n"
          ]
        },
        {
          "name": "stdout",
          "output_type": "stream",
          "text": [
            "i:21\n"
          ]
        },
        {
          "name": "stderr",
          "output_type": "stream",
          "text": [
            "[WARNING 24-01-24 17:08:23.6169 +04 gradient_boosted_trees.cc:1886] \"goss_alpha\" set but \"sampling_method\" not equal to \"GOSS\".\n",
            "[WARNING 24-01-24 17:08:23.6169 +04 gradient_boosted_trees.cc:1897] \"goss_beta\" set but \"sampling_method\" not equal to \"GOSS\".\n",
            "[WARNING 24-01-24 17:08:23.6170 +04 gradient_boosted_trees.cc:1911] \"selective_gradient_boosting_ratio\" set but \"sampling_method\" not equal to \"SELGB\".\n",
            "[INFO 24-01-24 17:08:24.2371 +04 kernel.cc:1233] Loading model from path /tmp/tmpg4rheh84/model/ with prefix 34e792c8ffc144b9\n",
            "[INFO 24-01-24 17:08:24.2393 +04 kernel.cc:1061] Use fast generic engine\n"
          ]
        },
        {
          "name": "stdout",
          "output_type": "stream",
          "text": [
            "i:22\n"
          ]
        },
        {
          "name": "stderr",
          "output_type": "stream",
          "text": [
            "[WARNING 24-01-24 17:08:24.7243 +04 gradient_boosted_trees.cc:1886] \"goss_alpha\" set but \"sampling_method\" not equal to \"GOSS\".\n",
            "[WARNING 24-01-24 17:08:24.7243 +04 gradient_boosted_trees.cc:1897] \"goss_beta\" set but \"sampling_method\" not equal to \"GOSS\".\n",
            "[WARNING 24-01-24 17:08:24.7243 +04 gradient_boosted_trees.cc:1911] \"selective_gradient_boosting_ratio\" set but \"sampling_method\" not equal to \"SELGB\".\n",
            "[INFO 24-01-24 17:08:25.3161 +04 kernel.cc:1233] Loading model from path /tmp/tmp_o_sdj1v/model/ with prefix 2935fd09242f42db\n",
            "[INFO 24-01-24 17:08:25.3188 +04 kernel.cc:1061] Use fast generic engine\n"
          ]
        },
        {
          "name": "stdout",
          "output_type": "stream",
          "text": [
            "i:23\n"
          ]
        },
        {
          "name": "stderr",
          "output_type": "stream",
          "text": [
            "[WARNING 24-01-24 17:08:25.7872 +04 gradient_boosted_trees.cc:1886] \"goss_alpha\" set but \"sampling_method\" not equal to \"GOSS\".\n",
            "[WARNING 24-01-24 17:08:25.7872 +04 gradient_boosted_trees.cc:1897] \"goss_beta\" set but \"sampling_method\" not equal to \"GOSS\".\n",
            "[WARNING 24-01-24 17:08:25.7872 +04 gradient_boosted_trees.cc:1911] \"selective_gradient_boosting_ratio\" set but \"sampling_method\" not equal to \"SELGB\".\n",
            "[INFO 24-01-24 17:08:26.4911 +04 kernel.cc:1233] Loading model from path /tmp/tmpkny9taxw/model/ with prefix c59e1d84eec340a4\n",
            "[INFO 24-01-24 17:08:26.4964 +04 abstract_model.cc:1344] Engine \"GradientBoostedTreesQuickScorerExtended\" built\n",
            "[INFO 24-01-24 17:08:26.4964 +04 kernel.cc:1061] Use fast generic engine\n"
          ]
        },
        {
          "name": "stdout",
          "output_type": "stream",
          "text": [
            "i:24\n"
          ]
        },
        {
          "name": "stderr",
          "output_type": "stream",
          "text": [
            "[WARNING 24-01-24 17:08:27.1074 +04 gradient_boosted_trees.cc:1886] \"goss_alpha\" set but \"sampling_method\" not equal to \"GOSS\".\n",
            "[WARNING 24-01-24 17:08:27.1074 +04 gradient_boosted_trees.cc:1897] \"goss_beta\" set but \"sampling_method\" not equal to \"GOSS\".\n",
            "[WARNING 24-01-24 17:08:27.1074 +04 gradient_boosted_trees.cc:1911] \"selective_gradient_boosting_ratio\" set but \"sampling_method\" not equal to \"SELGB\".\n",
            "[INFO 24-01-24 17:08:29.2518 +04 kernel.cc:1233] Loading model from path /tmp/tmplig0icx0/model/ with prefix c7df30edef7444e8\n",
            "[INFO 24-01-24 17:08:29.2653 +04 kernel.cc:1061] Use fast generic engine\n"
          ]
        },
        {
          "name": "stdout",
          "output_type": "stream",
          "text": [
            "i:25\n"
          ]
        },
        {
          "name": "stderr",
          "output_type": "stream",
          "text": [
            "[WARNING 24-01-24 17:08:31.6443 +04 gradient_boosted_trees.cc:1886] \"goss_alpha\" set but \"sampling_method\" not equal to \"GOSS\".\n",
            "[WARNING 24-01-24 17:08:31.6444 +04 gradient_boosted_trees.cc:1897] \"goss_beta\" set but \"sampling_method\" not equal to \"GOSS\".\n",
            "[WARNING 24-01-24 17:08:31.6444 +04 gradient_boosted_trees.cc:1911] \"selective_gradient_boosting_ratio\" set but \"sampling_method\" not equal to \"SELGB\".\n",
            "[INFO 24-01-24 17:08:32.8659 +04 kernel.cc:1233] Loading model from path /tmp/tmp99swk7nz/model/ with prefix 45f55f2781a849bd\n",
            "[INFO 24-01-24 17:08:32.8718 +04 kernel.cc:1061] Use fast generic engine\n"
          ]
        },
        {
          "name": "stdout",
          "output_type": "stream",
          "text": [
            "i:26\n"
          ]
        },
        {
          "name": "stderr",
          "output_type": "stream",
          "text": [
            "[WARNING 24-01-24 17:08:33.4018 +04 gradient_boosted_trees.cc:1886] \"goss_alpha\" set but \"sampling_method\" not equal to \"GOSS\".\n",
            "[WARNING 24-01-24 17:08:33.4018 +04 gradient_boosted_trees.cc:1897] \"goss_beta\" set but \"sampling_method\" not equal to \"GOSS\".\n",
            "[WARNING 24-01-24 17:08:33.4018 +04 gradient_boosted_trees.cc:1911] \"selective_gradient_boosting_ratio\" set but \"sampling_method\" not equal to \"SELGB\".\n",
            "[INFO 24-01-24 17:08:34.3464 +04 kernel.cc:1233] Loading model from path /tmp/tmp9ywghc1v/model/ with prefix 0a371502c9a744e6\n",
            "[INFO 24-01-24 17:08:34.3525 +04 kernel.cc:1061] Use fast generic engine\n"
          ]
        },
        {
          "name": "stdout",
          "output_type": "stream",
          "text": [
            "i:27\n"
          ]
        },
        {
          "name": "stderr",
          "output_type": "stream",
          "text": [
            "[WARNING 24-01-24 17:08:35.0679 +04 gradient_boosted_trees.cc:1886] \"goss_alpha\" set but \"sampling_method\" not equal to \"GOSS\".\n",
            "[WARNING 24-01-24 17:08:35.0679 +04 gradient_boosted_trees.cc:1897] \"goss_beta\" set but \"sampling_method\" not equal to \"GOSS\".\n",
            "[WARNING 24-01-24 17:08:35.0679 +04 gradient_boosted_trees.cc:1911] \"selective_gradient_boosting_ratio\" set but \"sampling_method\" not equal to \"SELGB\".\n",
            "[INFO 24-01-24 17:08:35.9293 +04 kernel.cc:1233] Loading model from path /tmp/tmp3q585kby/model/ with prefix 4a44a38a29184d1c\n",
            "[INFO 24-01-24 17:08:35.9348 +04 kernel.cc:1061] Use fast generic engine\n"
          ]
        },
        {
          "name": "stdout",
          "output_type": "stream",
          "text": [
            "i:28\n"
          ]
        },
        {
          "name": "stderr",
          "output_type": "stream",
          "text": [
            "[WARNING 24-01-24 17:08:36.5798 +04 gradient_boosted_trees.cc:1886] \"goss_alpha\" set but \"sampling_method\" not equal to \"GOSS\".\n",
            "[WARNING 24-01-24 17:08:36.5799 +04 gradient_boosted_trees.cc:1897] \"goss_beta\" set but \"sampling_method\" not equal to \"GOSS\".\n",
            "[WARNING 24-01-24 17:08:36.5799 +04 gradient_boosted_trees.cc:1911] \"selective_gradient_boosting_ratio\" set but \"sampling_method\" not equal to \"SELGB\".\n",
            "[INFO 24-01-24 17:08:37.8169 +04 kernel.cc:1233] Loading model from path /tmp/tmp8xzs4cd5/model/ with prefix 6c06595a2c5a439a\n",
            "[INFO 24-01-24 17:08:37.8248 +04 abstract_model.cc:1344] Engine \"GradientBoostedTreesQuickScorerExtended\" built\n",
            "[INFO 24-01-24 17:08:37.8250 +04 kernel.cc:1061] Use fast generic engine\n"
          ]
        },
        {
          "name": "stdout",
          "output_type": "stream",
          "text": [
            "i:29\n"
          ]
        },
        {
          "name": "stderr",
          "output_type": "stream",
          "text": [
            "[WARNING 24-01-24 17:08:41.3412 +04 gradient_boosted_trees.cc:1886] \"goss_alpha\" set but \"sampling_method\" not equal to \"GOSS\".\n",
            "[WARNING 24-01-24 17:08:41.3413 +04 gradient_boosted_trees.cc:1897] \"goss_beta\" set but \"sampling_method\" not equal to \"GOSS\".\n",
            "[WARNING 24-01-24 17:08:41.3413 +04 gradient_boosted_trees.cc:1911] \"selective_gradient_boosting_ratio\" set but \"sampling_method\" not equal to \"SELGB\".\n",
            "[INFO 24-01-24 17:08:42.6922 +04 kernel.cc:1233] Loading model from path /tmp/tmp_coxurw7/model/ with prefix 3f2453304ec24966\n",
            "[INFO 24-01-24 17:08:42.7013 +04 kernel.cc:1061] Use fast generic engine\n"
          ]
        },
        {
          "name": "stdout",
          "output_type": "stream",
          "text": [
            "i:30\n"
          ]
        },
        {
          "name": "stderr",
          "output_type": "stream",
          "text": [
            "[WARNING 24-01-24 17:08:43.3010 +04 gradient_boosted_trees.cc:1886] \"goss_alpha\" set but \"sampling_method\" not equal to \"GOSS\".\n",
            "[WARNING 24-01-24 17:08:43.3010 +04 gradient_boosted_trees.cc:1897] \"goss_beta\" set but \"sampling_method\" not equal to \"GOSS\".\n",
            "[WARNING 24-01-24 17:08:43.3010 +04 gradient_boosted_trees.cc:1911] \"selective_gradient_boosting_ratio\" set but \"sampling_method\" not equal to \"SELGB\".\n",
            "[INFO 24-01-24 17:08:44.5454 +04 kernel.cc:1233] Loading model from path /tmp/tmp72i_0bdo/model/ with prefix e6a3febac29d4d87\n",
            "[INFO 24-01-24 17:08:44.5700 +04 kernel.cc:1061] Use fast generic engine\n"
          ]
        },
        {
          "name": "stdout",
          "output_type": "stream",
          "text": [
            "i:31\n"
          ]
        },
        {
          "name": "stderr",
          "output_type": "stream",
          "text": [
            "[WARNING 24-01-24 17:08:45.2275 +04 gradient_boosted_trees.cc:1886] \"goss_alpha\" set but \"sampling_method\" not equal to \"GOSS\".\n",
            "[WARNING 24-01-24 17:08:45.2275 +04 gradient_boosted_trees.cc:1897] \"goss_beta\" set but \"sampling_method\" not equal to \"GOSS\".\n",
            "[WARNING 24-01-24 17:08:45.2275 +04 gradient_boosted_trees.cc:1911] \"selective_gradient_boosting_ratio\" set but \"sampling_method\" not equal to \"SELGB\".\n",
            "[INFO 24-01-24 17:08:46.0331 +04 kernel.cc:1233] Loading model from path /tmp/tmph2rdhifg/model/ with prefix 34fe33ea8fd845c5\n",
            "[INFO 24-01-24 17:08:46.0378 +04 quick_scorer_extended.cc:903] The binary was compiled without AVX2 support, but your CPU supports it. Enable it for faster model inference.\n",
            "[INFO 24-01-24 17:08:46.0384 +04 kernel.cc:1061] Use fast generic engine\n"
          ]
        },
        {
          "name": "stdout",
          "output_type": "stream",
          "text": [
            "i:32\n"
          ]
        },
        {
          "name": "stderr",
          "output_type": "stream",
          "text": [
            "[WARNING 24-01-24 17:08:46.6080 +04 gradient_boosted_trees.cc:1886] \"goss_alpha\" set but \"sampling_method\" not equal to \"GOSS\".\n",
            "[WARNING 24-01-24 17:08:46.6081 +04 gradient_boosted_trees.cc:1897] \"goss_beta\" set but \"sampling_method\" not equal to \"GOSS\".\n",
            "[WARNING 24-01-24 17:08:46.6081 +04 gradient_boosted_trees.cc:1911] \"selective_gradient_boosting_ratio\" set but \"sampling_method\" not equal to \"SELGB\".\n",
            "[INFO 24-01-24 17:08:48.2670 +04 kernel.cc:1233] Loading model from path /tmp/tmpwi3_etjn/model/ with prefix 3190036ff2634fbd\n",
            "[INFO 24-01-24 17:08:48.2801 +04 abstract_model.cc:1344] Engine \"GradientBoostedTreesQuickScorerExtended\" built\n",
            "[INFO 24-01-24 17:08:48.2802 +04 kernel.cc:1061] Use fast generic engine\n"
          ]
        },
        {
          "name": "stdout",
          "output_type": "stream",
          "text": [
            "i:33\n"
          ]
        },
        {
          "name": "stderr",
          "output_type": "stream",
          "text": [
            "[WARNING 24-01-24 17:08:49.7010 +04 gradient_boosted_trees.cc:1886] \"goss_alpha\" set but \"sampling_method\" not equal to \"GOSS\".\n",
            "[WARNING 24-01-24 17:08:49.7010 +04 gradient_boosted_trees.cc:1897] \"goss_beta\" set but \"sampling_method\" not equal to \"GOSS\".\n",
            "[WARNING 24-01-24 17:08:49.7010 +04 gradient_boosted_trees.cc:1911] \"selective_gradient_boosting_ratio\" set but \"sampling_method\" not equal to \"SELGB\".\n",
            "[INFO 24-01-24 17:08:52.1129 +04 kernel.cc:1233] Loading model from path /tmp/tmpbpjefhx_/model/ with prefix 00b29d7ff32942cd\n",
            "[INFO 24-01-24 17:08:52.1593 +04 kernel.cc:1061] Use fast generic engine\n"
          ]
        },
        {
          "name": "stdout",
          "output_type": "stream",
          "text": [
            "i:34\n"
          ]
        },
        {
          "name": "stderr",
          "output_type": "stream",
          "text": [
            "[WARNING 24-01-24 17:08:52.9548 +04 gradient_boosted_trees.cc:1886] \"goss_alpha\" set but \"sampling_method\" not equal to \"GOSS\".\n",
            "[WARNING 24-01-24 17:08:52.9549 +04 gradient_boosted_trees.cc:1897] \"goss_beta\" set but \"sampling_method\" not equal to \"GOSS\".\n",
            "[WARNING 24-01-24 17:08:52.9549 +04 gradient_boosted_trees.cc:1911] \"selective_gradient_boosting_ratio\" set but \"sampling_method\" not equal to \"SELGB\".\n",
            "[INFO 24-01-24 17:08:53.6673 +04 kernel.cc:1233] Loading model from path /tmp/tmp8bzbt_bp/model/ with prefix 9793ef80cbe94d0e\n",
            "[INFO 24-01-24 17:08:53.6714 +04 kernel.cc:1061] Use fast generic engine\n"
          ]
        },
        {
          "name": "stdout",
          "output_type": "stream",
          "text": [
            "i:35\n"
          ]
        },
        {
          "name": "stderr",
          "output_type": "stream",
          "text": [
            "[WARNING 24-01-24 17:08:54.6530 +04 gradient_boosted_trees.cc:1886] \"goss_alpha\" set but \"sampling_method\" not equal to \"GOSS\".\n",
            "[WARNING 24-01-24 17:08:54.6531 +04 gradient_boosted_trees.cc:1897] \"goss_beta\" set but \"sampling_method\" not equal to \"GOSS\".\n",
            "[WARNING 24-01-24 17:08:54.6531 +04 gradient_boosted_trees.cc:1911] \"selective_gradient_boosting_ratio\" set but \"sampling_method\" not equal to \"SELGB\".\n",
            "[INFO 24-01-24 17:08:55.9235 +04 kernel.cc:1233] Loading model from path /tmp/tmp8b6tvb0j/model/ with prefix 2663245ad5da4d70\n",
            "[INFO 24-01-24 17:08:55.9319 +04 kernel.cc:1061] Use fast generic engine\n"
          ]
        },
        {
          "name": "stdout",
          "output_type": "stream",
          "text": [
            "i:36\n"
          ]
        },
        {
          "name": "stderr",
          "output_type": "stream",
          "text": [
            "[WARNING 24-01-24 17:08:56.8782 +04 gradient_boosted_trees.cc:1886] \"goss_alpha\" set but \"sampling_method\" not equal to \"GOSS\".\n",
            "[WARNING 24-01-24 17:08:56.8782 +04 gradient_boosted_trees.cc:1897] \"goss_beta\" set but \"sampling_method\" not equal to \"GOSS\".\n",
            "[WARNING 24-01-24 17:08:56.8782 +04 gradient_boosted_trees.cc:1911] \"selective_gradient_boosting_ratio\" set but \"sampling_method\" not equal to \"SELGB\".\n",
            "[INFO 24-01-24 17:08:58.5555 +04 kernel.cc:1233] Loading model from path /tmp/tmpd_bryn49/model/ with prefix 76dad5689688499f\n",
            "[INFO 24-01-24 17:08:58.5663 +04 abstract_model.cc:1344] Engine \"GradientBoostedTreesQuickScorerExtended\" built\n",
            "[INFO 24-01-24 17:08:58.5663 +04 kernel.cc:1061] Use fast generic engine\n"
          ]
        },
        {
          "name": "stdout",
          "output_type": "stream",
          "text": [
            "i:37\n"
          ]
        },
        {
          "name": "stderr",
          "output_type": "stream",
          "text": [
            "[WARNING 24-01-24 17:08:59.2679 +04 gradient_boosted_trees.cc:1886] \"goss_alpha\" set but \"sampling_method\" not equal to \"GOSS\".\n",
            "[WARNING 24-01-24 17:08:59.2679 +04 gradient_boosted_trees.cc:1897] \"goss_beta\" set but \"sampling_method\" not equal to \"GOSS\".\n",
            "[WARNING 24-01-24 17:08:59.2680 +04 gradient_boosted_trees.cc:1911] \"selective_gradient_boosting_ratio\" set but \"sampling_method\" not equal to \"SELGB\".\n",
            "[INFO 24-01-24 17:08:59.9669 +04 kernel.cc:1233] Loading model from path /tmp/tmpvlex4oub/model/ with prefix 3f359a25a3a04562\n",
            "[INFO 24-01-24 17:08:59.9721 +04 kernel.cc:1061] Use fast generic engine\n"
          ]
        },
        {
          "name": "stdout",
          "output_type": "stream",
          "text": [
            "i:38\n"
          ]
        },
        {
          "name": "stderr",
          "output_type": "stream",
          "text": [
            "[WARNING 24-01-24 17:09:00.4802 +04 gradient_boosted_trees.cc:1886] \"goss_alpha\" set but \"sampling_method\" not equal to \"GOSS\".\n",
            "[WARNING 24-01-24 17:09:00.4803 +04 gradient_boosted_trees.cc:1897] \"goss_beta\" set but \"sampling_method\" not equal to \"GOSS\".\n",
            "[WARNING 24-01-24 17:09:00.4803 +04 gradient_boosted_trees.cc:1911] \"selective_gradient_boosting_ratio\" set but \"sampling_method\" not equal to \"SELGB\".\n",
            "[INFO 24-01-24 17:09:01.1933 +04 kernel.cc:1233] Loading model from path /tmp/tmpovlxmiaz/model/ with prefix 54f08634f9a44115\n",
            "[INFO 24-01-24 17:09:01.1994 +04 kernel.cc:1061] Use fast generic engine\n"
          ]
        },
        {
          "name": "stdout",
          "output_type": "stream",
          "text": [
            "i:39\n"
          ]
        },
        {
          "name": "stderr",
          "output_type": "stream",
          "text": [
            "[WARNING 24-01-24 17:09:01.6937 +04 gradient_boosted_trees.cc:1886] \"goss_alpha\" set but \"sampling_method\" not equal to \"GOSS\".\n",
            "[WARNING 24-01-24 17:09:01.6937 +04 gradient_boosted_trees.cc:1897] \"goss_beta\" set but \"sampling_method\" not equal to \"GOSS\".\n",
            "[WARNING 24-01-24 17:09:01.6938 +04 gradient_boosted_trees.cc:1911] \"selective_gradient_boosting_ratio\" set but \"sampling_method\" not equal to \"SELGB\".\n",
            "[INFO 24-01-24 17:09:02.4529 +04 kernel.cc:1233] Loading model from path /tmp/tmp3slktshu/model/ with prefix 20b02b8e2f9048c1\n",
            "[INFO 24-01-24 17:09:02.4603 +04 kernel.cc:1061] Use fast generic engine\n"
          ]
        },
        {
          "name": "stdout",
          "output_type": "stream",
          "text": [
            "i:40\n"
          ]
        },
        {
          "name": "stderr",
          "output_type": "stream",
          "text": [
            "[WARNING 24-01-24 17:09:02.9773 +04 gradient_boosted_trees.cc:1886] \"goss_alpha\" set but \"sampling_method\" not equal to \"GOSS\".\n",
            "[WARNING 24-01-24 17:09:02.9773 +04 gradient_boosted_trees.cc:1897] \"goss_beta\" set but \"sampling_method\" not equal to \"GOSS\".\n",
            "[WARNING 24-01-24 17:09:02.9773 +04 gradient_boosted_trees.cc:1911] \"selective_gradient_boosting_ratio\" set but \"sampling_method\" not equal to \"SELGB\".\n",
            "[INFO 24-01-24 17:09:03.5824 +04 kernel.cc:1233] Loading model from path /tmp/tmpdknat3f5/model/ with prefix c4c3cff1cded419d\n",
            "[INFO 24-01-24 17:09:03.5843 +04 kernel.cc:1061] Use fast generic engine\n"
          ]
        },
        {
          "name": "stdout",
          "output_type": "stream",
          "text": [
            "i:41\n"
          ]
        },
        {
          "name": "stderr",
          "output_type": "stream",
          "text": [
            "[WARNING 24-01-24 17:09:04.2074 +04 gradient_boosted_trees.cc:1886] \"goss_alpha\" set but \"sampling_method\" not equal to \"GOSS\".\n",
            "[WARNING 24-01-24 17:09:04.2074 +04 gradient_boosted_trees.cc:1897] \"goss_beta\" set but \"sampling_method\" not equal to \"GOSS\".\n",
            "[WARNING 24-01-24 17:09:04.2075 +04 gradient_boosted_trees.cc:1911] \"selective_gradient_boosting_ratio\" set but \"sampling_method\" not equal to \"SELGB\".\n",
            "[INFO 24-01-24 17:09:05.6853 +04 kernel.cc:1233] Loading model from path /tmp/tmpcmepmslm/model/ with prefix cfb763f114ff43a4\n",
            "[INFO 24-01-24 17:09:05.7051 +04 kernel.cc:1061] Use fast generic engine\n"
          ]
        },
        {
          "name": "stdout",
          "output_type": "stream",
          "text": [
            "i:42\n"
          ]
        },
        {
          "name": "stderr",
          "output_type": "stream",
          "text": [
            "[WARNING 24-01-24 17:09:06.8033 +04 gradient_boosted_trees.cc:1886] \"goss_alpha\" set but \"sampling_method\" not equal to \"GOSS\".\n",
            "[WARNING 24-01-24 17:09:06.8033 +04 gradient_boosted_trees.cc:1897] \"goss_beta\" set but \"sampling_method\" not equal to \"GOSS\".\n",
            "[WARNING 24-01-24 17:09:06.8034 +04 gradient_boosted_trees.cc:1911] \"selective_gradient_boosting_ratio\" set but \"sampling_method\" not equal to \"SELGB\".\n",
            "[INFO 24-01-24 17:09:08.3001 +04 kernel.cc:1233] Loading model from path /tmp/tmpplsd7x1k/model/ with prefix 16db270d37cf46bb\n",
            "[INFO 24-01-24 17:09:08.3269 +04 kernel.cc:1061] Use fast generic engine\n"
          ]
        },
        {
          "name": "stdout",
          "output_type": "stream",
          "text": [
            "i:43\n"
          ]
        },
        {
          "name": "stderr",
          "output_type": "stream",
          "text": [
            "[WARNING 24-01-24 17:09:09.6478 +04 gradient_boosted_trees.cc:1886] \"goss_alpha\" set but \"sampling_method\" not equal to \"GOSS\".\n",
            "[WARNING 24-01-24 17:09:09.6479 +04 gradient_boosted_trees.cc:1897] \"goss_beta\" set but \"sampling_method\" not equal to \"GOSS\".\n",
            "[WARNING 24-01-24 17:09:09.6479 +04 gradient_boosted_trees.cc:1911] \"selective_gradient_boosting_ratio\" set but \"sampling_method\" not equal to \"SELGB\".\n",
            "[INFO 24-01-24 17:09:11.3367 +04 kernel.cc:1233] Loading model from path /tmp/tmplfxl_7en/model/ with prefix 781a97c1f86d4191\n",
            "[INFO 24-01-24 17:09:11.3517 +04 abstract_model.cc:1344] Engine \"GradientBoostedTreesQuickScorerExtended\" built\n",
            "[INFO 24-01-24 17:09:11.3518 +04 kernel.cc:1061] Use fast generic engine\n"
          ]
        },
        {
          "name": "stdout",
          "output_type": "stream",
          "text": [
            "i:44\n"
          ]
        },
        {
          "name": "stderr",
          "output_type": "stream",
          "text": [
            "[WARNING 24-01-24 17:09:12.3263 +04 gradient_boosted_trees.cc:1886] \"goss_alpha\" set but \"sampling_method\" not equal to \"GOSS\".\n",
            "[WARNING 24-01-24 17:09:12.3264 +04 gradient_boosted_trees.cc:1897] \"goss_beta\" set but \"sampling_method\" not equal to \"GOSS\".\n",
            "[WARNING 24-01-24 17:09:12.3264 +04 gradient_boosted_trees.cc:1911] \"selective_gradient_boosting_ratio\" set but \"sampling_method\" not equal to \"SELGB\".\n",
            "[INFO 24-01-24 17:09:13.3174 +04 kernel.cc:1233] Loading model from path /tmp/tmpiah92cqz/model/ with prefix 181051fb87b5433f\n",
            "[INFO 24-01-24 17:09:13.3233 +04 kernel.cc:1061] Use fast generic engine\n"
          ]
        },
        {
          "name": "stdout",
          "output_type": "stream",
          "text": [
            "i:45\n"
          ]
        },
        {
          "name": "stderr",
          "output_type": "stream",
          "text": [
            "[WARNING 24-01-24 17:09:13.8850 +04 gradient_boosted_trees.cc:1886] \"goss_alpha\" set but \"sampling_method\" not equal to \"GOSS\".\n",
            "[WARNING 24-01-24 17:09:13.8850 +04 gradient_boosted_trees.cc:1897] \"goss_beta\" set but \"sampling_method\" not equal to \"GOSS\".\n",
            "[WARNING 24-01-24 17:09:13.8850 +04 gradient_boosted_trees.cc:1911] \"selective_gradient_boosting_ratio\" set but \"sampling_method\" not equal to \"SELGB\".\n",
            "[INFO 24-01-24 17:09:14.4445 +04 kernel.cc:1233] Loading model from path /tmp/tmp7zuux7vx/model/ with prefix 45293073342e4c23\n",
            "[INFO 24-01-24 17:09:14.4461 +04 kernel.cc:1061] Use fast generic engine\n"
          ]
        },
        {
          "name": "stdout",
          "output_type": "stream",
          "text": [
            "i:46\n"
          ]
        },
        {
          "name": "stderr",
          "output_type": "stream",
          "text": [
            "[WARNING 24-01-24 17:09:14.8972 +04 gradient_boosted_trees.cc:1886] \"goss_alpha\" set but \"sampling_method\" not equal to \"GOSS\".\n",
            "[WARNING 24-01-24 17:09:14.8972 +04 gradient_boosted_trees.cc:1897] \"goss_beta\" set but \"sampling_method\" not equal to \"GOSS\".\n",
            "[WARNING 24-01-24 17:09:14.8972 +04 gradient_boosted_trees.cc:1911] \"selective_gradient_boosting_ratio\" set but \"sampling_method\" not equal to \"SELGB\".\n",
            "[INFO 24-01-24 17:09:15.6667 +04 kernel.cc:1233] Loading model from path /tmp/tmpvmenwqp_/model/ with prefix ab18f369f104438f\n",
            "[INFO 24-01-24 17:09:15.6791 +04 kernel.cc:1061] Use fast generic engine\n"
          ]
        },
        {
          "name": "stdout",
          "output_type": "stream",
          "text": [
            "i:47\n"
          ]
        },
        {
          "name": "stderr",
          "output_type": "stream",
          "text": [
            "[WARNING 24-01-24 17:09:16.4288 +04 gradient_boosted_trees.cc:1886] \"goss_alpha\" set but \"sampling_method\" not equal to \"GOSS\".\n",
            "[WARNING 24-01-24 17:09:16.4288 +04 gradient_boosted_trees.cc:1897] \"goss_beta\" set but \"sampling_method\" not equal to \"GOSS\".\n",
            "[WARNING 24-01-24 17:09:16.4288 +04 gradient_boosted_trees.cc:1911] \"selective_gradient_boosting_ratio\" set but \"sampling_method\" not equal to \"SELGB\".\n",
            "[INFO 24-01-24 17:09:17.8493 +04 kernel.cc:1233] Loading model from path /tmp/tmpwaeqka3x/model/ with prefix 3bb6047084a6477b\n",
            "[INFO 24-01-24 17:09:17.8644 +04 quick_scorer_extended.cc:903] The binary was compiled without AVX2 support, but your CPU supports it. Enable it for faster model inference.\n",
            "[INFO 24-01-24 17:09:17.8653 +04 kernel.cc:1061] Use fast generic engine\n"
          ]
        },
        {
          "name": "stdout",
          "output_type": "stream",
          "text": [
            "i:48\n"
          ]
        },
        {
          "name": "stderr",
          "output_type": "stream",
          "text": [
            "[WARNING 24-01-24 17:09:18.8409 +04 gradient_boosted_trees.cc:1886] \"goss_alpha\" set but \"sampling_method\" not equal to \"GOSS\".\n",
            "[WARNING 24-01-24 17:09:18.8410 +04 gradient_boosted_trees.cc:1897] \"goss_beta\" set but \"sampling_method\" not equal to \"GOSS\".\n",
            "[WARNING 24-01-24 17:09:18.8410 +04 gradient_boosted_trees.cc:1911] \"selective_gradient_boosting_ratio\" set but \"sampling_method\" not equal to \"SELGB\".\n",
            "[INFO 24-01-24 17:09:20.0030 +04 kernel.cc:1233] Loading model from path /tmp/tmpe2mkltg1/model/ with prefix 1c063a4357c44029\n",
            "[INFO 24-01-24 17:09:20.0093 +04 kernel.cc:1061] Use fast generic engine\n"
          ]
        },
        {
          "name": "stdout",
          "output_type": "stream",
          "text": [
            "i:49\n"
          ]
        },
        {
          "name": "stderr",
          "output_type": "stream",
          "text": [
            "[WARNING 24-01-24 17:09:20.9567 +04 gradient_boosted_trees.cc:1886] \"goss_alpha\" set but \"sampling_method\" not equal to \"GOSS\".\n",
            "[WARNING 24-01-24 17:09:20.9568 +04 gradient_boosted_trees.cc:1897] \"goss_beta\" set but \"sampling_method\" not equal to \"GOSS\".\n",
            "[WARNING 24-01-24 17:09:20.9568 +04 gradient_boosted_trees.cc:1911] \"selective_gradient_boosting_ratio\" set but \"sampling_method\" not equal to \"SELGB\".\n",
            "[INFO 24-01-24 17:09:21.5769 +04 kernel.cc:1233] Loading model from path /tmp/tmpwdew0y_3/model/ with prefix 629ff9cbed724efb\n",
            "[INFO 24-01-24 17:09:21.5798 +04 abstract_model.cc:1344] Engine \"GradientBoostedTreesQuickScorerExtended\" built\n",
            "[INFO 24-01-24 17:09:21.5799 +04 kernel.cc:1061] Use fast generic engine\n"
          ]
        },
        {
          "name": "stdout",
          "output_type": "stream",
          "text": [
            "i:50\n"
          ]
        },
        {
          "name": "stderr",
          "output_type": "stream",
          "text": [
            "[WARNING 24-01-24 17:09:22.0396 +04 gradient_boosted_trees.cc:1886] \"goss_alpha\" set but \"sampling_method\" not equal to \"GOSS\".\n",
            "[WARNING 24-01-24 17:09:22.0396 +04 gradient_boosted_trees.cc:1897] \"goss_beta\" set but \"sampling_method\" not equal to \"GOSS\".\n",
            "[WARNING 24-01-24 17:09:22.0396 +04 gradient_boosted_trees.cc:1911] \"selective_gradient_boosting_ratio\" set but \"sampling_method\" not equal to \"SELGB\".\n",
            "[INFO 24-01-24 17:09:22.7054 +04 kernel.cc:1233] Loading model from path /tmp/tmpxtlsu28v/model/ with prefix 6440f85bbd204968\n",
            "[INFO 24-01-24 17:09:22.7115 +04 kernel.cc:1061] Use fast generic engine\n"
          ]
        },
        {
          "name": "stdout",
          "output_type": "stream",
          "text": [
            "i:51\n"
          ]
        },
        {
          "name": "stderr",
          "output_type": "stream",
          "text": [
            "[WARNING 24-01-24 17:09:23.1400 +04 gradient_boosted_trees.cc:1886] \"goss_alpha\" set but \"sampling_method\" not equal to \"GOSS\".\n",
            "[WARNING 24-01-24 17:09:23.1401 +04 gradient_boosted_trees.cc:1897] \"goss_beta\" set but \"sampling_method\" not equal to \"GOSS\".\n",
            "[WARNING 24-01-24 17:09:23.1401 +04 gradient_boosted_trees.cc:1911] \"selective_gradient_boosting_ratio\" set but \"sampling_method\" not equal to \"SELGB\".\n",
            "[INFO 24-01-24 17:09:23.8818 +04 kernel.cc:1233] Loading model from path /tmp/tmpltz640vy/model/ with prefix 256b1f21c2d64b97\n",
            "[INFO 24-01-24 17:09:23.8896 +04 kernel.cc:1061] Use fast generic engine\n"
          ]
        },
        {
          "name": "stdout",
          "output_type": "stream",
          "text": [
            "i:52\n"
          ]
        },
        {
          "name": "stderr",
          "output_type": "stream",
          "text": [
            "[WARNING 24-01-24 17:09:24.3212 +04 gradient_boosted_trees.cc:1886] \"goss_alpha\" set but \"sampling_method\" not equal to \"GOSS\".\n",
            "[WARNING 24-01-24 17:09:24.3213 +04 gradient_boosted_trees.cc:1897] \"goss_beta\" set but \"sampling_method\" not equal to \"GOSS\".\n",
            "[WARNING 24-01-24 17:09:24.3213 +04 gradient_boosted_trees.cc:1911] \"selective_gradient_boosting_ratio\" set but \"sampling_method\" not equal to \"SELGB\".\n",
            "[INFO 24-01-24 17:09:24.8848 +04 kernel.cc:1233] Loading model from path /tmp/tmp8qxxksfa/model/ with prefix 1317034302ea47d5\n",
            "[INFO 24-01-24 17:09:24.8902 +04 kernel.cc:1061] Use fast generic engine\n"
          ]
        },
        {
          "name": "stdout",
          "output_type": "stream",
          "text": [
            "i:53\n"
          ]
        },
        {
          "name": "stderr",
          "output_type": "stream",
          "text": [
            "[WARNING 24-01-24 17:09:25.3008 +04 gradient_boosted_trees.cc:1886] \"goss_alpha\" set but \"sampling_method\" not equal to \"GOSS\".\n",
            "[WARNING 24-01-24 17:09:25.3008 +04 gradient_boosted_trees.cc:1897] \"goss_beta\" set but \"sampling_method\" not equal to \"GOSS\".\n",
            "[WARNING 24-01-24 17:09:25.3008 +04 gradient_boosted_trees.cc:1911] \"selective_gradient_boosting_ratio\" set but \"sampling_method\" not equal to \"SELGB\".\n",
            "[INFO 24-01-24 17:09:27.1730 +04 kernel.cc:1233] Loading model from path /tmp/tmpoxpjwwv0/model/ with prefix 58e06e0ba1184366\n",
            "[INFO 24-01-24 17:09:27.1821 +04 kernel.cc:1061] Use fast generic engine\n"
          ]
        },
        {
          "name": "stdout",
          "output_type": "stream",
          "text": [
            "i:54\n"
          ]
        },
        {
          "name": "stderr",
          "output_type": "stream",
          "text": [
            "[WARNING 24-01-24 17:09:28.3302 +04 gradient_boosted_trees.cc:1886] \"goss_alpha\" set but \"sampling_method\" not equal to \"GOSS\".\n",
            "[WARNING 24-01-24 17:09:28.3302 +04 gradient_boosted_trees.cc:1897] \"goss_beta\" set but \"sampling_method\" not equal to \"GOSS\".\n",
            "[WARNING 24-01-24 17:09:28.3303 +04 gradient_boosted_trees.cc:1911] \"selective_gradient_boosting_ratio\" set but \"sampling_method\" not equal to \"SELGB\".\n",
            "[INFO 24-01-24 17:09:29.8143 +04 kernel.cc:1233] Loading model from path /tmp/tmpekldc5mb/model/ with prefix aa707b07c43947df\n",
            "[INFO 24-01-24 17:09:29.8168 +04 kernel.cc:1061] Use fast generic engine\n"
          ]
        },
        {
          "name": "stdout",
          "output_type": "stream",
          "text": [
            "i:55\n"
          ]
        },
        {
          "name": "stderr",
          "output_type": "stream",
          "text": [
            "[WARNING 24-01-24 17:09:30.7163 +04 gradient_boosted_trees.cc:1886] \"goss_alpha\" set but \"sampling_method\" not equal to \"GOSS\".\n",
            "[WARNING 24-01-24 17:09:30.7163 +04 gradient_boosted_trees.cc:1897] \"goss_beta\" set but \"sampling_method\" not equal to \"GOSS\".\n",
            "[WARNING 24-01-24 17:09:30.7164 +04 gradient_boosted_trees.cc:1911] \"selective_gradient_boosting_ratio\" set but \"sampling_method\" not equal to \"SELGB\".\n",
            "[INFO 24-01-24 17:09:31.5001 +04 kernel.cc:1233] Loading model from path /tmp/tmp78licbj4/model/ with prefix 75b50bdd3e774b6a\n",
            "[INFO 24-01-24 17:09:31.5129 +04 kernel.cc:1061] Use fast generic engine\n"
          ]
        },
        {
          "name": "stdout",
          "output_type": "stream",
          "text": [
            "i:56\n"
          ]
        },
        {
          "name": "stderr",
          "output_type": "stream",
          "text": [
            "[WARNING 24-01-24 17:09:32.9266 +04 gradient_boosted_trees.cc:1886] \"goss_alpha\" set but \"sampling_method\" not equal to \"GOSS\".\n",
            "[WARNING 24-01-24 17:09:32.9266 +04 gradient_boosted_trees.cc:1897] \"goss_beta\" set but \"sampling_method\" not equal to \"GOSS\".\n",
            "[WARNING 24-01-24 17:09:32.9267 +04 gradient_boosted_trees.cc:1911] \"selective_gradient_boosting_ratio\" set but \"sampling_method\" not equal to \"SELGB\".\n",
            "[INFO 24-01-24 17:09:33.8805 +04 kernel.cc:1233] Loading model from path /tmp/tmpgtisyng7/model/ with prefix 1da88f93f1b84d53\n",
            "[INFO 24-01-24 17:09:33.8926 +04 abstract_model.cc:1344] Engine \"GradientBoostedTreesQuickScorerExtended\" built\n",
            "[INFO 24-01-24 17:09:33.8927 +04 kernel.cc:1061] Use fast generic engine\n"
          ]
        },
        {
          "name": "stdout",
          "output_type": "stream",
          "text": [
            "i:57\n"
          ]
        },
        {
          "name": "stderr",
          "output_type": "stream",
          "text": [
            "[WARNING 24-01-24 17:09:34.5067 +04 gradient_boosted_trees.cc:1886] \"goss_alpha\" set but \"sampling_method\" not equal to \"GOSS\".\n",
            "[WARNING 24-01-24 17:09:34.5068 +04 gradient_boosted_trees.cc:1897] \"goss_beta\" set but \"sampling_method\" not equal to \"GOSS\".\n",
            "[WARNING 24-01-24 17:09:34.5068 +04 gradient_boosted_trees.cc:1911] \"selective_gradient_boosting_ratio\" set but \"sampling_method\" not equal to \"SELGB\".\n",
            "[INFO 24-01-24 17:09:35.2275 +04 kernel.cc:1233] Loading model from path /tmp/tmp5i2hlj3g/model/ with prefix d1cc437a7945423d\n",
            "[INFO 24-01-24 17:09:35.2299 +04 kernel.cc:1061] Use fast generic engine\n"
          ]
        },
        {
          "name": "stdout",
          "output_type": "stream",
          "text": [
            "i:58\n"
          ]
        },
        {
          "name": "stderr",
          "output_type": "stream",
          "text": [
            "[WARNING 24-01-24 17:09:36.1645 +04 gradient_boosted_trees.cc:1886] \"goss_alpha\" set but \"sampling_method\" not equal to \"GOSS\".\n",
            "[WARNING 24-01-24 17:09:36.1645 +04 gradient_boosted_trees.cc:1897] \"goss_beta\" set but \"sampling_method\" not equal to \"GOSS\".\n",
            "[WARNING 24-01-24 17:09:36.1645 +04 gradient_boosted_trees.cc:1911] \"selective_gradient_boosting_ratio\" set but \"sampling_method\" not equal to \"SELGB\".\n",
            "[INFO 24-01-24 17:09:38.3195 +04 kernel.cc:1233] Loading model from path /tmp/tmpgxkf8fwq/model/ with prefix a333bf784b0d4a3e\n",
            "[INFO 24-01-24 17:09:38.3297 +04 kernel.cc:1061] Use fast generic engine\n"
          ]
        },
        {
          "name": "stdout",
          "output_type": "stream",
          "text": [
            "i:59\n"
          ]
        },
        {
          "name": "stderr",
          "output_type": "stream",
          "text": [
            "[WARNING 24-01-24 17:09:39.8988 +04 gradient_boosted_trees.cc:1886] \"goss_alpha\" set but \"sampling_method\" not equal to \"GOSS\".\n",
            "[WARNING 24-01-24 17:09:39.8989 +04 gradient_boosted_trees.cc:1897] \"goss_beta\" set but \"sampling_method\" not equal to \"GOSS\".\n",
            "[WARNING 24-01-24 17:09:39.8989 +04 gradient_boosted_trees.cc:1911] \"selective_gradient_boosting_ratio\" set but \"sampling_method\" not equal to \"SELGB\".\n",
            "[INFO 24-01-24 17:09:41.1909 +04 kernel.cc:1233] Loading model from path /tmp/tmpu0cxqnh7/model/ with prefix 1beda14d74a541ad\n",
            "[INFO 24-01-24 17:09:41.1968 +04 kernel.cc:1061] Use fast generic engine\n"
          ]
        },
        {
          "name": "stdout",
          "output_type": "stream",
          "text": [
            "i:60\n"
          ]
        },
        {
          "name": "stderr",
          "output_type": "stream",
          "text": [
            "[WARNING 24-01-24 17:09:41.7436 +04 gradient_boosted_trees.cc:1886] \"goss_alpha\" set but \"sampling_method\" not equal to \"GOSS\".\n",
            "[WARNING 24-01-24 17:09:41.7436 +04 gradient_boosted_trees.cc:1897] \"goss_beta\" set but \"sampling_method\" not equal to \"GOSS\".\n",
            "[WARNING 24-01-24 17:09:41.7436 +04 gradient_boosted_trees.cc:1911] \"selective_gradient_boosting_ratio\" set but \"sampling_method\" not equal to \"SELGB\".\n",
            "[INFO 24-01-24 17:09:42.5561 +04 kernel.cc:1233] Loading model from path /tmp/tmpydjyv6d8/model/ with prefix 278ef7d9c36e431d\n",
            "[INFO 24-01-24 17:09:42.5613 +04 kernel.cc:1061] Use fast generic engine\n"
          ]
        },
        {
          "name": "stdout",
          "output_type": "stream",
          "text": [
            "i:61\n"
          ]
        },
        {
          "name": "stderr",
          "output_type": "stream",
          "text": [
            "[WARNING 24-01-24 17:09:43.1086 +04 gradient_boosted_trees.cc:1886] \"goss_alpha\" set but \"sampling_method\" not equal to \"GOSS\".\n",
            "[WARNING 24-01-24 17:09:43.1086 +04 gradient_boosted_trees.cc:1897] \"goss_beta\" set but \"sampling_method\" not equal to \"GOSS\".\n",
            "[WARNING 24-01-24 17:09:43.1086 +04 gradient_boosted_trees.cc:1911] \"selective_gradient_boosting_ratio\" set but \"sampling_method\" not equal to \"SELGB\".\n",
            "[INFO 24-01-24 17:09:43.7792 +04 kernel.cc:1233] Loading model from path /tmp/tmpxz4amxv1/model/ with prefix 6ce951e718f4401c\n",
            "[INFO 24-01-24 17:09:43.7819 +04 kernel.cc:1061] Use fast generic engine\n"
          ]
        },
        {
          "name": "stdout",
          "output_type": "stream",
          "text": [
            "i:62\n"
          ]
        },
        {
          "name": "stderr",
          "output_type": "stream",
          "text": [
            "[WARNING 24-01-24 17:09:44.3284 +04 gradient_boosted_trees.cc:1886] \"goss_alpha\" set but \"sampling_method\" not equal to \"GOSS\".\n",
            "[WARNING 24-01-24 17:09:44.3285 +04 gradient_boosted_trees.cc:1897] \"goss_beta\" set but \"sampling_method\" not equal to \"GOSS\".\n",
            "[WARNING 24-01-24 17:09:44.3285 +04 gradient_boosted_trees.cc:1911] \"selective_gradient_boosting_ratio\" set but \"sampling_method\" not equal to \"SELGB\".\n",
            "[INFO 24-01-24 17:09:45.0469 +04 kernel.cc:1233] Loading model from path /tmp/tmpa9f232zq/model/ with prefix 368f744f25ff499a\n",
            "[INFO 24-01-24 17:09:45.0547 +04 abstract_model.cc:1344] Engine \"GradientBoostedTreesQuickScorerExtended\" built\n",
            "[INFO 24-01-24 17:09:45.0548 +04 kernel.cc:1061] Use fast generic engine\n"
          ]
        },
        {
          "name": "stdout",
          "output_type": "stream",
          "text": [
            "i:63\n"
          ]
        },
        {
          "name": "stderr",
          "output_type": "stream",
          "text": [
            "[WARNING 24-01-24 17:09:45.5046 +04 gradient_boosted_trees.cc:1886] \"goss_alpha\" set but \"sampling_method\" not equal to \"GOSS\".\n",
            "[WARNING 24-01-24 17:09:45.5046 +04 gradient_boosted_trees.cc:1897] \"goss_beta\" set but \"sampling_method\" not equal to \"GOSS\".\n",
            "[WARNING 24-01-24 17:09:45.5046 +04 gradient_boosted_trees.cc:1911] \"selective_gradient_boosting_ratio\" set but \"sampling_method\" not equal to \"SELGB\".\n",
            "[INFO 24-01-24 17:09:46.6860 +04 kernel.cc:1233] Loading model from path /tmp/tmpq2e87wti/model/ with prefix 86f4ca54612f42c8\n",
            "[INFO 24-01-24 17:09:46.6955 +04 kernel.cc:1061] Use fast generic engine\n"
          ]
        },
        {
          "name": "stdout",
          "output_type": "stream",
          "text": [
            "i:64\n"
          ]
        },
        {
          "name": "stderr",
          "output_type": "stream",
          "text": [
            "[WARNING 24-01-24 17:09:47.8233 +04 gradient_boosted_trees.cc:1886] \"goss_alpha\" set but \"sampling_method\" not equal to \"GOSS\".\n",
            "[WARNING 24-01-24 17:09:47.8234 +04 gradient_boosted_trees.cc:1897] \"goss_beta\" set but \"sampling_method\" not equal to \"GOSS\".\n",
            "[WARNING 24-01-24 17:09:47.8234 +04 gradient_boosted_trees.cc:1911] \"selective_gradient_boosting_ratio\" set but \"sampling_method\" not equal to \"SELGB\".\n",
            "[INFO 24-01-24 17:09:49.0774 +04 kernel.cc:1233] Loading model from path /tmp/tmp7gdbyzeo/model/ with prefix 7f385a710b2e4d3d\n",
            "[INFO 24-01-24 17:09:49.0833 +04 quick_scorer_extended.cc:903] The binary was compiled without AVX2 support, but your CPU supports it. Enable it for faster model inference.\n",
            "[INFO 24-01-24 17:09:49.0844 +04 kernel.cc:1061] Use fast generic engine\n"
          ]
        },
        {
          "name": "stdout",
          "output_type": "stream",
          "text": [
            "i:65\n"
          ]
        },
        {
          "name": "stderr",
          "output_type": "stream",
          "text": [
            "[WARNING 24-01-24 17:09:50.0114 +04 gradient_boosted_trees.cc:1886] \"goss_alpha\" set but \"sampling_method\" not equal to \"GOSS\".\n",
            "[WARNING 24-01-24 17:09:50.0114 +04 gradient_boosted_trees.cc:1897] \"goss_beta\" set but \"sampling_method\" not equal to \"GOSS\".\n",
            "[WARNING 24-01-24 17:09:50.0114 +04 gradient_boosted_trees.cc:1911] \"selective_gradient_boosting_ratio\" set but \"sampling_method\" not equal to \"SELGB\".\n",
            "[INFO 24-01-24 17:09:50.8774 +04 kernel.cc:1233] Loading model from path /tmp/tmp7q1q4xhu/model/ with prefix dce779849c444d13\n",
            "[INFO 24-01-24 17:09:50.8794 +04 kernel.cc:1061] Use fast generic engine\n"
          ]
        },
        {
          "name": "stdout",
          "output_type": "stream",
          "text": [
            "i:66\n"
          ]
        },
        {
          "name": "stderr",
          "output_type": "stream",
          "text": [
            "[WARNING 24-01-24 17:09:51.3123 +04 gradient_boosted_trees.cc:1886] \"goss_alpha\" set but \"sampling_method\" not equal to \"GOSS\".\n",
            "[WARNING 24-01-24 17:09:51.3123 +04 gradient_boosted_trees.cc:1897] \"goss_beta\" set but \"sampling_method\" not equal to \"GOSS\".\n",
            "[WARNING 24-01-24 17:09:51.3123 +04 gradient_boosted_trees.cc:1911] \"selective_gradient_boosting_ratio\" set but \"sampling_method\" not equal to \"SELGB\".\n",
            "[INFO 24-01-24 17:09:51.8927 +04 kernel.cc:1233] Loading model from path /tmp/tmpmiu_h574/model/ with prefix 3edb0ef76cd34fa9\n",
            "[INFO 24-01-24 17:09:51.8955 +04 kernel.cc:1061] Use fast generic engine\n"
          ]
        },
        {
          "name": "stdout",
          "output_type": "stream",
          "text": [
            "i:67\n"
          ]
        },
        {
          "name": "stderr",
          "output_type": "stream",
          "text": [
            "[WARNING 24-01-24 17:09:52.3126 +04 gradient_boosted_trees.cc:1886] \"goss_alpha\" set but \"sampling_method\" not equal to \"GOSS\".\n",
            "[WARNING 24-01-24 17:09:52.3126 +04 gradient_boosted_trees.cc:1897] \"goss_beta\" set but \"sampling_method\" not equal to \"GOSS\".\n",
            "[WARNING 24-01-24 17:09:52.3126 +04 gradient_boosted_trees.cc:1911] \"selective_gradient_boosting_ratio\" set but \"sampling_method\" not equal to \"SELGB\".\n",
            "[INFO 24-01-24 17:09:53.0774 +04 kernel.cc:1233] Loading model from path /tmp/tmpk_vglsb0/model/ with prefix 996f76af793246ae\n",
            "[INFO 24-01-24 17:09:53.0889 +04 kernel.cc:1061] Use fast generic engine\n"
          ]
        },
        {
          "name": "stdout",
          "output_type": "stream",
          "text": [
            "i:68\n"
          ]
        },
        {
          "name": "stderr",
          "output_type": "stream",
          "text": [
            "[WARNING 24-01-24 17:09:53.5128 +04 gradient_boosted_trees.cc:1886] \"goss_alpha\" set but \"sampling_method\" not equal to \"GOSS\".\n",
            "[WARNING 24-01-24 17:09:53.5128 +04 gradient_boosted_trees.cc:1897] \"goss_beta\" set but \"sampling_method\" not equal to \"GOSS\".\n",
            "[WARNING 24-01-24 17:09:53.5128 +04 gradient_boosted_trees.cc:1911] \"selective_gradient_boosting_ratio\" set but \"sampling_method\" not equal to \"SELGB\".\n",
            "[INFO 24-01-24 17:09:54.1743 +04 kernel.cc:1233] Loading model from path /tmp/tmpmt5a753l/model/ with prefix 552ee2983ae74272\n",
            "[INFO 24-01-24 17:09:54.1792 +04 kernel.cc:1061] Use fast generic engine\n"
          ]
        },
        {
          "name": "stdout",
          "output_type": "stream",
          "text": [
            "i:69\n"
          ]
        },
        {
          "name": "stderr",
          "output_type": "stream",
          "text": [
            "[WARNING 24-01-24 17:09:54.6271 +04 gradient_boosted_trees.cc:1886] \"goss_alpha\" set but \"sampling_method\" not equal to \"GOSS\".\n",
            "[WARNING 24-01-24 17:09:54.6271 +04 gradient_boosted_trees.cc:1897] \"goss_beta\" set but \"sampling_method\" not equal to \"GOSS\".\n",
            "[WARNING 24-01-24 17:09:54.6271 +04 gradient_boosted_trees.cc:1911] \"selective_gradient_boosting_ratio\" set but \"sampling_method\" not equal to \"SELGB\".\n",
            "[INFO 24-01-24 17:09:55.3072 +04 kernel.cc:1233] Loading model from path /tmp/tmpp6spff2n/model/ with prefix e28d6551024149a5\n",
            "[INFO 24-01-24 17:09:55.3103 +04 abstract_model.cc:1344] Engine \"GradientBoostedTreesQuickScorerExtended\" built\n",
            "[INFO 24-01-24 17:09:55.3104 +04 kernel.cc:1061] Use fast generic engine\n"
          ]
        },
        {
          "name": "stdout",
          "output_type": "stream",
          "text": [
            "i:70\n"
          ]
        },
        {
          "name": "stderr",
          "output_type": "stream",
          "text": [
            "[WARNING 24-01-24 17:09:55.9321 +04 gradient_boosted_trees.cc:1886] \"goss_alpha\" set but \"sampling_method\" not equal to \"GOSS\".\n",
            "[WARNING 24-01-24 17:09:55.9321 +04 gradient_boosted_trees.cc:1897] \"goss_beta\" set but \"sampling_method\" not equal to \"GOSS\".\n",
            "[WARNING 24-01-24 17:09:55.9321 +04 gradient_boosted_trees.cc:1911] \"selective_gradient_boosting_ratio\" set but \"sampling_method\" not equal to \"SELGB\".\n",
            "[INFO 24-01-24 17:09:57.2766 +04 kernel.cc:1233] Loading model from path /tmp/tmp2avc3hdw/model/ with prefix b96efd84a1c045d4\n",
            "[INFO 24-01-24 17:09:57.2855 +04 kernel.cc:1061] Use fast generic engine\n"
          ]
        },
        {
          "name": "stdout",
          "output_type": "stream",
          "text": [
            "i:71\n"
          ]
        },
        {
          "name": "stderr",
          "output_type": "stream",
          "text": [
            "[WARNING 24-01-24 17:09:58.2050 +04 gradient_boosted_trees.cc:1886] \"goss_alpha\" set but \"sampling_method\" not equal to \"GOSS\".\n",
            "[WARNING 24-01-24 17:09:58.2051 +04 gradient_boosted_trees.cc:1897] \"goss_beta\" set but \"sampling_method\" not equal to \"GOSS\".\n",
            "[WARNING 24-01-24 17:09:58.2051 +04 gradient_boosted_trees.cc:1911] \"selective_gradient_boosting_ratio\" set but \"sampling_method\" not equal to \"SELGB\".\n",
            "[INFO 24-01-24 17:09:59.4124 +04 kernel.cc:1233] Loading model from path /tmp/tmpb0vyu23s/model/ with prefix 1c576b1d2cd544ad\n",
            "[INFO 24-01-24 17:09:59.4229 +04 kernel.cc:1061] Use fast generic engine\n"
          ]
        },
        {
          "name": "stdout",
          "output_type": "stream",
          "text": [
            "i:72\n"
          ]
        },
        {
          "name": "stderr",
          "output_type": "stream",
          "text": [
            "[WARNING 24-01-24 17:10:00.4314 +04 gradient_boosted_trees.cc:1886] \"goss_alpha\" set but \"sampling_method\" not equal to \"GOSS\".\n",
            "[WARNING 24-01-24 17:10:00.4314 +04 gradient_boosted_trees.cc:1897] \"goss_beta\" set but \"sampling_method\" not equal to \"GOSS\".\n",
            "[WARNING 24-01-24 17:10:00.4314 +04 gradient_boosted_trees.cc:1911] \"selective_gradient_boosting_ratio\" set but \"sampling_method\" not equal to \"SELGB\".\n",
            "[INFO 24-01-24 17:10:01.2451 +04 kernel.cc:1233] Loading model from path /tmp/tmp3316s4cj/model/ with prefix 74a6febde66f44ad\n",
            "[INFO 24-01-24 17:10:01.2560 +04 kernel.cc:1061] Use fast generic engine\n"
          ]
        },
        {
          "name": "stdout",
          "output_type": "stream",
          "text": [
            "i:73\n"
          ]
        },
        {
          "name": "stderr",
          "output_type": "stream",
          "text": [
            "[WARNING 24-01-24 17:10:01.7397 +04 gradient_boosted_trees.cc:1886] \"goss_alpha\" set but \"sampling_method\" not equal to \"GOSS\".\n",
            "[WARNING 24-01-24 17:10:01.7397 +04 gradient_boosted_trees.cc:1897] \"goss_beta\" set but \"sampling_method\" not equal to \"GOSS\".\n",
            "[WARNING 24-01-24 17:10:01.7397 +04 gradient_boosted_trees.cc:1911] \"selective_gradient_boosting_ratio\" set but \"sampling_method\" not equal to \"SELGB\".\n",
            "[INFO 24-01-24 17:10:02.3178 +04 kernel.cc:1233] Loading model from path /tmp/tmpu5zpcdcg/model/ with prefix 9ef2834954c24628\n",
            "[INFO 24-01-24 17:10:02.3209 +04 kernel.cc:1061] Use fast generic engine\n"
          ]
        },
        {
          "name": "stdout",
          "output_type": "stream",
          "text": [
            "i:74\n"
          ]
        },
        {
          "name": "stderr",
          "output_type": "stream",
          "text": [
            "[WARNING 24-01-24 17:10:02.7697 +04 gradient_boosted_trees.cc:1886] \"goss_alpha\" set but \"sampling_method\" not equal to \"GOSS\".\n",
            "[WARNING 24-01-24 17:10:02.7697 +04 gradient_boosted_trees.cc:1897] \"goss_beta\" set but \"sampling_method\" not equal to \"GOSS\".\n",
            "[WARNING 24-01-24 17:10:02.7697 +04 gradient_boosted_trees.cc:1911] \"selective_gradient_boosting_ratio\" set but \"sampling_method\" not equal to \"SELGB\".\n",
            "[INFO 24-01-24 17:10:03.4445 +04 kernel.cc:1233] Loading model from path /tmp/tmp1ap_q535/model/ with prefix fb4bb3be42fa463e\n",
            "[INFO 24-01-24 17:10:03.4501 +04 kernel.cc:1061] Use fast generic engine\n"
          ]
        },
        {
          "name": "stdout",
          "output_type": "stream",
          "text": [
            "i:75\n"
          ]
        },
        {
          "name": "stderr",
          "output_type": "stream",
          "text": [
            "[WARNING 24-01-24 17:10:03.8792 +04 gradient_boosted_trees.cc:1886] \"goss_alpha\" set but \"sampling_method\" not equal to \"GOSS\".\n",
            "[WARNING 24-01-24 17:10:03.8792 +04 gradient_boosted_trees.cc:1897] \"goss_beta\" set but \"sampling_method\" not equal to \"GOSS\".\n",
            "[WARNING 24-01-24 17:10:03.8792 +04 gradient_boosted_trees.cc:1911] \"selective_gradient_boosting_ratio\" set but \"sampling_method\" not equal to \"SELGB\".\n",
            "[INFO 24-01-24 17:10:04.6110 +04 kernel.cc:1233] Loading model from path /tmp/tmpdqw389l5/model/ with prefix 80a38069bc1c4966\n",
            "[INFO 24-01-24 17:10:04.6161 +04 kernel.cc:1061] Use fast generic engine\n"
          ]
        },
        {
          "name": "stdout",
          "output_type": "stream",
          "text": [
            "i:76\n"
          ]
        },
        {
          "name": "stderr",
          "output_type": "stream",
          "text": [
            "[WARNING 24-01-24 17:10:05.0384 +04 gradient_boosted_trees.cc:1886] \"goss_alpha\" set but \"sampling_method\" not equal to \"GOSS\".\n",
            "[WARNING 24-01-24 17:10:05.0385 +04 gradient_boosted_trees.cc:1897] \"goss_beta\" set but \"sampling_method\" not equal to \"GOSS\".\n",
            "[WARNING 24-01-24 17:10:05.0385 +04 gradient_boosted_trees.cc:1911] \"selective_gradient_boosting_ratio\" set but \"sampling_method\" not equal to \"SELGB\".\n",
            "[INFO 24-01-24 17:10:05.7063 +04 kernel.cc:1233] Loading model from path /tmp/tmphrd75ryh/model/ with prefix e56c29ea1b584988\n",
            "[INFO 24-01-24 17:10:05.7093 +04 abstract_model.cc:1344] Engine \"GradientBoostedTreesQuickScorerExtended\" built\n",
            "[INFO 24-01-24 17:10:05.7093 +04 kernel.cc:1061] Use fast generic engine\n"
          ]
        },
        {
          "name": "stdout",
          "output_type": "stream",
          "text": [
            "i:77\n"
          ]
        },
        {
          "name": "stderr",
          "output_type": "stream",
          "text": [
            "[WARNING 24-01-24 17:10:06.6240 +04 gradient_boosted_trees.cc:1886] \"goss_alpha\" set but \"sampling_method\" not equal to \"GOSS\".\n",
            "[WARNING 24-01-24 17:10:06.6241 +04 gradient_boosted_trees.cc:1897] \"goss_beta\" set but \"sampling_method\" not equal to \"GOSS\".\n",
            "[WARNING 24-01-24 17:10:06.6241 +04 gradient_boosted_trees.cc:1911] \"selective_gradient_boosting_ratio\" set but \"sampling_method\" not equal to \"SELGB\".\n",
            "[INFO 24-01-24 17:10:07.8160 +04 kernel.cc:1233] Loading model from path /tmp/tmp9gftcfye/model/ with prefix b7de8b36eec143a5\n",
            "[INFO 24-01-24 17:10:07.8215 +04 kernel.cc:1061] Use fast generic engine\n"
          ]
        },
        {
          "name": "stdout",
          "output_type": "stream",
          "text": [
            "i:78\n"
          ]
        },
        {
          "name": "stderr",
          "output_type": "stream",
          "text": [
            "[WARNING 24-01-24 17:10:08.7858 +04 gradient_boosted_trees.cc:1886] \"goss_alpha\" set but \"sampling_method\" not equal to \"GOSS\".\n",
            "[WARNING 24-01-24 17:10:08.7859 +04 gradient_boosted_trees.cc:1897] \"goss_beta\" set but \"sampling_method\" not equal to \"GOSS\".\n",
            "[WARNING 24-01-24 17:10:08.7859 +04 gradient_boosted_trees.cc:1911] \"selective_gradient_boosting_ratio\" set but \"sampling_method\" not equal to \"SELGB\".\n",
            "[INFO 24-01-24 17:10:10.0669 +04 kernel.cc:1233] Loading model from path /tmp/tmp2oyxhi33/model/ with prefix 0c247fbaa9bf4fd9\n",
            "[INFO 24-01-24 17:10:10.0745 +04 kernel.cc:1061] Use fast generic engine\n"
          ]
        },
        {
          "name": "stdout",
          "output_type": "stream",
          "text": [
            "i:79\n"
          ]
        },
        {
          "name": "stderr",
          "output_type": "stream",
          "text": [
            "[WARNING 24-01-24 17:10:10.7788 +04 gradient_boosted_trees.cc:1886] \"goss_alpha\" set but \"sampling_method\" not equal to \"GOSS\".\n",
            "[WARNING 24-01-24 17:10:10.7789 +04 gradient_boosted_trees.cc:1897] \"goss_beta\" set but \"sampling_method\" not equal to \"GOSS\".\n",
            "[WARNING 24-01-24 17:10:10.7790 +04 gradient_boosted_trees.cc:1911] \"selective_gradient_boosting_ratio\" set but \"sampling_method\" not equal to \"SELGB\".\n",
            "[INFO 24-01-24 17:10:11.3875 +04 kernel.cc:1233] Loading model from path /tmp/tmpg32fmpjb/model/ with prefix 707482c018bb4791\n",
            "[INFO 24-01-24 17:10:11.3909 +04 kernel.cc:1061] Use fast generic engine\n"
          ]
        },
        {
          "name": "stdout",
          "output_type": "stream",
          "text": [
            "i:80\n"
          ]
        },
        {
          "name": "stderr",
          "output_type": "stream",
          "text": [
            "[WARNING 24-01-24 17:10:11.8252 +04 gradient_boosted_trees.cc:1886] \"goss_alpha\" set but \"sampling_method\" not equal to \"GOSS\".\n",
            "[WARNING 24-01-24 17:10:11.8252 +04 gradient_boosted_trees.cc:1897] \"goss_beta\" set but \"sampling_method\" not equal to \"GOSS\".\n",
            "[WARNING 24-01-24 17:10:11.8252 +04 gradient_boosted_trees.cc:1911] \"selective_gradient_boosting_ratio\" set but \"sampling_method\" not equal to \"SELGB\".\n",
            "[INFO 24-01-24 17:10:12.4718 +04 kernel.cc:1233] Loading model from path /tmp/tmpc69g4n6h/model/ with prefix 6366d22766bd4fe9\n",
            "[INFO 24-01-24 17:10:12.4761 +04 kernel.cc:1061] Use fast generic engine\n"
          ]
        },
        {
          "name": "stdout",
          "output_type": "stream",
          "text": [
            "i:81\n"
          ]
        },
        {
          "name": "stderr",
          "output_type": "stream",
          "text": [
            "[WARNING 24-01-24 17:10:12.9241 +04 gradient_boosted_trees.cc:1886] \"goss_alpha\" set but \"sampling_method\" not equal to \"GOSS\".\n",
            "[WARNING 24-01-24 17:10:12.9242 +04 gradient_boosted_trees.cc:1897] \"goss_beta\" set but \"sampling_method\" not equal to \"GOSS\".\n",
            "[WARNING 24-01-24 17:10:12.9242 +04 gradient_boosted_trees.cc:1911] \"selective_gradient_boosting_ratio\" set but \"sampling_method\" not equal to \"SELGB\".\n",
            "[INFO 24-01-24 17:10:13.5940 +04 kernel.cc:1233] Loading model from path /tmp/tmpkcg1r_c1/model/ with prefix fcb725142ec544b9\n",
            "[INFO 24-01-24 17:10:13.5999 +04 kernel.cc:1061] Use fast generic engine\n"
          ]
        },
        {
          "name": "stdout",
          "output_type": "stream",
          "text": [
            "i:82\n"
          ]
        },
        {
          "name": "stderr",
          "output_type": "stream",
          "text": [
            "[WARNING 24-01-24 17:10:14.1504 +04 gradient_boosted_trees.cc:1886] \"goss_alpha\" set but \"sampling_method\" not equal to \"GOSS\".\n",
            "[WARNING 24-01-24 17:10:14.1505 +04 gradient_boosted_trees.cc:1897] \"goss_beta\" set but \"sampling_method\" not equal to \"GOSS\".\n",
            "[WARNING 24-01-24 17:10:14.1506 +04 gradient_boosted_trees.cc:1911] \"selective_gradient_boosting_ratio\" set but \"sampling_method\" not equal to \"SELGB\".\n",
            "[INFO 24-01-24 17:10:14.8063 +04 kernel.cc:1233] Loading model from path /tmp/tmpbkoxp62i/model/ with prefix 3d732bd9819e4325\n",
            "[INFO 24-01-24 17:10:14.8100 +04 kernel.cc:1061] Use fast generic engine\n"
          ]
        },
        {
          "name": "stdout",
          "output_type": "stream",
          "text": [
            "i:83\n"
          ]
        },
        {
          "name": "stderr",
          "output_type": "stream",
          "text": [
            "[WARNING 24-01-24 17:10:15.2441 +04 gradient_boosted_trees.cc:1886] \"goss_alpha\" set but \"sampling_method\" not equal to \"GOSS\".\n",
            "[WARNING 24-01-24 17:10:15.2442 +04 gradient_boosted_trees.cc:1897] \"goss_beta\" set but \"sampling_method\" not equal to \"GOSS\".\n",
            "[WARNING 24-01-24 17:10:15.2443 +04 gradient_boosted_trees.cc:1911] \"selective_gradient_boosting_ratio\" set but \"sampling_method\" not equal to \"SELGB\".\n",
            "[INFO 24-01-24 17:10:16.0063 +04 kernel.cc:1233] Loading model from path /tmp/tmpt4krfykp/model/ with prefix 99c56d54dbfa4426\n",
            "[INFO 24-01-24 17:10:16.0098 +04 abstract_model.cc:1344] Engine \"GradientBoostedTreesQuickScorerExtended\" built\n",
            "[INFO 24-01-24 17:10:16.0098 +04 kernel.cc:1061] Use fast generic engine\n"
          ]
        },
        {
          "name": "stdout",
          "output_type": "stream",
          "text": [
            "i:84\n"
          ]
        },
        {
          "name": "stderr",
          "output_type": "stream",
          "text": [
            "[WARNING 24-01-24 17:10:16.4543 +04 gradient_boosted_trees.cc:1886] \"goss_alpha\" set but \"sampling_method\" not equal to \"GOSS\".\n",
            "[WARNING 24-01-24 17:10:16.4543 +04 gradient_boosted_trees.cc:1897] \"goss_beta\" set but \"sampling_method\" not equal to \"GOSS\".\n",
            "[WARNING 24-01-24 17:10:16.4543 +04 gradient_boosted_trees.cc:1911] \"selective_gradient_boosting_ratio\" set but \"sampling_method\" not equal to \"SELGB\".\n",
            "[INFO 24-01-24 17:10:17.1951 +04 kernel.cc:1233] Loading model from path /tmp/tmpiozlqt0z/model/ with prefix 419e7b5f9bec474e\n",
            "[INFO 24-01-24 17:10:17.2046 +04 kernel.cc:1061] Use fast generic engine\n"
          ]
        },
        {
          "name": "stdout",
          "output_type": "stream",
          "text": [
            "i:85\n"
          ]
        },
        {
          "name": "stderr",
          "output_type": "stream",
          "text": [
            "[WARNING 24-01-24 17:10:17.6427 +04 gradient_boosted_trees.cc:1886] \"goss_alpha\" set but \"sampling_method\" not equal to \"GOSS\".\n",
            "[WARNING 24-01-24 17:10:17.6427 +04 gradient_boosted_trees.cc:1897] \"goss_beta\" set but \"sampling_method\" not equal to \"GOSS\".\n",
            "[WARNING 24-01-24 17:10:17.6428 +04 gradient_boosted_trees.cc:1911] \"selective_gradient_boosting_ratio\" set but \"sampling_method\" not equal to \"SELGB\".\n",
            "[INFO 24-01-24 17:10:19.1229 +04 kernel.cc:1233] Loading model from path /tmp/tmpleokkeo_/model/ with prefix 456cc972cd134324\n",
            "[INFO 24-01-24 17:10:19.1267 +04 quick_scorer_extended.cc:903] The binary was compiled without AVX2 support, but your CPU supports it. Enable it for faster model inference.\n",
            "[INFO 24-01-24 17:10:19.1274 +04 kernel.cc:1061] Use fast generic engine\n"
          ]
        },
        {
          "name": "stdout",
          "output_type": "stream",
          "text": [
            "i:86\n"
          ]
        },
        {
          "name": "stderr",
          "output_type": "stream",
          "text": [
            "[WARNING 24-01-24 17:10:19.6932 +04 gradient_boosted_trees.cc:1886] \"goss_alpha\" set but \"sampling_method\" not equal to \"GOSS\".\n",
            "[WARNING 24-01-24 17:10:19.6933 +04 gradient_boosted_trees.cc:1897] \"goss_beta\" set but \"sampling_method\" not equal to \"GOSS\".\n",
            "[WARNING 24-01-24 17:10:19.6933 +04 gradient_boosted_trees.cc:1911] \"selective_gradient_boosting_ratio\" set but \"sampling_method\" not equal to \"SELGB\".\n",
            "[INFO 24-01-24 17:10:20.4995 +04 kernel.cc:1233] Loading model from path /tmp/tmpd3sfi2eg/model/ with prefix 615e920e77324fff\n",
            "[INFO 24-01-24 17:10:20.5090 +04 kernel.cc:1061] Use fast generic engine\n"
          ]
        },
        {
          "name": "stdout",
          "output_type": "stream",
          "text": [
            "i:87\n"
          ]
        },
        {
          "name": "stderr",
          "output_type": "stream",
          "text": [
            "[WARNING 24-01-24 17:10:21.0323 +04 gradient_boosted_trees.cc:1886] \"goss_alpha\" set but \"sampling_method\" not equal to \"GOSS\".\n",
            "[WARNING 24-01-24 17:10:21.0323 +04 gradient_boosted_trees.cc:1897] \"goss_beta\" set but \"sampling_method\" not equal to \"GOSS\".\n",
            "[WARNING 24-01-24 17:10:21.0323 +04 gradient_boosted_trees.cc:1911] \"selective_gradient_boosting_ratio\" set but \"sampling_method\" not equal to \"SELGB\".\n",
            "[INFO 24-01-24 17:10:21.8302 +04 kernel.cc:1233] Loading model from path /tmp/tmprpmao5_9/model/ with prefix 65a2e713b7104750\n",
            "[INFO 24-01-24 17:10:21.8407 +04 kernel.cc:1061] Use fast generic engine\n"
          ]
        },
        {
          "name": "stdout",
          "output_type": "stream",
          "text": [
            "i:88\n"
          ]
        },
        {
          "name": "stderr",
          "output_type": "stream",
          "text": [
            "[WARNING 24-01-24 17:10:22.3388 +04 gradient_boosted_trees.cc:1886] \"goss_alpha\" set but \"sampling_method\" not equal to \"GOSS\".\n",
            "[WARNING 24-01-24 17:10:22.3389 +04 gradient_boosted_trees.cc:1897] \"goss_beta\" set but \"sampling_method\" not equal to \"GOSS\".\n",
            "[WARNING 24-01-24 17:10:22.3389 +04 gradient_boosted_trees.cc:1911] \"selective_gradient_boosting_ratio\" set but \"sampling_method\" not equal to \"SELGB\".\n",
            "[INFO 24-01-24 17:10:23.1353 +04 kernel.cc:1233] Loading model from path /tmp/tmpt540c4l_/model/ with prefix edd7421012fa4ab5\n",
            "[INFO 24-01-24 17:10:23.1411 +04 kernel.cc:1061] Use fast generic engine\n"
          ]
        },
        {
          "name": "stdout",
          "output_type": "stream",
          "text": [
            "i:89\n"
          ]
        },
        {
          "name": "stderr",
          "output_type": "stream",
          "text": [
            "[WARNING 24-01-24 17:10:23.6150 +04 gradient_boosted_trees.cc:1886] \"goss_alpha\" set but \"sampling_method\" not equal to \"GOSS\".\n",
            "[WARNING 24-01-24 17:10:23.6150 +04 gradient_boosted_trees.cc:1897] \"goss_beta\" set but \"sampling_method\" not equal to \"GOSS\".\n",
            "[WARNING 24-01-24 17:10:23.6150 +04 gradient_boosted_trees.cc:1911] \"selective_gradient_boosting_ratio\" set but \"sampling_method\" not equal to \"SELGB\".\n",
            "[INFO 24-01-24 17:10:24.2433 +04 kernel.cc:1233] Loading model from path /tmp/tmpm7ldrupu/model/ with prefix a2b75986e1d647dd\n",
            "[INFO 24-01-24 17:10:24.2481 +04 kernel.cc:1061] Use fast generic engine\n"
          ]
        },
        {
          "name": "stdout",
          "output_type": "stream",
          "text": [
            "i:90\n"
          ]
        },
        {
          "name": "stderr",
          "output_type": "stream",
          "text": [
            "[WARNING 24-01-24 17:10:24.7149 +04 gradient_boosted_trees.cc:1886] \"goss_alpha\" set but \"sampling_method\" not equal to \"GOSS\".\n",
            "[WARNING 24-01-24 17:10:24.7150 +04 gradient_boosted_trees.cc:1897] \"goss_beta\" set but \"sampling_method\" not equal to \"GOSS\".\n",
            "[WARNING 24-01-24 17:10:24.7150 +04 gradient_boosted_trees.cc:1911] \"selective_gradient_boosting_ratio\" set but \"sampling_method\" not equal to \"SELGB\".\n",
            "[INFO 24-01-24 17:10:25.3808 +04 kernel.cc:1233] Loading model from path /tmp/tmpde5g0lja/model/ with prefix d4c4309cff73431e\n",
            "[INFO 24-01-24 17:10:25.3872 +04 kernel.cc:1061] Use fast generic engine\n"
          ]
        },
        {
          "name": "stdout",
          "output_type": "stream",
          "text": [
            "i:91\n"
          ]
        },
        {
          "name": "stderr",
          "output_type": "stream",
          "text": [
            "[WARNING 24-01-24 17:10:26.3384 +04 gradient_boosted_trees.cc:1886] \"goss_alpha\" set but \"sampling_method\" not equal to \"GOSS\".\n",
            "[WARNING 24-01-24 17:10:26.3384 +04 gradient_boosted_trees.cc:1897] \"goss_beta\" set but \"sampling_method\" not equal to \"GOSS\".\n",
            "[WARNING 24-01-24 17:10:26.3384 +04 gradient_boosted_trees.cc:1911] \"selective_gradient_boosting_ratio\" set but \"sampling_method\" not equal to \"SELGB\".\n",
            "[INFO 24-01-24 17:10:27.5907 +04 kernel.cc:1233] Loading model from path /tmp/tmp__9dk1u5/model/ with prefix df3998f7318a4de5\n",
            "[INFO 24-01-24 17:10:27.6026 +04 abstract_model.cc:1344] Engine \"GradientBoostedTreesQuickScorerExtended\" built\n",
            "[INFO 24-01-24 17:10:27.6028 +04 kernel.cc:1061] Use fast generic engine\n"
          ]
        },
        {
          "name": "stdout",
          "output_type": "stream",
          "text": [
            "i:92\n"
          ]
        },
        {
          "name": "stderr",
          "output_type": "stream",
          "text": [
            "[WARNING 24-01-24 17:10:28.6393 +04 gradient_boosted_trees.cc:1886] \"goss_alpha\" set but \"sampling_method\" not equal to \"GOSS\".\n",
            "[WARNING 24-01-24 17:10:28.6393 +04 gradient_boosted_trees.cc:1897] \"goss_beta\" set but \"sampling_method\" not equal to \"GOSS\".\n",
            "[WARNING 24-01-24 17:10:28.6393 +04 gradient_boosted_trees.cc:1911] \"selective_gradient_boosting_ratio\" set but \"sampling_method\" not equal to \"SELGB\".\n",
            "[INFO 24-01-24 17:10:30.3038 +04 kernel.cc:1233] Loading model from path /tmp/tmpfw1lgn_g/model/ with prefix 0e9a546f384a4c66\n",
            "[INFO 24-01-24 17:10:30.3218 +04 kernel.cc:1061] Use fast generic engine\n"
          ]
        },
        {
          "name": "stdout",
          "output_type": "stream",
          "text": [
            "i:93\n"
          ]
        },
        {
          "name": "stderr",
          "output_type": "stream",
          "text": [
            "[WARNING 24-01-24 17:10:30.8869 +04 gradient_boosted_trees.cc:1886] \"goss_alpha\" set but \"sampling_method\" not equal to \"GOSS\".\n",
            "[WARNING 24-01-24 17:10:30.8869 +04 gradient_boosted_trees.cc:1897] \"goss_beta\" set but \"sampling_method\" not equal to \"GOSS\".\n",
            "[WARNING 24-01-24 17:10:30.8869 +04 gradient_boosted_trees.cc:1911] \"selective_gradient_boosting_ratio\" set but \"sampling_method\" not equal to \"SELGB\".\n",
            "[INFO 24-01-24 17:10:31.6913 +04 kernel.cc:1233] Loading model from path /tmp/tmp92to0ebm/model/ with prefix 77d53599a08747fa\n",
            "[INFO 24-01-24 17:10:31.6980 +04 kernel.cc:1061] Use fast generic engine\n"
          ]
        },
        {
          "name": "stdout",
          "output_type": "stream",
          "text": [
            "i:94\n"
          ]
        },
        {
          "name": "stderr",
          "output_type": "stream",
          "text": [
            "[WARNING 24-01-24 17:10:32.1571 +04 gradient_boosted_trees.cc:1886] \"goss_alpha\" set but \"sampling_method\" not equal to \"GOSS\".\n",
            "[WARNING 24-01-24 17:10:32.1571 +04 gradient_boosted_trees.cc:1897] \"goss_beta\" set but \"sampling_method\" not equal to \"GOSS\".\n",
            "[WARNING 24-01-24 17:10:32.1571 +04 gradient_boosted_trees.cc:1911] \"selective_gradient_boosting_ratio\" set but \"sampling_method\" not equal to \"SELGB\".\n",
            "[INFO 24-01-24 17:10:32.7627 +04 kernel.cc:1233] Loading model from path /tmp/tmpslqh_w2l/model/ with prefix cfa46a6eac2645a8\n",
            "[INFO 24-01-24 17:10:32.7671 +04 kernel.cc:1061] Use fast generic engine\n"
          ]
        },
        {
          "name": "stdout",
          "output_type": "stream",
          "text": [
            "i:95\n"
          ]
        },
        {
          "name": "stderr",
          "output_type": "stream",
          "text": [
            "[WARNING 24-01-24 17:10:33.2345 +04 gradient_boosted_trees.cc:1886] \"goss_alpha\" set but \"sampling_method\" not equal to \"GOSS\".\n",
            "[WARNING 24-01-24 17:10:33.2345 +04 gradient_boosted_trees.cc:1897] \"goss_beta\" set but \"sampling_method\" not equal to \"GOSS\".\n",
            "[WARNING 24-01-24 17:10:33.2346 +04 gradient_boosted_trees.cc:1911] \"selective_gradient_boosting_ratio\" set but \"sampling_method\" not equal to \"SELGB\".\n",
            "[INFO 24-01-24 17:10:34.0185 +04 kernel.cc:1233] Loading model from path /tmp/tmps_bcd84s/model/ with prefix e1cded0017af4888\n",
            "[INFO 24-01-24 17:10:34.0230 +04 kernel.cc:1061] Use fast generic engine\n"
          ]
        },
        {
          "name": "stdout",
          "output_type": "stream",
          "text": [
            "i:96\n"
          ]
        },
        {
          "name": "stderr",
          "output_type": "stream",
          "text": [
            "[WARNING 24-01-24 17:10:34.5244 +04 gradient_boosted_trees.cc:1886] \"goss_alpha\" set but \"sampling_method\" not equal to \"GOSS\".\n",
            "[WARNING 24-01-24 17:10:34.5244 +04 gradient_boosted_trees.cc:1897] \"goss_beta\" set but \"sampling_method\" not equal to \"GOSS\".\n",
            "[WARNING 24-01-24 17:10:34.5244 +04 gradient_boosted_trees.cc:1911] \"selective_gradient_boosting_ratio\" set but \"sampling_method\" not equal to \"SELGB\".\n",
            "[INFO 24-01-24 17:10:35.2014 +04 kernel.cc:1233] Loading model from path /tmp/tmpoh12uiny/model/ with prefix 3f74840104d94cac\n",
            "[INFO 24-01-24 17:10:35.2062 +04 kernel.cc:1061] Use fast generic engine\n"
          ]
        },
        {
          "name": "stdout",
          "output_type": "stream",
          "text": [
            "i:97\n"
          ]
        },
        {
          "name": "stderr",
          "output_type": "stream",
          "text": [
            "[WARNING 24-01-24 17:10:35.7310 +04 gradient_boosted_trees.cc:1886] \"goss_alpha\" set but \"sampling_method\" not equal to \"GOSS\".\n",
            "[WARNING 24-01-24 17:10:35.7311 +04 gradient_boosted_trees.cc:1897] \"goss_beta\" set but \"sampling_method\" not equal to \"GOSS\".\n",
            "[WARNING 24-01-24 17:10:35.7311 +04 gradient_boosted_trees.cc:1911] \"selective_gradient_boosting_ratio\" set but \"sampling_method\" not equal to \"SELGB\".\n",
            "[INFO 24-01-24 17:10:36.9505 +04 kernel.cc:1233] Loading model from path /tmp/tmphjcrzfjn/model/ with prefix 5d2f394406114b42\n",
            "[INFO 24-01-24 17:10:36.9567 +04 kernel.cc:1061] Use fast generic engine\n"
          ]
        },
        {
          "name": "stdout",
          "output_type": "stream",
          "text": [
            "i:98\n"
          ]
        },
        {
          "name": "stderr",
          "output_type": "stream",
          "text": [
            "[WARNING 24-01-24 17:10:38.3079 +04 gradient_boosted_trees.cc:1886] \"goss_alpha\" set but \"sampling_method\" not equal to \"GOSS\".\n",
            "[WARNING 24-01-24 17:10:38.3080 +04 gradient_boosted_trees.cc:1897] \"goss_beta\" set but \"sampling_method\" not equal to \"GOSS\".\n",
            "[WARNING 24-01-24 17:10:38.3080 +04 gradient_boosted_trees.cc:1911] \"selective_gradient_boosting_ratio\" set but \"sampling_method\" not equal to \"SELGB\".\n",
            "[INFO 24-01-24 17:10:39.8227 +04 kernel.cc:1233] Loading model from path /tmp/tmpi2lrtts2/model/ with prefix 57de033ea7274c6d\n",
            "[INFO 24-01-24 17:10:39.8314 +04 abstract_model.cc:1344] Engine \"GradientBoostedTreesQuickScorerExtended\" built\n",
            "[INFO 24-01-24 17:10:39.8315 +04 kernel.cc:1061] Use fast generic engine\n"
          ]
        },
        {
          "name": "stdout",
          "output_type": "stream",
          "text": [
            "i:99\n"
          ]
        },
        {
          "name": "stderr",
          "output_type": "stream",
          "text": [
            "[WARNING 24-01-24 17:10:40.6787 +04 gradient_boosted_trees.cc:1886] \"goss_alpha\" set but \"sampling_method\" not equal to \"GOSS\".\n",
            "[WARNING 24-01-24 17:10:40.6788 +04 gradient_boosted_trees.cc:1897] \"goss_beta\" set but \"sampling_method\" not equal to \"GOSS\".\n",
            "[WARNING 24-01-24 17:10:40.6788 +04 gradient_boosted_trees.cc:1911] \"selective_gradient_boosting_ratio\" set but \"sampling_method\" not equal to \"SELGB\".\n",
            "[INFO 24-01-24 17:10:41.4328 +04 kernel.cc:1233] Loading model from path /tmp/tmpzfqnf_1g/model/ with prefix 8865d408eaad4c3c\n",
            "[INFO 24-01-24 17:10:41.4410 +04 kernel.cc:1061] Use fast generic engine\n"
          ]
        },
        {
          "name": "stdout",
          "output_type": "stream",
          "text": [
            "Submission exported to data/tf_lead_submission.csv\n"
          ]
        }
      ],
      "source": [
        "predictions = None\n",
        "num_predictions = 0\n",
        "\n",
        "for i in range(100):\n",
        "    print(f\"i:{i}\")\n",
        "    # Possible models: GradientBoostedTreesModel or RandomForestModel\n",
        "    model = tfdf.keras.GradientBoostedTreesModel(\n",
        "        verbose=0, # Very few logs\n",
        "        features=[tfdf.keras.FeatureUsage(name=n) for n in input_features],\n",
        "        exclude_non_specified_features=True, # Only use the features in \"features\"\n",
        "\n",
        "        #min_examples=1,\n",
        "        #categorical_algorithm=\"RANDOM\",\n",
        "        ##max_depth=4,\n",
        "        #shrinkage=0.05,\n",
        "        ##num_candidate_attributes_ratio=0.2,\n",
        "        #split_axis=\"SPARSE_OBLIQUE\",\n",
        "        #sparse_oblique_normalization=\"MIN_MAX\",\n",
        "        #sparse_oblique_num_projections_exponent=2.0,\n",
        "        #num_trees=2000,\n",
        "        ##validation_ratio=0.0,\n",
        "        random_seed=i,\n",
        "        honest=True,\n",
        "    )\n",
        "    model.fit(train_ds)\n",
        "\n",
        "    sub_predictions = model.predict(serving_ds, verbose=0)[:,0]\n",
        "    if predictions is None:\n",
        "        predictions = sub_predictions\n",
        "    else:\n",
        "        predictions += sub_predictions\n",
        "    num_predictions += 1\n",
        "\n",
        "predictions/=num_predictions\n",
        "\n",
        "kaggle_predictions = pd.DataFrame({\n",
        "        \"PassengerId\": serving_df[\"PassengerId\"],\n",
        "        \"Survived\": (predictions >= 0.5).astype(int)\n",
        "    })\n",
        "\n",
        "make_submission(kaggle_predictions)"
      ]
    },
    {
      "cell_type": "markdown",
      "metadata": {
        "id": "wDsn_G1sgKY8"
      },
      "source": [
        "# What is next\n",
        "\n",
        "If you want to learn more about TensorFlow Decision Forests and its advanced features, you can follow the official documentation [here](https://www.tensorflow.org/decision_forests)"
      ]
    }
  ],
  "metadata": {
    "colab": {
      "name": "Titanic competition w/ TensorFlow Decision Forests",
      "provenance": []
    },
    "kernelspec": {
      "display_name": "Python 3",
      "language": "python",
      "name": "python3"
    },
    "language_info": {
      "codemirror_mode": {
        "name": "ipython",
        "version": 3
      },
      "file_extension": ".py",
      "mimetype": "text/x-python",
      "name": "python",
      "nbconvert_exporter": "python",
      "pygments_lexer": "ipython3",
      "version": "3.10.12"
    }
  },
  "nbformat": 4,
  "nbformat_minor": 0
}
