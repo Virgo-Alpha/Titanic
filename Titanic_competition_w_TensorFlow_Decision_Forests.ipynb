{
  "cells": [
    {
      "cell_type": "code",
      "execution_count": null,
      "metadata": {
        "id": "BcA_XtQJgKYv"
      },
      "outputs": [],
      "source": [
        "\n",
        "# IMPORTANT: RUN THIS CELL IN ORDER TO IMPORT YOUR KAGGLE DATA SOURCES\n",
        "# TO THE CORRECT LOCATION (/kaggle/input) IN YOUR NOTEBOOK,\n",
        "# THEN FEEL FREE TO DELETE THIS CELL.\n",
        "# NOTE: THIS NOTEBOOK ENVIRONMENT DIFFERS FROM KAGGLE'S PYTHON\n",
        "# ENVIRONMENT SO THERE MAY BE MISSING LIBRARIES USED BY YOUR\n",
        "# NOTEBOOK.\n",
        "\n",
        "import os\n",
        "import sys\n",
        "from tempfile import NamedTemporaryFile\n",
        "from urllib.request import urlopen\n",
        "from urllib.parse import unquote, urlparse\n",
        "from urllib.error import HTTPError\n",
        "from zipfile import ZipFile\n",
        "import tarfile\n",
        "import shutil\n",
        "\n",
        "CHUNK_SIZE = 40960\n",
        "DATA_SOURCE_MAPPING = 'titanic:https%3A%2F%2Fstorage.googleapis.com%2Fkaggle-competitions-data%2Fkaggle-v2%2F3136%2F26502%2Fbundle%2Farchive.zip%3FX-Goog-Algorithm%3DGOOG4-RSA-SHA256%26X-Goog-Credential%3Dgcp-kaggle-com%2540kaggle-161607.iam.gserviceaccount.com%252F20240124%252Fauto%252Fstorage%252Fgoog4_request%26X-Goog-Date%3D20240124T124449Z%26X-Goog-Expires%3D259200%26X-Goog-SignedHeaders%3Dhost%26X-Goog-Signature%3D02bd8edd546fbf5976d1da075acee7987859e17c8e9ab3cefa52cc51581812089e29aa24fb637a9dcc34b12a96b4fd214393dff06fcab74952e01568d5faf3bdcd5524730423f489add567cb62407d812aaebf01185c905bd7fb1ff02e3bdd0cf29d4e3e297d371766de3c5edd2ab77f4458901cd3e1cdb34442f66c93d09492c87fdc0382557331a0e79aa8809c47fc3aa64c73c17e53889f8522876affb691fea6ea20f6698d59233fc39630707963d459946af801b5477ccf89e94983c7a2d6ce4cae7823874287c0d1eb5f93b99c8926fbca74082dcdd4ca5d7fb7b504707f5b11f73a0ba5f59ec5c93c6cbf2a21fc967d018d2b092b710a08a315b0ed01'\n",
        "\n",
        "KAGGLE_INPUT_PATH='/kaggle/input'\n",
        "KAGGLE_WORKING_PATH='/kaggle/working'\n",
        "KAGGLE_SYMLINK='kaggle'\n",
        "\n",
        "# !umount /kaggle/input/ 2> /dev/null\n",
        "shutil.rmtree('/kaggle/input', ignore_errors=True)\n",
        "os.makedirs(KAGGLE_INPUT_PATH, 0o777, exist_ok=True)\n",
        "os.makedirs(KAGGLE_WORKING_PATH, 0o777, exist_ok=True)\n",
        "\n",
        "try:\n",
        "  os.symlink(KAGGLE_INPUT_PATH, os.path.join(\"..\", 'input'), target_is_directory=True)\n",
        "except FileExistsError:\n",
        "  pass\n",
        "try:\n",
        "  os.symlink(KAGGLE_WORKING_PATH, os.path.join(\"..\", 'working'), target_is_directory=True)\n",
        "except FileExistsError:\n",
        "  pass\n",
        "\n",
        "for data_source_mapping in DATA_SOURCE_MAPPING.split(','):\n",
        "    directory, download_url_encoded = data_source_mapping.split(':')\n",
        "    download_url = unquote(download_url_encoded)\n",
        "    filename = urlparse(download_url).path\n",
        "    destination_path = os.path.join(KAGGLE_INPUT_PATH, directory)\n",
        "    try:\n",
        "        with urlopen(download_url) as fileres, NamedTemporaryFile() as tfile:\n",
        "            total_length = fileres.headers['content-length']\n",
        "            print(f'Downloading {directory}, {total_length} bytes compressed')\n",
        "            dl = 0\n",
        "            data = fileres.read(CHUNK_SIZE)\n",
        "            while len(data) > 0:\n",
        "                dl += len(data)\n",
        "                tfile.write(data)\n",
        "                done = int(50 * dl / int(total_length))\n",
        "                sys.stdout.write(f\"\\r[{'=' * done}{' ' * (50-done)}] {dl} bytes downloaded\")\n",
        "                sys.stdout.flush()\n",
        "                data = fileres.read(CHUNK_SIZE)\n",
        "            if filename.endswith('.zip'):\n",
        "              with ZipFile(tfile) as zfile:\n",
        "                zfile.extractall(destination_path)\n",
        "            else:\n",
        "              with tarfile.open(tfile.name) as tarfile:\n",
        "                tarfile.extractall(destination_path)\n",
        "            print(f'\\nDownloaded and uncompressed: {directory}')\n",
        "    except HTTPError as e:\n",
        "        print(f'Failed to load (likely expired) {download_url} to path {destination_path}')\n",
        "        continue\n",
        "    except OSError as e:\n",
        "        print(f'Failed to load {download_url} to path {destination_path}')\n",
        "        continue\n",
        "\n",
        "print('Data source import complete.')\n"
      ]
    },
    {
      "cell_type": "markdown",
      "metadata": {
        "id": "kL1mapw2gKY1"
      },
      "source": [
        "# Titanic competition with TensorFlow Decision Forests\n",
        "\n",
        "This notebook will take you through the steps needed to train a baseline Gradient Boosted Trees Model using TensorFlow Decision Forests and creating a submission on the Titanic competition.\n",
        "\n",
        "This notebook shows:\n",
        "\n",
        "1. How to do some basic pre-processing. For example, the passenger names will be tokenized, and ticket names will be splitted in parts.\n",
        "1. How to train a Gradient Boosted Trees (GBT) with default parameters\n",
        "1. How to train a GBT with improved default parameters\n",
        "1. How to tune the parameters of a GBTs\n",
        "1. How to train and ensemble many GBTs"
      ]
    },
    {
      "cell_type": "markdown",
      "metadata": {
        "id": "juHPyBmNgKY2"
      },
      "source": [
        "# Imports dependencies"
      ]
    },
    {
      "cell_type": "code",
      "execution_count": null,
      "metadata": {
        "execution": {
          "iopub.execute_input": "2023-04-17T15:32:04.26451Z",
          "iopub.status.busy": "2023-04-17T15:32:04.264037Z",
          "iopub.status.idle": "2023-04-17T15:32:04.272355Z",
          "shell.execute_reply": "2023-04-17T15:32:04.270819Z",
          "shell.execute_reply.started": "2023-04-17T15:32:04.264459Z"
        },
        "id": "VOnT6rLrgKY2",
        "trusted": true
      },
      "outputs": [],
      "source": [
        "import numpy as np\n",
        "import pandas as pd\n",
        "import os\n",
        "\n",
        "%pip install --no-cache-dir --force-reinstall tensorflow==2.15.0\n",
        "import tensorflow as tf\n",
        "%pip install --no-cache-dir --force-reinstall tensorflow_decision_forests\n",
        "import tensorflow_decision_forests as tfdf\n",
        "\n",
        "print(f\"Found TF-DF {tfdf.__version__}\")"
      ]
    },
    {
      "cell_type": "markdown",
      "metadata": {
        "id": "DSseH5vAgKY3"
      },
      "source": [
        "# Load dataset"
      ]
    },
    {
      "cell_type": "code",
      "execution_count": null,
      "metadata": {
        "execution": {
          "iopub.execute_input": "2023-04-17T15:30:04.10358Z",
          "iopub.status.busy": "2023-04-17T15:30:04.102889Z",
          "iopub.status.idle": "2023-04-17T15:30:04.158126Z",
          "shell.execute_reply": "2023-04-17T15:30:04.156877Z",
          "shell.execute_reply.started": "2023-04-17T15:30:04.103539Z"
        },
        "id": "o31Qs-5NgKY3",
        "trusted": true
      },
      "outputs": [],
      "source": [
        "train_df = pd.read_csv(\"data/train.csv\")\n",
        "serving_df = pd.read_csv(\"data/test.csv\")\n",
        "\n",
        "train_df.head(10)"
      ]
    },
    {
      "cell_type": "markdown",
      "metadata": {
        "id": "7EuNYkAMgKY4"
      },
      "source": [
        "# Prepare dataset\n",
        "\n",
        "We will apply the following transformations on the dataset.\n",
        "\n",
        "1. Tokenize the names. For example, \"Braund, Mr. Owen Harris\" will become [\"Braund\", \"Mr.\", \"Owen\", \"Harris\"].\n",
        "2. Extract any prefix in the ticket. For example ticket \"STON/O2. 3101282\" will become \"STON/O2.\" and 3101282."
      ]
    },
    {
      "cell_type": "code",
      "execution_count": null,
      "metadata": {
        "execution": {
          "iopub.execute_input": "2023-04-17T15:30:09.502467Z",
          "iopub.status.busy": "2023-04-17T15:30:09.50201Z",
          "iopub.status.idle": "2023-04-17T15:30:09.540151Z",
          "shell.execute_reply": "2023-04-17T15:30:09.538948Z",
          "shell.execute_reply.started": "2023-04-17T15:30:09.502432Z"
        },
        "id": "errtCKV9gKY5",
        "trusted": true
      },
      "outputs": [],
      "source": [
        "def preprocess(df):\n",
        "    df = df.copy()\n",
        "\n",
        "    def normalize_name(x):\n",
        "        return \" \".join([v.strip(\",()[].\\\"'\") for v in x.split(\" \")])\n",
        "\n",
        "    def ticket_number(x):\n",
        "        return x.split(\" \")[-1]\n",
        "\n",
        "    def ticket_item(x):\n",
        "        items = x.split(\" \")\n",
        "        if len(items) == 1:\n",
        "            return \"NONE\"\n",
        "        return \"_\".join(items[0:-1])\n",
        "\n",
        "    df[\"Name\"] = df[\"Name\"].apply(normalize_name)\n",
        "    df[\"Ticket_number\"] = df[\"Ticket\"].apply(ticket_number)\n",
        "    df[\"Ticket_item\"] = df[\"Ticket\"].apply(ticket_item)\n",
        "    return df\n",
        "\n",
        "preprocessed_train_df = preprocess(train_df)\n",
        "preprocessed_serving_df = preprocess(serving_df)\n",
        "\n",
        "preprocessed_train_df.head(5)"
      ]
    },
    {
      "cell_type": "markdown",
      "metadata": {
        "id": "QzKLtg7egKY5"
      },
      "source": [
        "Let's keep the list of the input features of the model. Notably, we don't want to train our model on the \"PassengerId\" and \"Ticket\" features."
      ]
    },
    {
      "cell_type": "code",
      "execution_count": null,
      "metadata": {
        "execution": {
          "iopub.execute_input": "2023-04-17T15:30:14.000868Z",
          "iopub.status.busy": "2023-04-17T15:30:14.000466Z",
          "iopub.status.idle": "2023-04-17T15:30:14.00835Z",
          "shell.execute_reply": "2023-04-17T15:30:14.006982Z",
          "shell.execute_reply.started": "2023-04-17T15:30:14.000833Z"
        },
        "id": "9bgPwnARgKY5",
        "trusted": true
      },
      "outputs": [],
      "source": [
        "input_features = list(preprocessed_train_df.columns)\n",
        "input_features.remove(\"Ticket\")\n",
        "input_features.remove(\"PassengerId\")\n",
        "input_features.remove(\"Survived\")\n",
        "#input_features.remove(\"Ticket_number\")\n",
        "\n",
        "print(f\"Input features: {input_features}\")"
      ]
    },
    {
      "cell_type": "markdown",
      "metadata": {
        "id": "qRP4WgBLgKY6"
      },
      "source": [
        "# Convert Pandas dataset to TensorFlow Dataset"
      ]
    },
    {
      "cell_type": "code",
      "execution_count": null,
      "metadata": {
        "execution": {
          "iopub.execute_input": "2023-04-17T15:30:17.896741Z",
          "iopub.status.busy": "2023-04-17T15:30:17.896317Z",
          "iopub.status.idle": "2023-04-17T15:30:18.231195Z",
          "shell.execute_reply": "2023-04-17T15:30:18.229792Z",
          "shell.execute_reply.started": "2023-04-17T15:30:17.896705Z"
        },
        "id": "2DL3m_8wgKY6",
        "trusted": true
      },
      "outputs": [],
      "source": [
        "def tokenize_names(features, labels=None):\n",
        "    \"\"\"Divite the names into tokens. TF-DF can consume text tokens natively.\"\"\"\n",
        "    features[\"Name\"] =  tf.strings.split(features[\"Name\"])\n",
        "    return features, labels\n",
        "\n",
        "train_ds = tfdf.keras.pd_dataframe_to_tf_dataset(preprocessed_train_df,label=\"Survived\").map(tokenize_names)\n",
        "serving_ds = tfdf.keras.pd_dataframe_to_tf_dataset(preprocessed_serving_df).map(tokenize_names)"
      ]
    },
    {
      "cell_type": "markdown",
      "metadata": {
        "id": "m60xumhMgKY6"
      },
      "source": [
        "# Train model with default parameters\n",
        "\n",
        "### Train model\n",
        "\n",
        "First, we are training a GradientBoostedTreesModel model with the default parameters."
      ]
    },
    {
      "cell_type": "code",
      "execution_count": null,
      "metadata": {
        "execution": {
          "iopub.execute_input": "2023-04-17T15:32:16.581306Z",
          "iopub.status.busy": "2023-04-17T15:32:16.580089Z",
          "iopub.status.idle": "2023-04-17T15:32:17.55132Z",
          "shell.execute_reply": "2023-04-17T15:32:17.55024Z",
          "shell.execute_reply.started": "2023-04-17T15:32:16.581257Z"
        },
        "id": "GERChv4DgKY6",
        "trusted": true
      },
      "outputs": [],
      "source": [
        "model = tfdf.keras.GradientBoostedTreesModel(\n",
        "    verbose=0, # Very few logs\n",
        "    features=[tfdf.keras.FeatureUsage(name=n) for n in input_features],\n",
        "    exclude_non_specified_features=True, # Only use the features in \"features\"\n",
        "    random_seed=1234,\n",
        ")\n",
        "model.fit(train_ds)\n",
        "\n",
        "self_evaluation = model.make_inspector().evaluation()\n",
        "print(f\"Accuracy: {self_evaluation.accuracy} Loss:{self_evaluation.loss}\")"
      ]
    },
    {
      "cell_type": "markdown",
      "metadata": {
        "id": "f9H9ltY-gKY7"
      },
      "source": [
        "# Train model with improved default parameters\n",
        "\n",
        "Now you'll use some specific parameters when creating the GBT model"
      ]
    },
    {
      "cell_type": "code",
      "execution_count": null,
      "metadata": {
        "execution": {
          "iopub.execute_input": "2023-04-17T15:06:14.82343Z",
          "iopub.status.busy": "2023-04-17T15:06:14.822939Z",
          "iopub.status.idle": "2023-04-17T15:06:16.103565Z",
          "shell.execute_reply": "2023-04-17T15:06:16.102272Z",
          "shell.execute_reply.started": "2023-04-17T15:06:14.82339Z"
        },
        "id": "NndZCjRngKY7",
        "trusted": true
      },
      "outputs": [],
      "source": [
        "model = tfdf.keras.GradientBoostedTreesModel(\n",
        "    verbose=0, # Very few logs\n",
        "    features=[tfdf.keras.FeatureUsage(name=n) for n in input_features],\n",
        "    exclude_non_specified_features=True, # Only use the features in \"features\"\n",
        "\n",
        "    #num_trees=2000,\n",
        "\n",
        "    # Only for GBT.\n",
        "    # A bit slower, but great to understand the model.\n",
        "    # compute_permutation_variable_importance=True,\n",
        "\n",
        "    # Change the default hyper-parameters\n",
        "    # hyperparameter_template=\"benchmark_rank1@v1\",\n",
        "\n",
        "    #num_trees=1000,\n",
        "    #tuner=tuner\n",
        "\n",
        "    min_examples=1,\n",
        "    categorical_algorithm=\"RANDOM\",\n",
        "    #max_depth=4,\n",
        "    shrinkage=0.05,\n",
        "    #num_candidate_attributes_ratio=0.2,\n",
        "    split_axis=\"SPARSE_OBLIQUE\",\n",
        "    sparse_oblique_normalization=\"MIN_MAX\",\n",
        "    sparse_oblique_num_projections_exponent=2.0,\n",
        "    num_trees=2000,\n",
        "    #validation_ratio=0.0,\n",
        "    random_seed=1234,\n",
        "\n",
        ")\n",
        "model.fit(train_ds)\n",
        "\n",
        "self_evaluation = model.make_inspector().evaluation()\n",
        "print(f\"Accuracy: {self_evaluation.accuracy} Loss:{self_evaluation.loss}\")"
      ]
    },
    {
      "cell_type": "markdown",
      "metadata": {
        "id": "F21QXphSgKY7"
      },
      "source": [
        "Let's look at the model and you can also notice the information about variable importance that the model figured out"
      ]
    },
    {
      "cell_type": "code",
      "execution_count": null,
      "metadata": {
        "execution": {
          "iopub.execute_input": "2023-04-17T15:06:16.105239Z",
          "iopub.status.busy": "2023-04-17T15:06:16.104878Z",
          "iopub.status.idle": "2023-04-17T15:06:16.123439Z",
          "shell.execute_reply": "2023-04-17T15:06:16.121993Z",
          "shell.execute_reply.started": "2023-04-17T15:06:16.105206Z"
        },
        "id": "jcLAPfHMgKY7",
        "trusted": true
      },
      "outputs": [],
      "source": [
        "model.summary()"
      ]
    },
    {
      "cell_type": "markdown",
      "metadata": {
        "id": "WJVgjUqbgKY7"
      },
      "source": [
        "# Make predictions"
      ]
    },
    {
      "cell_type": "code",
      "execution_count": null,
      "metadata": {
        "execution": {
          "iopub.execute_input": "2023-04-17T15:06:16.126941Z",
          "iopub.status.busy": "2023-04-17T15:06:16.126575Z",
          "iopub.status.idle": "2023-04-17T15:06:17.406876Z",
          "shell.execute_reply": "2023-04-17T15:06:17.405022Z",
          "shell.execute_reply.started": "2023-04-17T15:06:16.126904Z"
        },
        "id": "6H290F6sgKY7",
        "trusted": true
      },
      "outputs": [],
      "source": [
        "def prediction_to_kaggle_format(model, threshold=0.5):\n",
        "    proba_survive = model.predict(serving_ds, verbose=0)[:,0]\n",
        "    return pd.DataFrame({\n",
        "        \"PassengerId\": serving_df[\"PassengerId\"],\n",
        "        \"Survived\": (proba_survive >= threshold).astype(int)\n",
        "    })\n",
        "\n",
        "def make_submission(kaggle_predictions):\n",
        "    path=\"data/tf_lead_submission.csv\"\n",
        "    kaggle_predictions.to_csv(path, index=False)\n",
        "    print(f\"Submission exported to {path}\")\n",
        "\n",
        "kaggle_predictions = prediction_to_kaggle_format(model)\n",
        "make_submission(kaggle_predictions)\n",
        "!head data/tf_lead_submission.csv"
      ]
    },
    {
      "cell_type": "markdown",
      "metadata": {
        "id": "YDEZB27dgKY7"
      },
      "source": [
        "# Training a model with hyperparameter tunning\n",
        "\n",
        "Hyper-parameter tuning is enabled by specifying the tuner constructor argument of the model. The tuner object contains all the configuration of the tuner (search space, optimizer, trial and objective).\n"
      ]
    },
    {
      "cell_type": "code",
      "execution_count": null,
      "metadata": {
        "execution": {
          "iopub.execute_input": "2023-04-17T15:23:13.251376Z",
          "iopub.status.busy": "2023-04-17T15:23:13.249675Z",
          "iopub.status.idle": "2023-04-17T15:25:19.611729Z",
          "shell.execute_reply": "2023-04-17T15:25:19.610154Z",
          "shell.execute_reply.started": "2023-04-17T15:23:13.251306Z"
        },
        "id": "WrEhLuRUgKY8",
        "trusted": true
      },
      "outputs": [],
      "source": [
        "tuner = tfdf.tuner.RandomSearch(num_trials=1000)\n",
        "tuner.choice(\"min_examples\", [2, 5, 7, 10])\n",
        "tuner.choice(\"categorical_algorithm\", [\"CART\", \"RANDOM\"])\n",
        "\n",
        "local_search_space = tuner.choice(\"growing_strategy\", [\"LOCAL\"])\n",
        "local_search_space.choice(\"max_depth\", [3, 4, 5, 6, 8])\n",
        "\n",
        "global_search_space = tuner.choice(\"growing_strategy\", [\"BEST_FIRST_GLOBAL\"], merge=True)\n",
        "global_search_space.choice(\"max_num_nodes\", [16, 32, 64, 128, 256])\n",
        "\n",
        "#tuner.choice(\"use_hessian_gain\", [True, False])\n",
        "tuner.choice(\"shrinkage\", [0.02, 0.05, 0.10, 0.15])\n",
        "tuner.choice(\"num_candidate_attributes_ratio\", [0.2, 0.5, 0.9, 1.0])\n",
        "\n",
        "\n",
        "tuner.choice(\"split_axis\", [\"AXIS_ALIGNED\"])\n",
        "oblique_space = tuner.choice(\"split_axis\", [\"SPARSE_OBLIQUE\"], merge=True)\n",
        "oblique_space.choice(\"sparse_oblique_normalization\",\n",
        "                     [\"NONE\", \"STANDARD_DEVIATION\", \"MIN_MAX\"])\n",
        "oblique_space.choice(\"sparse_oblique_weights\", [\"BINARY\", \"CONTINUOUS\"])\n",
        "oblique_space.choice(\"sparse_oblique_num_projections_exponent\", [1.0, 1.5])\n",
        "\n",
        "# Tune the model. Notice the `tuner=tuner`.\n",
        "tuned_model = tfdf.keras.GradientBoostedTreesModel(tuner=tuner)\n",
        "tuned_model.fit(train_ds, verbose=0)\n",
        "\n",
        "tuned_self_evaluation = tuned_model.make_inspector().evaluation()\n",
        "print(f\"Accuracy: {tuned_self_evaluation.accuracy} Loss:{tuned_self_evaluation.loss}\")"
      ]
    },
    {
      "cell_type": "markdown",
      "metadata": {
        "id": "6DNPTxUtgKY8"
      },
      "source": [
        "In the last line in the cell above, you can see the accuracy is higher than previously with default parameters and parameters set by hand.\n",
        "\n",
        "This is the main idea behing hyperparameter tuning.\n",
        "\n",
        "For more information you can follow this tutorial: [Automated hyper-parameter tuning](https://www.tensorflow.org/decision_forests/tutorials/automatic_tuning_colab)"
      ]
    },
    {
      "cell_type": "markdown",
      "metadata": {
        "id": "3wOWAuxagKY8"
      },
      "source": [
        "# Making an ensemble\n",
        "\n",
        "Here you'll create 100 models with different seeds and combine their results\n",
        "\n",
        "This approach removes a little bit the random aspects related to creating ML models\n",
        "\n",
        "In the GBT creation is used the `honest` parameter. It will use different training examples to infer the structure and the leaf values. This regularization technique trades examples for bias estimates."
      ]
    },
    {
      "cell_type": "code",
      "execution_count": null,
      "metadata": {
        "execution": {
          "iopub.execute_input": "2023-04-17T15:28:37.558172Z",
          "iopub.status.busy": "2023-04-17T15:28:37.557745Z",
          "iopub.status.idle": "2023-04-17T15:28:52.809698Z",
          "shell.execute_reply": "2023-04-17T15:28:52.808193Z",
          "shell.execute_reply.started": "2023-04-17T15:28:37.55813Z"
        },
        "id": "mLeyfra7gKY8",
        "trusted": true
      },
      "outputs": [],
      "source": [
        "predictions = None\n",
        "num_predictions = 0\n",
        "\n",
        "for i in range(100):\n",
        "    print(f\"i:{i}\")\n",
        "    # Possible models: GradientBoostedTreesModel or RandomForestModel\n",
        "    model = tfdf.keras.GradientBoostedTreesModel(\n",
        "        verbose=0, # Very few logs\n",
        "        features=[tfdf.keras.FeatureUsage(name=n) for n in input_features],\n",
        "        exclude_non_specified_features=True, # Only use the features in \"features\"\n",
        "\n",
        "        #min_examples=1,\n",
        "        #categorical_algorithm=\"RANDOM\",\n",
        "        ##max_depth=4,\n",
        "        #shrinkage=0.05,\n",
        "        ##num_candidate_attributes_ratio=0.2,\n",
        "        #split_axis=\"SPARSE_OBLIQUE\",\n",
        "        #sparse_oblique_normalization=\"MIN_MAX\",\n",
        "        #sparse_oblique_num_projections_exponent=2.0,\n",
        "        #num_trees=2000,\n",
        "        ##validation_ratio=0.0,\n",
        "        random_seed=i,\n",
        "        honest=True,\n",
        "    )\n",
        "    model.fit(train_ds)\n",
        "\n",
        "    sub_predictions = model.predict(serving_ds, verbose=0)[:,0]\n",
        "    if predictions is None:\n",
        "        predictions = sub_predictions\n",
        "    else:\n",
        "        predictions += sub_predictions\n",
        "    num_predictions += 1\n",
        "\n",
        "predictions/=num_predictions\n",
        "\n",
        "kaggle_predictions = pd.DataFrame({\n",
        "        \"PassengerId\": serving_df[\"PassengerId\"],\n",
        "        \"Survived\": (predictions >= 0.5).astype(int)\n",
        "    })\n",
        "\n",
        "make_submission(kaggle_predictions)\n",
        "\n",
        "self_evaluation = model.make_inspector().evaluation()\n",
        "print(f\"Accuracy: {self_evaluation.accuracy} Loss:{self_evaluation.loss}\")"
      ]
    },
    {
      "cell_type": "markdown",
      "metadata": {
        "id": "wDsn_G1sgKY8"
      },
      "source": [
        "# What is next\n",
        "\n",
        "If you want to learn more about TensorFlow Decision Forests and its advanced features, you can follow the official documentation [here](https://www.tensorflow.org/decision_forests)"
      ]
    }
  ],
  "metadata": {
    "colab": {
      "name": "Titanic competition w/ TensorFlow Decision Forests",
      "provenance": []
    },
    "kernelspec": {
      "display_name": "Python 3",
      "language": "python",
      "name": "python3"
    },
    "language_info": {
      "codemirror_mode": {
        "name": "ipython",
        "version": 3
      },
      "file_extension": ".py",
      "mimetype": "text/x-python",
      "name": "python",
      "nbconvert_exporter": "python",
      "pygments_lexer": "ipython3",
      "version": "3.10.12"
    }
  },
  "nbformat": 4,
  "nbformat_minor": 0
}
