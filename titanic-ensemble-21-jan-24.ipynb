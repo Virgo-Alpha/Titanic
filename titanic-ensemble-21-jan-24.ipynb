{
 "cells": [
  {
   "cell_type": "code",
   "execution_count": 1,
   "id": "3f3473fc",
   "metadata": {
    "_cell_guid": "b1076dfc-b9ad-4769-8c92-a6c4dae69d19",
    "_uuid": "8f2839f25d086af736a60e9eeb907d3b93b6e0e5",
    "execution": {
     "iopub.execute_input": "2024-01-21T21:12:29.420634Z",
     "iopub.status.busy": "2024-01-21T21:12:29.420130Z",
     "iopub.status.idle": "2024-01-21T21:12:46.222932Z",
     "shell.execute_reply": "2024-01-21T21:12:46.221780Z"
    },
    "papermill": {
     "duration": 16.816008,
     "end_time": "2024-01-21T21:12:46.225460",
     "exception": false,
     "start_time": "2024-01-21T21:12:29.409452",
     "status": "completed"
    },
    "tags": []
   },
   "outputs": [],
   "source": [
    "#Import libraries\n",
    "from sklearn.preprocessing import StandardScaler\n",
    "import numpy as np\n",
    "import pandas as pd \n",
    "import tensorflow as tf\n",
    "from tensorflow.keras.models import Model\n",
    "from tensorflow.keras.layers import Input, Dense, Concatenate\n"
   ]
  },
  {
   "cell_type": "markdown",
   "id": "d246a10b",
   "metadata": {
    "papermill": {
     "duration": 0.007869,
     "end_time": "2024-01-21T21:12:46.241637",
     "exception": false,
     "start_time": "2024-01-21T21:12:46.233768",
     "status": "completed"
    },
    "tags": []
   },
   "source": [
    "Read input files"
   ]
  },
  {
   "cell_type": "code",
   "execution_count": 2,
   "id": "132ebbe7",
   "metadata": {
    "execution": {
     "iopub.execute_input": "2024-01-21T21:12:46.260456Z",
     "iopub.status.busy": "2024-01-21T21:12:46.259629Z",
     "iopub.status.idle": "2024-01-21T21:12:46.294253Z",
     "shell.execute_reply": "2024-01-21T21:12:46.292850Z"
    },
    "papermill": {
     "duration": 0.047184,
     "end_time": "2024-01-21T21:12:46.296787",
     "exception": false,
     "start_time": "2024-01-21T21:12:46.249603",
     "status": "completed"
    },
    "tags": []
   },
   "outputs": [],
   "source": [
    "#Read input files\n",
    "test = pd.read_csv('data/test.csv')\n",
    "train = pd.read_csv('data/train.csv')"
   ]
  },
  {
   "cell_type": "code",
   "execution_count": 3,
   "id": "bf248517",
   "metadata": {
    "execution": {
     "iopub.execute_input": "2024-01-21T21:12:46.314592Z",
     "iopub.status.busy": "2024-01-21T21:12:46.314179Z",
     "iopub.status.idle": "2024-01-21T21:12:46.343104Z",
     "shell.execute_reply": "2024-01-21T21:12:46.341803Z"
    },
    "papermill": {
     "duration": 0.040768,
     "end_time": "2024-01-21T21:12:46.345652",
     "exception": false,
     "start_time": "2024-01-21T21:12:46.304884",
     "status": "completed"
    },
    "tags": []
   },
   "outputs": [],
   "source": [
    "n_train=train.copy()\n",
    "\n",
    "#Extract title\n",
    "n_train['Title']=n_train['Name'].apply(lambda x: x.split('.')[0].strip())\n",
    "n_train['Title']=n_train['Title'].apply(lambda x: x.split(',')[-1].strip())\n",
    "\n",
    "#Extract Deck\n",
    "n_train['Deck']=n_train['Cabin'].str.extract(r'([a-zA-Z]*)')\n",
    "n_train['Deck'].fillna('Z', inplace=True)\n",
    "n_train['Deck']=n_train['Deck'].where(n_train['Deck']!='T', 'G')\n",
    "\n",
    "#Extract Cabin number\n",
    "n_train['Cab_No']=n_train['Cabin'].str.extract(r'(\\d+)')\n",
    "n_train['Cab_No'].fillna(0, inplace=True)"
   ]
  },
  {
   "cell_type": "code",
   "execution_count": 4,
   "id": "fe11e6cc",
   "metadata": {
    "execution": {
     "iopub.execute_input": "2024-01-21T21:12:46.364949Z",
     "iopub.status.busy": "2024-01-21T21:12:46.364559Z",
     "iopub.status.idle": "2024-01-21T21:12:46.369114Z",
     "shell.execute_reply": "2024-01-21T21:12:46.367703Z"
    },
    "papermill": {
     "duration": 0.017443,
     "end_time": "2024-01-21T21:12:46.371752",
     "exception": false,
     "start_time": "2024-01-21T21:12:46.354309",
     "status": "completed"
    },
    "tags": []
   },
   "outputs": [],
   "source": [
    "#n_train.to_csv(\"n_train.csv\",header=True,index=False)"
   ]
  },
  {
   "cell_type": "markdown",
   "id": "04bffa2a",
   "metadata": {
    "papermill": {
     "duration": 0.007727,
     "end_time": "2024-01-21T21:12:46.388422",
     "exception": false,
     "start_time": "2024-01-21T21:12:46.380695",
     "status": "completed"
    },
    "tags": []
   },
   "source": [
    "Modify Test and Train files to simplify the Titles - as too many categories give the program too little data to train for each category\n",
    "\n",
    "We end up with 2 titles for men and 1 for women - the reason is that most women survived and most men died so there is no reason to distinguish between women but some men had better changes than others so adding a second category makes sense.\n",
    "\n",
    "I've also created a category for children but it didn't do much good. Survival of children wasn't great.\n",
    "\n",
    "Filling missing values - for missing age I inserted 999 for missing fare I inserted 0.01 and for missing cabin number I inserted 0. \n",
    "It may be better to use average values for age e.g. based on Sex, Class and embarcation harbour but I didn't test it. "
   ]
  },
  {
   "cell_type": "code",
   "execution_count": 5,
   "id": "000df76d",
   "metadata": {
    "execution": {
     "iopub.execute_input": "2024-01-21T21:12:46.405908Z",
     "iopub.status.busy": "2024-01-21T21:12:46.404941Z",
     "iopub.status.idle": "2024-01-21T21:12:46.483863Z",
     "shell.execute_reply": "2024-01-21T21:12:46.482105Z"
    },
    "papermill": {
     "duration": 0.090191,
     "end_time": "2024-01-21T21:12:46.486283",
     "exception": false,
     "start_time": "2024-01-21T21:12:46.396092",
     "status": "completed"
    },
    "tags": []
   },
   "outputs": [],
   "source": [
    "n_train=train.copy()\n",
    "n_train['Title']=n_train['Name'].apply(lambda x: x.split('.')[0].strip())\n",
    "n_train['Title']=n_train['Title'].apply(lambda x: x.split(',')[-1].strip())\n",
    "n_train['Title'] = n_train['Title'].replace('Capt', 'Mr', regex=True)\n",
    "n_train['Title'] = n_train['Title'].replace('Col', 'Master', regex=True)\n",
    "n_train['Title'] = n_train['Title'].replace('Major', 'Master', regex=True)\n",
    "n_train['Title'] = n_train['Title'].replace('Dr', 'Master', regex=True)\n",
    "n_train['Title'] = n_train['Title'].replace('Don', 'Mr', regex=True)\n",
    "n_train['Title'] = n_train['Title'].replace('Jonkheer', 'Mr', regex=True)\n",
    "n_train['Title'] = n_train['Title'].replace('Rev', 'Mr', regex=True)\n",
    "n_train['Title'] = n_train['Title'].replace('Sir', 'Master', regex=True)\n",
    "n_train['Title'] = n_train['Title'].replace('Lady', 'Mrs', regex=True)\n",
    "n_train['Title'] = n_train['Title'].replace('Mme', 'Mrs', regex=True)\n",
    "n_train['Title'] = n_train['Title'].replace('the Countess', 'Mrs', regex=True)\n",
    "n_train['Title'] = n_train['Title'].replace('Mlle', 'Mrs', regex=True)\n",
    "n_train['Title'] = n_train['Title'].replace('Miss', 'Mrs', regex=True)\n",
    "n_train['Title'] = n_train['Title'].replace('Ms', 'Mrs', regex=True)\n",
    "n_train['Embarked'].fillna(\"S\", inplace = True)\n",
    "n_train['Age'].fillna(999, inplace = True)\n",
    "n_train['Fare'].fillna(0.01, inplace = True)\n",
    "n_train['Child']=(n_train['Age']<18).astype(int)\n",
    "\n",
    "n_train['Deck']=n_train['Cabin'].str.extract(r'([a-zA-Z]*)')\n",
    "n_train['Deck'].fillna('Z', inplace=True)\n",
    "n_train['Deck']=n_train['Deck'].where(n_train['Deck']!='T', 'Z')\n",
    "\n",
    "n_train['Cab_No']=n_train['Cabin'].str.extract(r'(\\d+)')\n",
    "n_train['Cab_No'].fillna(0, inplace=True)\n",
    "n_train['Cab_No']=n_train['Cab_No'].where(n_train['Cab_No']==0, 1)\n",
    "\n",
    "\n",
    "n_train= n_train[[\"Pclass\", \"Sex\", \"Embarked\", \"Title\", \"Child\", \"Fare\", \"Deck\", \"Cab_No\", \"Survived\"]]\n",
    "x_train= n_train[[\"Pclass\", \"Sex\", \"Embarked\", \"Title\", \"Child\", \"Fare\", \"Deck\", \"Cab_No\"]]\n",
    "#x_train= n_train[[\"Pclass\", \"Sex\", \"SibSp\", \"Parch\", \"Embarked\", \"Length\"]]\n",
    "y_train= n_train[[\"Survived\"]]\n",
    "\n",
    "n_test=test.copy()\n",
    "n_test['Title']=n_test['Name'].apply(lambda x: x.split('.')[0].strip())\n",
    "n_test['Title']=n_test['Title'].apply(lambda x: x.split(',')[-1].strip())\n",
    "n_test['Title'] = n_test['Title'].replace('Dona', 'Mrs', regex=True)\n",
    "n_test['Title'] = n_test['Title'].replace('Ms', 'Mrs', regex=True)\n",
    "n_test['Title'] = n_test['Title'].replace('Rev', 'Mr', regex=True)\n",
    "n_test['Title'] = n_test['Title'].replace('Col', 'Master', regex=True)\n",
    "n_test['Title'] = n_test['Title'].replace('Miss', 'Mrs', regex=True)\n",
    "n_test['Title'] = n_test['Title'].replace('Dr', 'Master', regex=True)\n",
    "\n",
    "n_test['Deck']=n_test['Cabin'].str.extract(r'([a-zA-Z]*)')\n",
    "n_test['Deck'].fillna('Z', inplace=True)\n",
    "\n",
    "n_test['Cab_No']=n_test['Cabin'].str.extract(r'(\\d+)')\n",
    "n_test['Cab_No'].fillna(0, inplace=True)\n",
    "n_test['Cab_No']=n_test['Cab_No'].where(n_test['Cab_No']==0, 1)\n",
    "\n",
    "n_test['Age'].fillna(999, inplace = True)\n",
    "n_test['Child']=(n_test['Age']<18).astype(int)\n",
    "n_test['Fare'].fillna(0.01, inplace = True)\n",
    "#n_test.to_csv(\"n_test1.csv\",header=True,index=False)\n",
    "x_test=n_test[[\"Pclass\", \"Sex\", \"Embarked\", \"Title\", \"Child\", \"Fare\", \"Deck\", \"Cab_No\"]]\n",
    "n_train.to_csv(\"n_train2.csv\",header=True,index=False)"
   ]
  },
  {
   "cell_type": "markdown",
   "id": "57c49f6d",
   "metadata": {
    "papermill": {
     "duration": 0.007919,
     "end_time": "2024-01-21T21:12:46.502590",
     "exception": false,
     "start_time": "2024-01-21T21:12:46.494671",
     "status": "completed"
    },
    "tags": []
   },
   "source": [
    "Encode Categorical columns"
   ]
  },
  {
   "cell_type": "code",
   "execution_count": 6,
   "id": "50a149dd",
   "metadata": {
    "execution": {
     "iopub.execute_input": "2024-01-21T21:12:46.520351Z",
     "iopub.status.busy": "2024-01-21T21:12:46.519912Z",
     "iopub.status.idle": "2024-01-21T21:12:46.536790Z",
     "shell.execute_reply": "2024-01-21T21:12:46.535992Z"
    },
    "papermill": {
     "duration": 0.028527,
     "end_time": "2024-01-21T21:12:46.539157",
     "exception": false,
     "start_time": "2024-01-21T21:12:46.510630",
     "status": "completed"
    },
    "tags": []
   },
   "outputs": [],
   "source": [
    "categorical_cols=['Sex', 'Embarked', 'Title', 'Deck']\n",
    "x_train_t=pd.get_dummies(x_train, columns=categorical_cols)\n",
    "x_test_t=pd.get_dummies(x_test, columns=categorical_cols)"
   ]
  },
  {
   "cell_type": "markdown",
   "id": "71e7f7d5",
   "metadata": {
    "papermill": {
     "duration": 0.007687,
     "end_time": "2024-01-21T21:12:46.555603",
     "exception": false,
     "start_time": "2024-01-21T21:12:46.547916",
     "status": "completed"
    },
    "tags": []
   },
   "source": [
    "Convert True and False to 1 and 0"
   ]
  },
  {
   "cell_type": "code",
   "execution_count": 7,
   "id": "31e883de",
   "metadata": {
    "execution": {
     "iopub.execute_input": "2024-01-21T21:12:46.574705Z",
     "iopub.status.busy": "2024-01-21T21:12:46.574239Z",
     "iopub.status.idle": "2024-01-21T21:12:46.580969Z",
     "shell.execute_reply": "2024-01-21T21:12:46.579139Z"
    },
    "papermill": {
     "duration": 0.018571,
     "end_time": "2024-01-21T21:12:46.583143",
     "exception": false,
     "start_time": "2024-01-21T21:12:46.564572",
     "status": "completed"
    },
    "tags": []
   },
   "outputs": [],
   "source": [
    "x_train_t=x_train_t*1\n",
    "x_test_t=x_test_t*1"
   ]
  },
  {
   "cell_type": "code",
   "execution_count": 8,
   "id": "1b96d515",
   "metadata": {
    "execution": {
     "iopub.execute_input": "2024-01-21T21:12:46.601811Z",
     "iopub.status.busy": "2024-01-21T21:12:46.601171Z",
     "iopub.status.idle": "2024-01-21T21:12:46.624342Z",
     "shell.execute_reply": "2024-01-21T21:12:46.623084Z"
    },
    "papermill": {
     "duration": 0.034916,
     "end_time": "2024-01-21T21:12:46.626508",
     "exception": false,
     "start_time": "2024-01-21T21:12:46.591592",
     "status": "completed"
    },
    "tags": []
   },
   "outputs": [
    {
     "name": "stdout",
     "output_type": "stream",
     "text": [
      "<class 'pandas.core.frame.DataFrame'>\n",
      "RangeIndex: 891 entries, 0 to 890\n",
      "Data columns (total 20 columns):\n",
      " #   Column        Non-Null Count  Dtype  \n",
      "---  ------        --------------  -----  \n",
      " 0   Pclass        891 non-null    int64  \n",
      " 1   Child         891 non-null    int64  \n",
      " 2   Fare          891 non-null    float64\n",
      " 3   Cab_No        891 non-null    object \n",
      " 4   Sex_female    891 non-null    int64  \n",
      " 5   Sex_male      891 non-null    int64  \n",
      " 6   Embarked_C    891 non-null    int64  \n",
      " 7   Embarked_Q    891 non-null    int64  \n",
      " 8   Embarked_S    891 non-null    int64  \n",
      " 9   Title_Master  891 non-null    int64  \n",
      " 10  Title_Mr      891 non-null    int64  \n",
      " 11  Title_Mrs     891 non-null    int64  \n",
      " 12  Deck_A        891 non-null    int64  \n",
      " 13  Deck_B        891 non-null    int64  \n",
      " 14  Deck_C        891 non-null    int64  \n",
      " 15  Deck_D        891 non-null    int64  \n",
      " 16  Deck_E        891 non-null    int64  \n",
      " 17  Deck_F        891 non-null    int64  \n",
      " 18  Deck_G        891 non-null    int64  \n",
      " 19  Deck_Z        891 non-null    int64  \n",
      "dtypes: float64(1), int64(18), object(1)\n",
      "memory usage: 139.3+ KB\n"
     ]
    }
   ],
   "source": [
    "x_train_t.info()"
   ]
  },
  {
   "cell_type": "markdown",
   "id": "4897acfd",
   "metadata": {
    "papermill": {
     "duration": 0.007978,
     "end_time": "2024-01-21T21:12:46.642788",
     "exception": false,
     "start_time": "2024-01-21T21:12:46.634810",
     "status": "completed"
    },
    "tags": []
   },
   "source": [
    "Change data to Values"
   ]
  },
  {
   "cell_type": "code",
   "execution_count": 9,
   "id": "a72781b2",
   "metadata": {
    "execution": {
     "iopub.execute_input": "2024-01-21T21:12:46.661093Z",
     "iopub.status.busy": "2024-01-21T21:12:46.660740Z",
     "iopub.status.idle": "2024-01-21T21:12:46.665421Z",
     "shell.execute_reply": "2024-01-21T21:12:46.664078Z"
    },
    "papermill": {
     "duration": 0.016913,
     "end_time": "2024-01-21T21:12:46.668040",
     "exception": false,
     "start_time": "2024-01-21T21:12:46.651127",
     "status": "completed"
    },
    "tags": []
   },
   "outputs": [],
   "source": [
    "#x_test_t.info()"
   ]
  },
  {
   "cell_type": "code",
   "execution_count": 10,
   "id": "0b65986d",
   "metadata": {
    "execution": {
     "iopub.execute_input": "2024-01-21T21:12:46.686619Z",
     "iopub.status.busy": "2024-01-21T21:12:46.686253Z",
     "iopub.status.idle": "2024-01-21T21:12:46.693105Z",
     "shell.execute_reply": "2024-01-21T21:12:46.691396Z"
    },
    "papermill": {
     "duration": 0.019544,
     "end_time": "2024-01-21T21:12:46.695979",
     "exception": false,
     "start_time": "2024-01-21T21:12:46.676435",
     "status": "completed"
    },
    "tags": []
   },
   "outputs": [],
   "source": [
    "x_train_2=x_train_t.iloc[:, :].values\n",
    "x_test_2=x_test_t.iloc[:, :].values"
   ]
  },
  {
   "cell_type": "markdown",
   "id": "cf2c0c82",
   "metadata": {
    "papermill": {
     "duration": 0.007817,
     "end_time": "2024-01-21T21:12:46.712169",
     "exception": false,
     "start_time": "2024-01-21T21:12:46.704352",
     "status": "completed"
    },
    "tags": []
   },
   "source": [
    "Scale the features in the non categorical columns"
   ]
  },
  {
   "cell_type": "code",
   "execution_count": 11,
   "id": "65b53a8b",
   "metadata": {
    "execution": {
     "iopub.execute_input": "2024-01-21T21:12:46.731651Z",
     "iopub.status.busy": "2024-01-21T21:12:46.731275Z",
     "iopub.status.idle": "2024-01-21T21:12:46.739766Z",
     "shell.execute_reply": "2024-01-21T21:12:46.738090Z"
    },
    "papermill": {
     "duration": 0.021982,
     "end_time": "2024-01-21T21:12:46.742436",
     "exception": false,
     "start_time": "2024-01-21T21:12:46.720454",
     "status": "completed"
    },
    "tags": []
   },
   "outputs": [],
   "source": [
    "sc = StandardScaler()\n",
    "x_train_2[:, :4] = sc.fit_transform(x_train_2[:, :4])\n",
    "x_test_2[:, :4] = sc.transform(x_test_2[:, :4])\n",
    "y_train_2=y_train.values.ravel()"
   ]
  },
  {
   "cell_type": "markdown",
   "id": "711e19d5",
   "metadata": {
    "papermill": {
     "duration": 0.008001,
     "end_time": "2024-01-21T21:12:46.758677",
     "exception": false,
     "start_time": "2024-01-21T21:12:46.750676",
     "status": "completed"
    },
    "tags": []
   },
   "source": [
    "Convert every array to Float 32"
   ]
  },
  {
   "cell_type": "code",
   "execution_count": 12,
   "id": "0c0b31c2",
   "metadata": {
    "execution": {
     "iopub.execute_input": "2024-01-21T21:12:46.776591Z",
     "iopub.status.busy": "2024-01-21T21:12:46.776247Z",
     "iopub.status.idle": "2024-01-21T21:12:46.782829Z",
     "shell.execute_reply": "2024-01-21T21:12:46.781556Z"
    },
    "papermill": {
     "duration": 0.017991,
     "end_time": "2024-01-21T21:12:46.784873",
     "exception": false,
     "start_time": "2024-01-21T21:12:46.766882",
     "status": "completed"
    },
    "tags": []
   },
   "outputs": [],
   "source": [
    "x_train_2 = np.asarray(x_train_2).astype(np.float32)\n",
    "x_test_2 = np.asarray(x_test_2).astype(np.float32)"
   ]
  },
  {
   "cell_type": "markdown",
   "id": "3f48097f",
   "metadata": {
    "papermill": {
     "duration": 0.008043,
     "end_time": "2024-01-21T21:12:46.860239",
     "exception": false,
     "start_time": "2024-01-21T21:12:46.852196",
     "status": "completed"
    },
    "tags": []
   },
   "source": [
    "Here I start to apply different models to get my predicted survival numbers."
   ]
  },
  {
   "cell_type": "markdown",
   "id": "1036ddca",
   "metadata": {
    "papermill": {
     "duration": 0.007825,
     "end_time": "2024-01-21T21:12:46.876268",
     "exception": false,
     "start_time": "2024-01-21T21:12:46.868443",
     "status": "completed"
    },
    "tags": []
   },
   "source": [
    "Logistic Regression"
   ]
  },
  {
   "cell_type": "code",
   "execution_count": 13,
   "id": "3f9cceb0",
   "metadata": {
    "execution": {
     "iopub.execute_input": "2024-01-21T21:12:46.893993Z",
     "iopub.status.busy": "2024-01-21T21:12:46.893597Z",
     "iopub.status.idle": "2024-01-21T21:12:47.172495Z",
     "shell.execute_reply": "2024-01-21T21:12:47.170925Z"
    },
    "papermill": {
     "duration": 0.291229,
     "end_time": "2024-01-21T21:12:47.175504",
     "exception": false,
     "start_time": "2024-01-21T21:12:46.884275",
     "status": "completed"
    },
    "tags": []
   },
   "outputs": [
    {
     "data": {
      "text/html": [
       "<style>#sk-container-id-1 {color: black;background-color: white;}#sk-container-id-1 pre{padding: 0;}#sk-container-id-1 div.sk-toggleable {background-color: white;}#sk-container-id-1 label.sk-toggleable__label {cursor: pointer;display: block;width: 100%;margin-bottom: 0;padding: 0.3em;box-sizing: border-box;text-align: center;}#sk-container-id-1 label.sk-toggleable__label-arrow:before {content: \"▸\";float: left;margin-right: 0.25em;color: #696969;}#sk-container-id-1 label.sk-toggleable__label-arrow:hover:before {color: black;}#sk-container-id-1 div.sk-estimator:hover label.sk-toggleable__label-arrow:before {color: black;}#sk-container-id-1 div.sk-toggleable__content {max-height: 0;max-width: 0;overflow: hidden;text-align: left;background-color: #f0f8ff;}#sk-container-id-1 div.sk-toggleable__content pre {margin: 0.2em;color: black;border-radius: 0.25em;background-color: #f0f8ff;}#sk-container-id-1 input.sk-toggleable__control:checked~div.sk-toggleable__content {max-height: 200px;max-width: 100%;overflow: auto;}#sk-container-id-1 input.sk-toggleable__control:checked~label.sk-toggleable__label-arrow:before {content: \"▾\";}#sk-container-id-1 div.sk-estimator input.sk-toggleable__control:checked~label.sk-toggleable__label {background-color: #d4ebff;}#sk-container-id-1 div.sk-label input.sk-toggleable__control:checked~label.sk-toggleable__label {background-color: #d4ebff;}#sk-container-id-1 input.sk-hidden--visually {border: 0;clip: rect(1px 1px 1px 1px);clip: rect(1px, 1px, 1px, 1px);height: 1px;margin: -1px;overflow: hidden;padding: 0;position: absolute;width: 1px;}#sk-container-id-1 div.sk-estimator {font-family: monospace;background-color: #f0f8ff;border: 1px dotted black;border-radius: 0.25em;box-sizing: border-box;margin-bottom: 0.5em;}#sk-container-id-1 div.sk-estimator:hover {background-color: #d4ebff;}#sk-container-id-1 div.sk-parallel-item::after {content: \"\";width: 100%;border-bottom: 1px solid gray;flex-grow: 1;}#sk-container-id-1 div.sk-label:hover label.sk-toggleable__label {background-color: #d4ebff;}#sk-container-id-1 div.sk-serial::before {content: \"\";position: absolute;border-left: 1px solid gray;box-sizing: border-box;top: 0;bottom: 0;left: 50%;z-index: 0;}#sk-container-id-1 div.sk-serial {display: flex;flex-direction: column;align-items: center;background-color: white;padding-right: 0.2em;padding-left: 0.2em;position: relative;}#sk-container-id-1 div.sk-item {position: relative;z-index: 1;}#sk-container-id-1 div.sk-parallel {display: flex;align-items: stretch;justify-content: center;background-color: white;position: relative;}#sk-container-id-1 div.sk-item::before, #sk-container-id-1 div.sk-parallel-item::before {content: \"\";position: absolute;border-left: 1px solid gray;box-sizing: border-box;top: 0;bottom: 0;left: 50%;z-index: -1;}#sk-container-id-1 div.sk-parallel-item {display: flex;flex-direction: column;z-index: 1;position: relative;background-color: white;}#sk-container-id-1 div.sk-parallel-item:first-child::after {align-self: flex-end;width: 50%;}#sk-container-id-1 div.sk-parallel-item:last-child::after {align-self: flex-start;width: 50%;}#sk-container-id-1 div.sk-parallel-item:only-child::after {width: 0;}#sk-container-id-1 div.sk-dashed-wrapped {border: 1px dashed gray;margin: 0 0.4em 0.5em 0.4em;box-sizing: border-box;padding-bottom: 0.4em;background-color: white;}#sk-container-id-1 div.sk-label label {font-family: monospace;font-weight: bold;display: inline-block;line-height: 1.2em;}#sk-container-id-1 div.sk-label-container {text-align: center;}#sk-container-id-1 div.sk-container {/* jupyter's `normalize.less` sets `[hidden] { display: none; }` but bootstrap.min.css set `[hidden] { display: none !important; }` so we also need the `!important` here to be able to override the default hidden behavior on the sphinx rendered scikit-learn.org. See: https://github.com/scikit-learn/scikit-learn/issues/21755 */display: inline-block !important;position: relative;}#sk-container-id-1 div.sk-text-repr-fallback {display: none;}</style><div id=\"sk-container-id-1\" class=\"sk-top-container\"><div class=\"sk-text-repr-fallback\"><pre>LogisticRegression(max_iter=1000, random_state=0)</pre><b>In a Jupyter environment, please rerun this cell to show the HTML representation or trust the notebook. <br />On GitHub, the HTML representation is unable to render, please try loading this page with nbviewer.org.</b></div><div class=\"sk-container\" hidden><div class=\"sk-item\"><div class=\"sk-estimator sk-toggleable\"><input class=\"sk-toggleable__control sk-hidden--visually\" id=\"sk-estimator-id-1\" type=\"checkbox\" checked><label for=\"sk-estimator-id-1\" class=\"sk-toggleable__label sk-toggleable__label-arrow\">LogisticRegression</label><div class=\"sk-toggleable__content\"><pre>LogisticRegression(max_iter=1000, random_state=0)</pre></div></div></div></div></div>"
      ],
      "text/plain": [
       "LogisticRegression(max_iter=1000, random_state=0)"
      ]
     },
     "execution_count": 13,
     "metadata": {},
     "output_type": "execute_result"
    }
   ],
   "source": [
    "from sklearn.linear_model import LogisticRegression\n",
    "log_reg = LogisticRegression(random_state = 0, max_iter = 1000)\n",
    "log_reg.fit(x_train_2, y_train_2)"
   ]
  },
  {
   "cell_type": "code",
   "execution_count": 14,
   "id": "d3194b19",
   "metadata": {
    "execution": {
     "iopub.execute_input": "2024-01-21T21:12:47.200568Z",
     "iopub.status.busy": "2024-01-21T21:12:47.200102Z",
     "iopub.status.idle": "2024-01-21T21:12:47.211052Z",
     "shell.execute_reply": "2024-01-21T21:12:47.210326Z"
    },
    "papermill": {
     "duration": 0.025592,
     "end_time": "2024-01-21T21:12:47.213398",
     "exception": false,
     "start_time": "2024-01-21T21:12:47.187806",
     "status": "completed"
    },
    "tags": []
   },
   "outputs": [],
   "source": [
    "y_pred = log_reg.predict(x_test_2)\n",
    "y_pred_log= (np.concatenate(y_pred.reshape(len(y_pred),1,1)))\n",
    "\n",
    "submission = pd.DataFrame()\n",
    "submission[\"PassengerId\"] = test[\"PassengerId\"]\n",
    "submission[\"Survived\"] = y_pred_log\n",
    "submission.to_csv(\"submission_Log_Reg.csv\",header=True,index=False)"
   ]
  },
  {
   "cell_type": "markdown",
   "id": "c132147d",
   "metadata": {
    "papermill": {
     "duration": 0.010153,
     "end_time": "2024-01-21T21:12:47.234611",
     "exception": false,
     "start_time": "2024-01-21T21:12:47.224458",
     "status": "completed"
    },
    "tags": []
   },
   "source": [
    "K-Nearest Neighbours"
   ]
  },
  {
   "cell_type": "code",
   "execution_count": 15,
   "id": "98f1855c",
   "metadata": {
    "execution": {
     "iopub.execute_input": "2024-01-21T21:12:47.257609Z",
     "iopub.status.busy": "2024-01-21T21:12:47.257191Z",
     "iopub.status.idle": "2024-01-21T21:12:47.343563Z",
     "shell.execute_reply": "2024-01-21T21:12:47.342524Z"
    },
    "papermill": {
     "duration": 0.100196,
     "end_time": "2024-01-21T21:12:47.345548",
     "exception": false,
     "start_time": "2024-01-21T21:12:47.245352",
     "status": "completed"
    },
    "tags": []
   },
   "outputs": [
    {
     "data": {
      "text/html": [
       "<style>#sk-container-id-2 {color: black;background-color: white;}#sk-container-id-2 pre{padding: 0;}#sk-container-id-2 div.sk-toggleable {background-color: white;}#sk-container-id-2 label.sk-toggleable__label {cursor: pointer;display: block;width: 100%;margin-bottom: 0;padding: 0.3em;box-sizing: border-box;text-align: center;}#sk-container-id-2 label.sk-toggleable__label-arrow:before {content: \"▸\";float: left;margin-right: 0.25em;color: #696969;}#sk-container-id-2 label.sk-toggleable__label-arrow:hover:before {color: black;}#sk-container-id-2 div.sk-estimator:hover label.sk-toggleable__label-arrow:before {color: black;}#sk-container-id-2 div.sk-toggleable__content {max-height: 0;max-width: 0;overflow: hidden;text-align: left;background-color: #f0f8ff;}#sk-container-id-2 div.sk-toggleable__content pre {margin: 0.2em;color: black;border-radius: 0.25em;background-color: #f0f8ff;}#sk-container-id-2 input.sk-toggleable__control:checked~div.sk-toggleable__content {max-height: 200px;max-width: 100%;overflow: auto;}#sk-container-id-2 input.sk-toggleable__control:checked~label.sk-toggleable__label-arrow:before {content: \"▾\";}#sk-container-id-2 div.sk-estimator input.sk-toggleable__control:checked~label.sk-toggleable__label {background-color: #d4ebff;}#sk-container-id-2 div.sk-label input.sk-toggleable__control:checked~label.sk-toggleable__label {background-color: #d4ebff;}#sk-container-id-2 input.sk-hidden--visually {border: 0;clip: rect(1px 1px 1px 1px);clip: rect(1px, 1px, 1px, 1px);height: 1px;margin: -1px;overflow: hidden;padding: 0;position: absolute;width: 1px;}#sk-container-id-2 div.sk-estimator {font-family: monospace;background-color: #f0f8ff;border: 1px dotted black;border-radius: 0.25em;box-sizing: border-box;margin-bottom: 0.5em;}#sk-container-id-2 div.sk-estimator:hover {background-color: #d4ebff;}#sk-container-id-2 div.sk-parallel-item::after {content: \"\";width: 100%;border-bottom: 1px solid gray;flex-grow: 1;}#sk-container-id-2 div.sk-label:hover label.sk-toggleable__label {background-color: #d4ebff;}#sk-container-id-2 div.sk-serial::before {content: \"\";position: absolute;border-left: 1px solid gray;box-sizing: border-box;top: 0;bottom: 0;left: 50%;z-index: 0;}#sk-container-id-2 div.sk-serial {display: flex;flex-direction: column;align-items: center;background-color: white;padding-right: 0.2em;padding-left: 0.2em;position: relative;}#sk-container-id-2 div.sk-item {position: relative;z-index: 1;}#sk-container-id-2 div.sk-parallel {display: flex;align-items: stretch;justify-content: center;background-color: white;position: relative;}#sk-container-id-2 div.sk-item::before, #sk-container-id-2 div.sk-parallel-item::before {content: \"\";position: absolute;border-left: 1px solid gray;box-sizing: border-box;top: 0;bottom: 0;left: 50%;z-index: -1;}#sk-container-id-2 div.sk-parallel-item {display: flex;flex-direction: column;z-index: 1;position: relative;background-color: white;}#sk-container-id-2 div.sk-parallel-item:first-child::after {align-self: flex-end;width: 50%;}#sk-container-id-2 div.sk-parallel-item:last-child::after {align-self: flex-start;width: 50%;}#sk-container-id-2 div.sk-parallel-item:only-child::after {width: 0;}#sk-container-id-2 div.sk-dashed-wrapped {border: 1px dashed gray;margin: 0 0.4em 0.5em 0.4em;box-sizing: border-box;padding-bottom: 0.4em;background-color: white;}#sk-container-id-2 div.sk-label label {font-family: monospace;font-weight: bold;display: inline-block;line-height: 1.2em;}#sk-container-id-2 div.sk-label-container {text-align: center;}#sk-container-id-2 div.sk-container {/* jupyter's `normalize.less` sets `[hidden] { display: none; }` but bootstrap.min.css set `[hidden] { display: none !important; }` so we also need the `!important` here to be able to override the default hidden behavior on the sphinx rendered scikit-learn.org. See: https://github.com/scikit-learn/scikit-learn/issues/21755 */display: inline-block !important;position: relative;}#sk-container-id-2 div.sk-text-repr-fallback {display: none;}</style><div id=\"sk-container-id-2\" class=\"sk-top-container\"><div class=\"sk-text-repr-fallback\"><pre>KNeighborsClassifier(n_neighbors=9)</pre><b>In a Jupyter environment, please rerun this cell to show the HTML representation or trust the notebook. <br />On GitHub, the HTML representation is unable to render, please try loading this page with nbviewer.org.</b></div><div class=\"sk-container\" hidden><div class=\"sk-item\"><div class=\"sk-estimator sk-toggleable\"><input class=\"sk-toggleable__control sk-hidden--visually\" id=\"sk-estimator-id-2\" type=\"checkbox\" checked><label for=\"sk-estimator-id-2\" class=\"sk-toggleable__label sk-toggleable__label-arrow\">KNeighborsClassifier</label><div class=\"sk-toggleable__content\"><pre>KNeighborsClassifier(n_neighbors=9)</pre></div></div></div></div></div>"
      ],
      "text/plain": [
       "KNeighborsClassifier(n_neighbors=9)"
      ]
     },
     "execution_count": 15,
     "metadata": {},
     "output_type": "execute_result"
    }
   ],
   "source": [
    "from sklearn.neighbors import KNeighborsClassifier\n",
    "KNN = KNeighborsClassifier(n_neighbors=9)\n",
    "KNN.fit(x_train_2, y_train_2)"
   ]
  },
  {
   "cell_type": "code",
   "execution_count": 16,
   "id": "9fb47053",
   "metadata": {
    "execution": {
     "iopub.execute_input": "2024-01-21T21:12:47.364704Z",
     "iopub.status.busy": "2024-01-21T21:12:47.364378Z",
     "iopub.status.idle": "2024-01-21T21:12:47.435225Z",
     "shell.execute_reply": "2024-01-21T21:12:47.434393Z"
    },
    "papermill": {
     "duration": 0.08343,
     "end_time": "2024-01-21T21:12:47.437630",
     "exception": false,
     "start_time": "2024-01-21T21:12:47.354200",
     "status": "completed"
    },
    "tags": []
   },
   "outputs": [],
   "source": [
    "knn_pred=KNN.predict(x_test_2)\n",
    "knn_pred_f=(np.concatenate(knn_pred.reshape(len(knn_pred),1,1)))\n",
    "\n",
    "submission = pd.DataFrame()\n",
    "submission[\"PassengerId\"] = test[\"PassengerId\"]\n",
    "submission[\"Survived\"] = knn_pred_f\n",
    "submission.to_csv(\"submission_KNN_9.csv\",header=True,index=False)"
   ]
  },
  {
   "cell_type": "markdown",
   "id": "f88fa443",
   "metadata": {
    "papermill": {
     "duration": 0.008539,
     "end_time": "2024-01-21T21:12:47.454905",
     "exception": false,
     "start_time": "2024-01-21T21:12:47.446366",
     "status": "completed"
    },
    "tags": []
   },
   "source": [
    "Decision Tree"
   ]
  },
  {
   "cell_type": "code",
   "execution_count": 17,
   "id": "7b47ba85",
   "metadata": {
    "execution": {
     "iopub.execute_input": "2024-01-21T21:12:47.474523Z",
     "iopub.status.busy": "2024-01-21T21:12:47.473624Z",
     "iopub.status.idle": "2024-01-21T21:12:47.527308Z",
     "shell.execute_reply": "2024-01-21T21:12:47.526396Z"
    },
    "papermill": {
     "duration": 0.065605,
     "end_time": "2024-01-21T21:12:47.529238",
     "exception": false,
     "start_time": "2024-01-21T21:12:47.463633",
     "status": "completed"
    },
    "tags": []
   },
   "outputs": [
    {
     "data": {
      "text/html": [
       "<style>#sk-container-id-3 {color: black;background-color: white;}#sk-container-id-3 pre{padding: 0;}#sk-container-id-3 div.sk-toggleable {background-color: white;}#sk-container-id-3 label.sk-toggleable__label {cursor: pointer;display: block;width: 100%;margin-bottom: 0;padding: 0.3em;box-sizing: border-box;text-align: center;}#sk-container-id-3 label.sk-toggleable__label-arrow:before {content: \"▸\";float: left;margin-right: 0.25em;color: #696969;}#sk-container-id-3 label.sk-toggleable__label-arrow:hover:before {color: black;}#sk-container-id-3 div.sk-estimator:hover label.sk-toggleable__label-arrow:before {color: black;}#sk-container-id-3 div.sk-toggleable__content {max-height: 0;max-width: 0;overflow: hidden;text-align: left;background-color: #f0f8ff;}#sk-container-id-3 div.sk-toggleable__content pre {margin: 0.2em;color: black;border-radius: 0.25em;background-color: #f0f8ff;}#sk-container-id-3 input.sk-toggleable__control:checked~div.sk-toggleable__content {max-height: 200px;max-width: 100%;overflow: auto;}#sk-container-id-3 input.sk-toggleable__control:checked~label.sk-toggleable__label-arrow:before {content: \"▾\";}#sk-container-id-3 div.sk-estimator input.sk-toggleable__control:checked~label.sk-toggleable__label {background-color: #d4ebff;}#sk-container-id-3 div.sk-label input.sk-toggleable__control:checked~label.sk-toggleable__label {background-color: #d4ebff;}#sk-container-id-3 input.sk-hidden--visually {border: 0;clip: rect(1px 1px 1px 1px);clip: rect(1px, 1px, 1px, 1px);height: 1px;margin: -1px;overflow: hidden;padding: 0;position: absolute;width: 1px;}#sk-container-id-3 div.sk-estimator {font-family: monospace;background-color: #f0f8ff;border: 1px dotted black;border-radius: 0.25em;box-sizing: border-box;margin-bottom: 0.5em;}#sk-container-id-3 div.sk-estimator:hover {background-color: #d4ebff;}#sk-container-id-3 div.sk-parallel-item::after {content: \"\";width: 100%;border-bottom: 1px solid gray;flex-grow: 1;}#sk-container-id-3 div.sk-label:hover label.sk-toggleable__label {background-color: #d4ebff;}#sk-container-id-3 div.sk-serial::before {content: \"\";position: absolute;border-left: 1px solid gray;box-sizing: border-box;top: 0;bottom: 0;left: 50%;z-index: 0;}#sk-container-id-3 div.sk-serial {display: flex;flex-direction: column;align-items: center;background-color: white;padding-right: 0.2em;padding-left: 0.2em;position: relative;}#sk-container-id-3 div.sk-item {position: relative;z-index: 1;}#sk-container-id-3 div.sk-parallel {display: flex;align-items: stretch;justify-content: center;background-color: white;position: relative;}#sk-container-id-3 div.sk-item::before, #sk-container-id-3 div.sk-parallel-item::before {content: \"\";position: absolute;border-left: 1px solid gray;box-sizing: border-box;top: 0;bottom: 0;left: 50%;z-index: -1;}#sk-container-id-3 div.sk-parallel-item {display: flex;flex-direction: column;z-index: 1;position: relative;background-color: white;}#sk-container-id-3 div.sk-parallel-item:first-child::after {align-self: flex-end;width: 50%;}#sk-container-id-3 div.sk-parallel-item:last-child::after {align-self: flex-start;width: 50%;}#sk-container-id-3 div.sk-parallel-item:only-child::after {width: 0;}#sk-container-id-3 div.sk-dashed-wrapped {border: 1px dashed gray;margin: 0 0.4em 0.5em 0.4em;box-sizing: border-box;padding-bottom: 0.4em;background-color: white;}#sk-container-id-3 div.sk-label label {font-family: monospace;font-weight: bold;display: inline-block;line-height: 1.2em;}#sk-container-id-3 div.sk-label-container {text-align: center;}#sk-container-id-3 div.sk-container {/* jupyter's `normalize.less` sets `[hidden] { display: none; }` but bootstrap.min.css set `[hidden] { display: none !important; }` so we also need the `!important` here to be able to override the default hidden behavior on the sphinx rendered scikit-learn.org. See: https://github.com/scikit-learn/scikit-learn/issues/21755 */display: inline-block !important;position: relative;}#sk-container-id-3 div.sk-text-repr-fallback {display: none;}</style><div id=\"sk-container-id-3\" class=\"sk-top-container\"><div class=\"sk-text-repr-fallback\"><pre>DecisionTreeClassifier()</pre><b>In a Jupyter environment, please rerun this cell to show the HTML representation or trust the notebook. <br />On GitHub, the HTML representation is unable to render, please try loading this page with nbviewer.org.</b></div><div class=\"sk-container\" hidden><div class=\"sk-item\"><div class=\"sk-estimator sk-toggleable\"><input class=\"sk-toggleable__control sk-hidden--visually\" id=\"sk-estimator-id-3\" type=\"checkbox\" checked><label for=\"sk-estimator-id-3\" class=\"sk-toggleable__label sk-toggleable__label-arrow\">DecisionTreeClassifier</label><div class=\"sk-toggleable__content\"><pre>DecisionTreeClassifier()</pre></div></div></div></div></div>"
      ],
      "text/plain": [
       "DecisionTreeClassifier()"
      ]
     },
     "execution_count": 17,
     "metadata": {},
     "output_type": "execute_result"
    }
   ],
   "source": [
    "from sklearn.tree import DecisionTreeClassifier\n",
    "decision_tree = DecisionTreeClassifier()\n",
    "decision_tree.fit(x_train_2, y_train_2)"
   ]
  },
  {
   "cell_type": "code",
   "execution_count": 18,
   "id": "5fc9eb6a",
   "metadata": {
    "execution": {
     "iopub.execute_input": "2024-01-21T21:12:47.548684Z",
     "iopub.status.busy": "2024-01-21T21:12:47.548311Z",
     "iopub.status.idle": "2024-01-21T21:12:47.558833Z",
     "shell.execute_reply": "2024-01-21T21:12:47.557487Z"
    },
    "papermill": {
     "duration": 0.022858,
     "end_time": "2024-01-21T21:12:47.560989",
     "exception": false,
     "start_time": "2024-01-21T21:12:47.538131",
     "status": "completed"
    },
    "tags": []
   },
   "outputs": [],
   "source": [
    "decision_tree_pred=decision_tree.predict(x_test_2)\n",
    "decision_tree_pred_f=(np.concatenate(decision_tree_pred.reshape(len(decision_tree_pred),1,1)))\n",
    "\n",
    "submission = pd.DataFrame()\n",
    "submission[\"PassengerId\"] = test[\"PassengerId\"]\n",
    "submission[\"Survived\"] = decision_tree_pred_f\n",
    "submission.to_csv(\"submission_Dec_Tree.csv\",header=True,index=False)"
   ]
  },
  {
   "cell_type": "markdown",
   "id": "a268a2e0",
   "metadata": {
    "papermill": {
     "duration": 0.008674,
     "end_time": "2024-01-21T21:12:47.579151",
     "exception": false,
     "start_time": "2024-01-21T21:12:47.570477",
     "status": "completed"
    },
    "tags": []
   },
   "source": [
    "Random Forest"
   ]
  },
  {
   "cell_type": "code",
   "execution_count": 19,
   "id": "f000d00a",
   "metadata": {
    "execution": {
     "iopub.execute_input": "2024-01-21T21:12:47.598629Z",
     "iopub.status.busy": "2024-01-21T21:12:47.598236Z",
     "iopub.status.idle": "2024-01-21T21:12:47.868068Z",
     "shell.execute_reply": "2024-01-21T21:12:47.867057Z"
    },
    "papermill": {
     "duration": 0.282568,
     "end_time": "2024-01-21T21:12:47.870386",
     "exception": false,
     "start_time": "2024-01-21T21:12:47.587818",
     "status": "completed"
    },
    "tags": []
   },
   "outputs": [],
   "source": [
    "from sklearn.ensemble import RandomForestClassifier\n",
    "random_forest = RandomForestClassifier()\n",
    "random_forest.fit(x_train_2, y_train_2)\n",
    "\n",
    "random_forest_pred=random_forest.predict(x_test_2)\n",
    "random_forest_pred_f=(np.concatenate(random_forest_pred.reshape(len(random_forest_pred),1,1)))\n",
    "\n",
    "submission = pd.DataFrame()\n",
    "submission[\"PassengerId\"] = test[\"PassengerId\"]\n",
    "submission[\"Survived\"] = random_forest_pred_f\n",
    "submission.to_csv(\"submission_Rand_Forest.csv\",header=True,index=False)\n",
    "\n"
   ]
  },
  {
   "cell_type": "markdown",
   "id": "695a347b",
   "metadata": {
    "papermill": {
     "duration": 0.008646,
     "end_time": "2024-01-21T21:12:47.888074",
     "exception": false,
     "start_time": "2024-01-21T21:12:47.879428",
     "status": "completed"
    },
    "tags": []
   },
   "source": [
    "Support Vector Machine"
   ]
  },
  {
   "cell_type": "code",
   "execution_count": 20,
   "id": "0298f238",
   "metadata": {
    "execution": {
     "iopub.execute_input": "2024-01-21T21:12:47.908627Z",
     "iopub.status.busy": "2024-01-21T21:12:47.907611Z",
     "iopub.status.idle": "2024-01-21T21:12:48.006095Z",
     "shell.execute_reply": "2024-01-21T21:12:48.004763Z"
    },
    "papermill": {
     "duration": 0.111797,
     "end_time": "2024-01-21T21:12:48.009021",
     "exception": false,
     "start_time": "2024-01-21T21:12:47.897224",
     "status": "completed"
    },
    "tags": []
   },
   "outputs": [],
   "source": [
    "from sklearn.svm import SVC\n",
    "svm_model = SVC(probability=True, kernel=\"rbf\" ,degree=5 ,random_state=42)\n",
    "svm_model.fit(x_train_2, y_train_2)\n",
    "\n",
    "svm_model_pred=svm_model.predict(x_test_2)\n",
    "svm_model_pred_f=(np.concatenate(svm_model_pred.reshape(len(svm_model_pred),1,1)))\n",
    "\n",
    "submission = pd.DataFrame()\n",
    "submission[\"PassengerId\"] = test[\"PassengerId\"]\n",
    "submission[\"Survived\"] = svm_model_pred_f\n",
    "submission.to_csv(\"submission_SVM_rbf_5.csv\",header=True,index=False)"
   ]
  },
  {
   "cell_type": "markdown",
   "id": "7a791934",
   "metadata": {
    "papermill": {
     "duration": 0.008588,
     "end_time": "2024-01-21T21:12:48.026694",
     "exception": false,
     "start_time": "2024-01-21T21:12:48.018106",
     "status": "completed"
    },
    "tags": []
   },
   "source": [
    "Gradient Boosting"
   ]
  },
  {
   "cell_type": "code",
   "execution_count": 21,
   "id": "427b7068",
   "metadata": {
    "execution": {
     "iopub.execute_input": "2024-01-21T21:12:48.045704Z",
     "iopub.status.busy": "2024-01-21T21:12:48.045335Z",
     "iopub.status.idle": "2024-01-21T21:12:48.173125Z",
     "shell.execute_reply": "2024-01-21T21:12:48.171657Z"
    },
    "papermill": {
     "duration": 0.14036,
     "end_time": "2024-01-21T21:12:48.175736",
     "exception": false,
     "start_time": "2024-01-21T21:12:48.035376",
     "status": "completed"
    },
    "tags": []
   },
   "outputs": [],
   "source": [
    "from sklearn.ensemble import GradientBoostingClassifier\n",
    "gradient_boosting = GradientBoostingClassifier()\n",
    "gradient_boosting.fit(x_train_2, y_train_2)\n",
    "\n",
    "gradient_boosting_pred=gradient_boosting.predict(x_test_2)\n",
    "gradient_boosting_pred_f=(np.concatenate(gradient_boosting_pred.reshape(len(gradient_boosting_pred),1,1)))\n",
    "\n",
    "submission = pd.DataFrame()\n",
    "submission[\"PassengerId\"] = test[\"PassengerId\"]\n",
    "submission[\"Survived\"] = gradient_boosting_pred_f\n",
    "submission.to_csv(\"submission_Gradient_Boost.csv\",header=True,index=False)"
   ]
  },
  {
   "cell_type": "raw",
   "id": "de0d22a6",
   "metadata": {
    "papermill": {
     "duration": 0.008721,
     "end_time": "2024-01-21T21:12:48.193489",
     "exception": false,
     "start_time": "2024-01-21T21:12:48.184768",
     "status": "completed"
    },
    "tags": []
   },
   "source": [
    "Artificial Neural Network for All features"
   ]
  },
  {
   "cell_type": "markdown",
   "id": "9d5bc669",
   "metadata": {
    "papermill": {
     "duration": 0.008903,
     "end_time": "2024-01-21T21:12:48.211805",
     "exception": false,
     "start_time": "2024-01-21T21:12:48.202902",
     "status": "completed"
    },
    "tags": []
   },
   "source": [
    "MLP Classifier"
   ]
  },
  {
   "cell_type": "code",
   "execution_count": 22,
   "id": "fed96d7a",
   "metadata": {
    "execution": {
     "iopub.execute_input": "2024-01-21T21:12:48.231707Z",
     "iopub.status.busy": "2024-01-21T21:12:48.231376Z",
     "iopub.status.idle": "2024-01-21T21:12:49.814409Z",
     "shell.execute_reply": "2024-01-21T21:12:49.813567Z"
    },
    "papermill": {
     "duration": 1.596033,
     "end_time": "2024-01-21T21:12:49.816815",
     "exception": false,
     "start_time": "2024-01-21T21:12:48.220782",
     "status": "completed"
    },
    "tags": []
   },
   "outputs": [],
   "source": [
    "from sklearn.neural_network import MLPClassifier\n",
    "mlp_classifier=MLPClassifier(max_iter=5000).fit(x_train_2, y_train_2)\n",
    "mlp_classifier_pred=mlp_classifier.predict(x_test_2)"
   ]
  },
  {
   "cell_type": "code",
   "execution_count": 23,
   "id": "e3dbb277",
   "metadata": {
    "execution": {
     "iopub.execute_input": "2024-01-21T21:12:49.841688Z",
     "iopub.status.busy": "2024-01-21T21:12:49.841353Z",
     "iopub.status.idle": "2024-01-21T21:12:49.850091Z",
     "shell.execute_reply": "2024-01-21T21:12:49.849381Z"
    },
    "papermill": {
     "duration": 0.024046,
     "end_time": "2024-01-21T21:12:49.852073",
     "exception": false,
     "start_time": "2024-01-21T21:12:49.828027",
     "status": "completed"
    },
    "tags": []
   },
   "outputs": [],
   "source": [
    "#Predict Survivor numbers\n",
    "nn_pred_f=(np.concatenate(mlp_classifier_pred.reshape(len(mlp_classifier_pred),1,1)))\n",
    "\n",
    "submission = pd.DataFrame()\n",
    "submission[\"PassengerId\"] = test[\"PassengerId\"]\n",
    "submission[\"Survived\"] = nn_pred_f\n",
    "submission.to_csv(\"submission_nn3.csv\",header=True,index=False)"
   ]
  },
  {
   "cell_type": "markdown",
   "id": "9c25c018",
   "metadata": {
    "papermill": {
     "duration": 0.010729,
     "end_time": "2024-01-21T21:12:49.873719",
     "exception": false,
     "start_time": "2024-01-21T21:12:49.862990",
     "status": "completed"
    },
    "tags": []
   },
   "source": [
    "Below we take 3 of the above results and weigh them.\n",
    "It is possible to uncomment the other models e.g. Logistic Regression - when doing so it is necessary to add another position in the weights list to keep the nubmer of models used the same as the number of numbers in the list.\n",
    "\n",
    "The current weightings \"weights=[1, 2, 1]\" give SVM twice the weight of KNN of ANN."
   ]
  },
  {
   "cell_type": "code",
   "execution_count": 24,
   "id": "16fd6143",
   "metadata": {
    "execution": {
     "iopub.execute_input": "2024-01-21T21:12:49.896974Z",
     "iopub.status.busy": "2024-01-21T21:12:49.896629Z",
     "iopub.status.idle": "2024-01-21T21:12:52.309622Z",
     "shell.execute_reply": "2024-01-21T21:12:52.308293Z"
    },
    "papermill": {
     "duration": 2.428131,
     "end_time": "2024-01-21T21:12:52.312604",
     "exception": false,
     "start_time": "2024-01-21T21:12:49.884473",
     "status": "completed"
    },
    "tags": []
   },
   "outputs": [],
   "source": [
    "# Voting prediction\n",
    "from sklearn.ensemble import VotingClassifier\n",
    "\n",
    "VOTING = VotingClassifier([\n",
    "#    (\"Logistic Regression\", log_reg),\n",
    "    (\"KNN\", KNN),\n",
    "#    (\"Decision Tree\", decision_tree),\n",
    "#    (\"Random Forest\", random_forest),\n",
    "    (\"SVM\", svm_model),\n",
    "#    (\"Gradient Boosting\", gradient_boosting),\n",
    "    (\"ANN\", mlp_classifier)\n",
    "], voting=\"soft\", weights=[1, 2, 1])\n",
    "\n",
    "VOTING.fit(x_train_2, y_train.values.ravel())\n",
    "\n",
    "test_prediction = VOTING.predict(x_test_2)\n",
    "\n",
    "submission = pd.DataFrame()\n",
    "submission[\"PassengerId\"] = test[\"PassengerId\"]\n",
    "submission[\"Survived\"] = test_prediction\n",
    "submission.to_csv(\"Voting_S_1.csv\",header=True,index=False)"
   ]
  },
  {
   "cell_type": "markdown",
   "id": "d56729fe",
   "metadata": {
    "papermill": {
     "duration": 0.010839,
     "end_time": "2024-01-21T21:12:52.334588",
     "exception": false,
     "start_time": "2024-01-21T21:12:52.323749",
     "status": "completed"
    },
    "tags": []
   },
   "source": [
    "Stacking Prediction\n",
    "\n",
    "This is another way of weighing the results of the models to obtain a better result."
   ]
  },
  {
   "cell_type": "code",
   "execution_count": 25,
   "id": "ac7f5f91",
   "metadata": {
    "execution": {
     "iopub.execute_input": "2024-01-21T21:12:52.359259Z",
     "iopub.status.busy": "2024-01-21T21:12:52.358896Z",
     "iopub.status.idle": "2024-01-21T21:13:04.935249Z",
     "shell.execute_reply": "2024-01-21T21:13:04.934467Z"
    },
    "papermill": {
     "duration": 12.591777,
     "end_time": "2024-01-21T21:13:04.938022",
     "exception": false,
     "start_time": "2024-01-21T21:12:52.346245",
     "status": "completed"
    },
    "tags": []
   },
   "outputs": [],
   "source": [
    "from sklearn.ensemble import StackingClassifier\n",
    "STACK = StackingClassifier([\n",
    "#    (\"Logistic Regression\", log_reg),\n",
    "    (\"KNN\", KNN),\n",
    "#    (\"Decision Tree\", decision_tree),\n",
    "#    (\"Random Forest\", random_forest),\n",
    "    (\"SVM\", svm_model),\n",
    "#   (\"Gradient Boosting\", gradient_boosting),\n",
    "    (\"ANN\", mlp_classifier)])\n",
    "STACK.fit(x_train_2, y_train_2)\n",
    "test_stack_prediction = STACK.predict(x_test_2)\n",
    "\n",
    "submission = pd.DataFrame()\n",
    "submission[\"PassengerId\"] = test[\"PassengerId\"]\n",
    "submission[\"Survived\"] = test_stack_prediction\n",
    "submission.to_csv(\"Stacking_S_1.csv\",header=True,index=False)"
   ]
  },
  {
   "cell_type": "markdown",
   "id": "bf903f1c",
   "metadata": {
    "papermill": {
     "duration": 0.011282,
     "end_time": "2024-01-21T21:13:04.961171",
     "exception": false,
     "start_time": "2024-01-21T21:13:04.949889",
     "status": "completed"
    },
    "tags": []
   },
   "source": [
    "Ensemble all results"
   ]
  },
  {
   "cell_type": "code",
   "execution_count": 26,
   "id": "f635d7da",
   "metadata": {
    "execution": {
     "iopub.execute_input": "2024-01-21T21:13:04.986428Z",
     "iopub.status.busy": "2024-01-21T21:13:04.985208Z",
     "iopub.status.idle": "2024-01-21T21:13:04.997534Z",
     "shell.execute_reply": "2024-01-21T21:13:04.996591Z"
    },
    "papermill": {
     "duration": 0.027323,
     "end_time": "2024-01-21T21:13:05.000045",
     "exception": false,
     "start_time": "2024-01-21T21:13:04.972722",
     "status": "completed"
    },
    "tags": []
   },
   "outputs": [],
   "source": [
    "ensemble=((test_stack_prediction*0.3) + (test_prediction*0.7))\n",
    "ensemble_round = np.where((ensemble > 0.5), 1, 0)\n",
    "\n",
    "submission = pd.DataFrame()\n",
    "submission[\"PassengerId\"] = test[\"PassengerId\"]\n",
    "submission[\"Survived\"] = ensemble_round\n",
    "submission.to_csv(\"Ensemble_max_1.csv\",header=True,index=False)"
   ]
  }
 ],
 "metadata": {
  "kaggle": {
   "accelerator": "none",
   "dataSources": [
    {
     "datasetId": 4082473,
     "sourceId": 7085643,
     "sourceType": "datasetVersion"
    }
   ],
   "dockerImageVersionId": 30587,
   "isGpuEnabled": false,
   "isInternetEnabled": true,
   "language": "python",
   "sourceType": "notebook"
  },
  "kernelspec": {
   "display_name": "Python 3",
   "language": "python",
   "name": "python3"
  },
  "language_info": {
   "codemirror_mode": {
    "name": "ipython",
    "version": 3
   },
   "file_extension": ".py",
   "mimetype": "text/x-python",
   "name": "python",
   "nbconvert_exporter": "python",
   "pygments_lexer": "ipython3",
   "version": "3.10.12"
  },
  "papermill": {
   "default_parameters": {},
   "duration": 41.344194,
   "end_time": "2024-01-21T21:13:07.556787",
   "environment_variables": {},
   "exception": null,
   "input_path": "__notebook__.ipynb",
   "output_path": "__notebook__.ipynb",
   "parameters": {},
   "start_time": "2024-01-21T21:12:26.212593",
   "version": "2.4.0"
  }
 },
 "nbformat": 4,
 "nbformat_minor": 5
}
